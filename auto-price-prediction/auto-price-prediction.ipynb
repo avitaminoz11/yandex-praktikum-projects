{
 "cells": [
  {
   "cell_type": "markdown",
   "metadata": {},
   "source": [
    "# Модель для определения стоимости автомобилей с пробегом"
   ]
  },
  {
   "cell_type": "markdown",
   "metadata": {},
   "source": [
    "Сервис по продаже автомобилей с пробегом разрабатывает приложение для привлечения новых клиентов. В нём можно быстро узнать рыночную стоимость своего автомобиля. В нашем распоряжении исторические данные: технические характеристики, комплектации и цены автомобилей. Необходимо построить модель для определения стоимости. \n",
    "\n",
    "Заказчику важны:\n",
    "\n",
    "- качество предсказания;\n",
    "- скорость предсказания;\n",
    "- время обучения."
   ]
  },
  {
   "cell_type": "markdown",
   "metadata": {},
   "source": [
    "## Описание данных\n",
    "\n",
    "**Признаки**\n",
    "- DateCrawled — дата скачивания анкеты из базы\n",
    "- VehicleType — тип автомобильного кузова\n",
    "- RegistrationYear — год регистрации автомобиля\n",
    "- Gearbox — тип коробки передач\n",
    "- Power — мощность (л. с.)\n",
    "- Model — модель автомобиля\n",
    "- Kilometer — пробег (км)\n",
    "- RegistrationMonth — месяц регистрации автомобиля\n",
    "- FuelType — тип топлива\n",
    "- Brand — марка автомобиля\n",
    "- NotRepaired — была машина в ремонте или нет\n",
    "- DateCreated — дата создания анкеты\n",
    "- NumberOfPictures — количество фотографий автомобиля\n",
    "- PostalCode — почтовый индекс владельца анкеты (пользователя)\n",
    "- LastSeen — дата последней активности пользователя\n",
    "\n",
    "**Целевой признак**\n",
    "- Price — цена (евро)"
   ]
  },
  {
   "cell_type": "markdown",
   "metadata": {},
   "source": [
    "# Подготовка данных"
   ]
  },
  {
   "cell_type": "code",
   "execution_count": 1,
   "metadata": {},
   "outputs": [],
   "source": [
    "#импортируем необходимые библиотеки и инструменты\n",
    "import pandas as pd\n",
    "pd.options.mode.chained_assignment = None\n",
    "import numpy as np\n",
    "from sklearn.metrics import mean_squared_error\n",
    "from sklearn.preprocessing import StandardScaler, OrdinalEncoder\n",
    "from sklearn.model_selection import train_test_split, cross_val_score\n",
    "from sklearn.linear_model import LinearRegression\n",
    "from catboost import CatBoostRegressor\n",
    "import lightgbm as lgb\n",
    "from lightgbm import LGBMRegressor"
   ]
  },
  {
   "cell_type": "code",
   "execution_count": 2,
   "metadata": {},
   "outputs": [],
   "source": [
    "car_data = pd.read_csv('/datasets/autos.csv')"
   ]
  },
  {
   "cell_type": "code",
   "execution_count": 3,
   "metadata": {},
   "outputs": [
    {
     "name": "stdout",
     "output_type": "stream",
     "text": [
      "<class 'pandas.core.frame.DataFrame'>\n",
      "RangeIndex: 354369 entries, 0 to 354368\n",
      "Data columns (total 16 columns):\n",
      "DateCrawled          354369 non-null object\n",
      "Price                354369 non-null int64\n",
      "VehicleType          316879 non-null object\n",
      "RegistrationYear     354369 non-null int64\n",
      "Gearbox              334536 non-null object\n",
      "Power                354369 non-null int64\n",
      "Model                334664 non-null object\n",
      "Kilometer            354369 non-null int64\n",
      "RegistrationMonth    354369 non-null int64\n",
      "FuelType             321474 non-null object\n",
      "Brand                354369 non-null object\n",
      "NotRepaired          283215 non-null object\n",
      "DateCreated          354369 non-null object\n",
      "NumberOfPictures     354369 non-null int64\n",
      "PostalCode           354369 non-null int64\n",
      "LastSeen             354369 non-null object\n",
      "dtypes: int64(7), object(9)\n",
      "memory usage: 43.3+ MB\n"
     ]
    },
    {
     "data": {
      "text/plain": [
       "None"
      ]
     },
     "metadata": {},
     "output_type": "display_data"
    },
    {
     "data": {
      "text/html": [
       "<div>\n",
       "<style scoped>\n",
       "    .dataframe tbody tr th:only-of-type {\n",
       "        vertical-align: middle;\n",
       "    }\n",
       "\n",
       "    .dataframe tbody tr th {\n",
       "        vertical-align: top;\n",
       "    }\n",
       "\n",
       "    .dataframe thead th {\n",
       "        text-align: right;\n",
       "    }\n",
       "</style>\n",
       "<table border=\"1\" class=\"dataframe\">\n",
       "  <thead>\n",
       "    <tr style=\"text-align: right;\">\n",
       "      <th></th>\n",
       "      <th>DateCrawled</th>\n",
       "      <th>Price</th>\n",
       "      <th>VehicleType</th>\n",
       "      <th>RegistrationYear</th>\n",
       "      <th>Gearbox</th>\n",
       "      <th>Power</th>\n",
       "      <th>Model</th>\n",
       "      <th>Kilometer</th>\n",
       "      <th>RegistrationMonth</th>\n",
       "      <th>FuelType</th>\n",
       "      <th>Brand</th>\n",
       "      <th>NotRepaired</th>\n",
       "      <th>DateCreated</th>\n",
       "      <th>NumberOfPictures</th>\n",
       "      <th>PostalCode</th>\n",
       "      <th>LastSeen</th>\n",
       "    </tr>\n",
       "  </thead>\n",
       "  <tbody>\n",
       "    <tr>\n",
       "      <td>0</td>\n",
       "      <td>2016-03-24 11:52:17</td>\n",
       "      <td>480</td>\n",
       "      <td>NaN</td>\n",
       "      <td>1993</td>\n",
       "      <td>manual</td>\n",
       "      <td>0</td>\n",
       "      <td>golf</td>\n",
       "      <td>150000</td>\n",
       "      <td>0</td>\n",
       "      <td>petrol</td>\n",
       "      <td>volkswagen</td>\n",
       "      <td>NaN</td>\n",
       "      <td>2016-03-24 00:00:00</td>\n",
       "      <td>0</td>\n",
       "      <td>70435</td>\n",
       "      <td>2016-04-07 03:16:57</td>\n",
       "    </tr>\n",
       "    <tr>\n",
       "      <td>1</td>\n",
       "      <td>2016-03-24 10:58:45</td>\n",
       "      <td>18300</td>\n",
       "      <td>coupe</td>\n",
       "      <td>2011</td>\n",
       "      <td>manual</td>\n",
       "      <td>190</td>\n",
       "      <td>NaN</td>\n",
       "      <td>125000</td>\n",
       "      <td>5</td>\n",
       "      <td>gasoline</td>\n",
       "      <td>audi</td>\n",
       "      <td>yes</td>\n",
       "      <td>2016-03-24 00:00:00</td>\n",
       "      <td>0</td>\n",
       "      <td>66954</td>\n",
       "      <td>2016-04-07 01:46:50</td>\n",
       "    </tr>\n",
       "    <tr>\n",
       "      <td>2</td>\n",
       "      <td>2016-03-14 12:52:21</td>\n",
       "      <td>9800</td>\n",
       "      <td>suv</td>\n",
       "      <td>2004</td>\n",
       "      <td>auto</td>\n",
       "      <td>163</td>\n",
       "      <td>grand</td>\n",
       "      <td>125000</td>\n",
       "      <td>8</td>\n",
       "      <td>gasoline</td>\n",
       "      <td>jeep</td>\n",
       "      <td>NaN</td>\n",
       "      <td>2016-03-14 00:00:00</td>\n",
       "      <td>0</td>\n",
       "      <td>90480</td>\n",
       "      <td>2016-04-05 12:47:46</td>\n",
       "    </tr>\n",
       "    <tr>\n",
       "      <td>3</td>\n",
       "      <td>2016-03-17 16:54:04</td>\n",
       "      <td>1500</td>\n",
       "      <td>small</td>\n",
       "      <td>2001</td>\n",
       "      <td>manual</td>\n",
       "      <td>75</td>\n",
       "      <td>golf</td>\n",
       "      <td>150000</td>\n",
       "      <td>6</td>\n",
       "      <td>petrol</td>\n",
       "      <td>volkswagen</td>\n",
       "      <td>no</td>\n",
       "      <td>2016-03-17 00:00:00</td>\n",
       "      <td>0</td>\n",
       "      <td>91074</td>\n",
       "      <td>2016-03-17 17:40:17</td>\n",
       "    </tr>\n",
       "    <tr>\n",
       "      <td>4</td>\n",
       "      <td>2016-03-31 17:25:20</td>\n",
       "      <td>3600</td>\n",
       "      <td>small</td>\n",
       "      <td>2008</td>\n",
       "      <td>manual</td>\n",
       "      <td>69</td>\n",
       "      <td>fabia</td>\n",
       "      <td>90000</td>\n",
       "      <td>7</td>\n",
       "      <td>gasoline</td>\n",
       "      <td>skoda</td>\n",
       "      <td>no</td>\n",
       "      <td>2016-03-31 00:00:00</td>\n",
       "      <td>0</td>\n",
       "      <td>60437</td>\n",
       "      <td>2016-04-06 10:17:21</td>\n",
       "    </tr>\n",
       "  </tbody>\n",
       "</table>\n",
       "</div>"
      ],
      "text/plain": [
       "           DateCrawled  Price VehicleType  RegistrationYear Gearbox  Power  \\\n",
       "0  2016-03-24 11:52:17    480         NaN              1993  manual      0   \n",
       "1  2016-03-24 10:58:45  18300       coupe              2011  manual    190   \n",
       "2  2016-03-14 12:52:21   9800         suv              2004    auto    163   \n",
       "3  2016-03-17 16:54:04   1500       small              2001  manual     75   \n",
       "4  2016-03-31 17:25:20   3600       small              2008  manual     69   \n",
       "\n",
       "   Model  Kilometer  RegistrationMonth  FuelType       Brand NotRepaired  \\\n",
       "0   golf     150000                  0    petrol  volkswagen         NaN   \n",
       "1    NaN     125000                  5  gasoline        audi         yes   \n",
       "2  grand     125000                  8  gasoline        jeep         NaN   \n",
       "3   golf     150000                  6    petrol  volkswagen          no   \n",
       "4  fabia      90000                  7  gasoline       skoda          no   \n",
       "\n",
       "           DateCreated  NumberOfPictures  PostalCode             LastSeen  \n",
       "0  2016-03-24 00:00:00                 0       70435  2016-04-07 03:16:57  \n",
       "1  2016-03-24 00:00:00                 0       66954  2016-04-07 01:46:50  \n",
       "2  2016-03-14 00:00:00                 0       90480  2016-04-05 12:47:46  \n",
       "3  2016-03-17 00:00:00                 0       91074  2016-03-17 17:40:17  \n",
       "4  2016-03-31 00:00:00                 0       60437  2016-04-06 10:17:21  "
      ]
     },
     "execution_count": 3,
     "metadata": {},
     "output_type": "execute_result"
    }
   ],
   "source": [
    "display(car_data.info())\n",
    "car_data.head()"
   ]
  },
  {
   "cell_type": "markdown",
   "metadata": {},
   "source": [
    "При первом взгляде на датасет заметно, что в нем есть пропуски, а также много ненужных столбцов, например:\n",
    "- DateCrawled — дата скачивания анкеты из базы\n",
    "- RegistrationMonth — месяц регистрации автомобиля\n",
    "- DateCreated — дата создания анкеты\n",
    "- NumberOfPictures — количество фотографий автомобиля\n",
    "- PostalCode — почтовый индекс владельца анкеты (пользователя)\n",
    "- LastSeen — дата последней активности пользователя\n",
    "\n",
    "Избавимся от них и перейдем к обратке пропусков."
   ]
  },
  {
   "cell_type": "code",
   "execution_count": 4,
   "metadata": {},
   "outputs": [],
   "source": [
    "cars_data = car_data.drop(['DateCrawled', 'RegistrationMonth', 'DateCreated', 'NumberOfPictures', 'PostalCode', 'LastSeen'], axis='columns')"
   ]
  },
  {
   "cell_type": "code",
   "execution_count": 5,
   "metadata": {},
   "outputs": [
    {
     "name": "stdout",
     "output_type": "stream",
     "text": [
      "<class 'pandas.core.frame.DataFrame'>\n",
      "RangeIndex: 354369 entries, 0 to 354368\n",
      "Data columns (total 10 columns):\n",
      "Price               354369 non-null int64\n",
      "VehicleType         316879 non-null object\n",
      "RegistrationYear    354369 non-null int64\n",
      "Gearbox             334536 non-null object\n",
      "Power               354369 non-null int64\n",
      "Model               334664 non-null object\n",
      "Kilometer           354369 non-null int64\n",
      "FuelType            321474 non-null object\n",
      "Brand               354369 non-null object\n",
      "NotRepaired         283215 non-null object\n",
      "dtypes: int64(4), object(6)\n",
      "memory usage: 27.0+ MB\n"
     ]
    },
    {
     "data": {
      "text/plain": [
       "None"
      ]
     },
     "metadata": {},
     "output_type": "display_data"
    },
    {
     "data": {
      "text/html": [
       "<div>\n",
       "<style scoped>\n",
       "    .dataframe tbody tr th:only-of-type {\n",
       "        vertical-align: middle;\n",
       "    }\n",
       "\n",
       "    .dataframe tbody tr th {\n",
       "        vertical-align: top;\n",
       "    }\n",
       "\n",
       "    .dataframe thead th {\n",
       "        text-align: right;\n",
       "    }\n",
       "</style>\n",
       "<table border=\"1\" class=\"dataframe\">\n",
       "  <thead>\n",
       "    <tr style=\"text-align: right;\">\n",
       "      <th></th>\n",
       "      <th>Price</th>\n",
       "      <th>VehicleType</th>\n",
       "      <th>RegistrationYear</th>\n",
       "      <th>Gearbox</th>\n",
       "      <th>Power</th>\n",
       "      <th>Model</th>\n",
       "      <th>Kilometer</th>\n",
       "      <th>FuelType</th>\n",
       "      <th>Brand</th>\n",
       "      <th>NotRepaired</th>\n",
       "    </tr>\n",
       "  </thead>\n",
       "  <tbody>\n",
       "    <tr>\n",
       "      <td>0</td>\n",
       "      <td>480</td>\n",
       "      <td>NaN</td>\n",
       "      <td>1993</td>\n",
       "      <td>manual</td>\n",
       "      <td>0</td>\n",
       "      <td>golf</td>\n",
       "      <td>150000</td>\n",
       "      <td>petrol</td>\n",
       "      <td>volkswagen</td>\n",
       "      <td>NaN</td>\n",
       "    </tr>\n",
       "    <tr>\n",
       "      <td>1</td>\n",
       "      <td>18300</td>\n",
       "      <td>coupe</td>\n",
       "      <td>2011</td>\n",
       "      <td>manual</td>\n",
       "      <td>190</td>\n",
       "      <td>NaN</td>\n",
       "      <td>125000</td>\n",
       "      <td>gasoline</td>\n",
       "      <td>audi</td>\n",
       "      <td>yes</td>\n",
       "    </tr>\n",
       "    <tr>\n",
       "      <td>2</td>\n",
       "      <td>9800</td>\n",
       "      <td>suv</td>\n",
       "      <td>2004</td>\n",
       "      <td>auto</td>\n",
       "      <td>163</td>\n",
       "      <td>grand</td>\n",
       "      <td>125000</td>\n",
       "      <td>gasoline</td>\n",
       "      <td>jeep</td>\n",
       "      <td>NaN</td>\n",
       "    </tr>\n",
       "    <tr>\n",
       "      <td>3</td>\n",
       "      <td>1500</td>\n",
       "      <td>small</td>\n",
       "      <td>2001</td>\n",
       "      <td>manual</td>\n",
       "      <td>75</td>\n",
       "      <td>golf</td>\n",
       "      <td>150000</td>\n",
       "      <td>petrol</td>\n",
       "      <td>volkswagen</td>\n",
       "      <td>no</td>\n",
       "    </tr>\n",
       "    <tr>\n",
       "      <td>4</td>\n",
       "      <td>3600</td>\n",
       "      <td>small</td>\n",
       "      <td>2008</td>\n",
       "      <td>manual</td>\n",
       "      <td>69</td>\n",
       "      <td>fabia</td>\n",
       "      <td>90000</td>\n",
       "      <td>gasoline</td>\n",
       "      <td>skoda</td>\n",
       "      <td>no</td>\n",
       "    </tr>\n",
       "  </tbody>\n",
       "</table>\n",
       "</div>"
      ],
      "text/plain": [
       "   Price VehicleType  RegistrationYear Gearbox  Power  Model  Kilometer  \\\n",
       "0    480         NaN              1993  manual      0   golf     150000   \n",
       "1  18300       coupe              2011  manual    190    NaN     125000   \n",
       "2   9800         suv              2004    auto    163  grand     125000   \n",
       "3   1500       small              2001  manual     75   golf     150000   \n",
       "4   3600       small              2008  manual     69  fabia      90000   \n",
       "\n",
       "   FuelType       Brand NotRepaired  \n",
       "0    petrol  volkswagen         NaN  \n",
       "1  gasoline        audi         yes  \n",
       "2  gasoline        jeep         NaN  \n",
       "3    petrol  volkswagen          no  \n",
       "4  gasoline       skoda          no  "
      ]
     },
     "execution_count": 5,
     "metadata": {},
     "output_type": "execute_result"
    }
   ],
   "source": [
    "display(cars_data.info())\n",
    "cars_data.head()"
   ]
  },
  {
   "cell_type": "markdown",
   "metadata": {},
   "source": [
    "Пропуски есть в столбцах `VehicleType`, `Gearbox`, `Model`, `FuelType`, `NotRepaired`. Заменим NaN-ы нетипичным значением `unk` - модель воспримет их как отдельную категорию."
   ]
  },
  {
   "cell_type": "code",
   "execution_count": 6,
   "metadata": {},
   "outputs": [
    {
     "data": {
      "text/html": [
       "<div>\n",
       "<style scoped>\n",
       "    .dataframe tbody tr th:only-of-type {\n",
       "        vertical-align: middle;\n",
       "    }\n",
       "\n",
       "    .dataframe tbody tr th {\n",
       "        vertical-align: top;\n",
       "    }\n",
       "\n",
       "    .dataframe thead th {\n",
       "        text-align: right;\n",
       "    }\n",
       "</style>\n",
       "<table border=\"1\" class=\"dataframe\">\n",
       "  <thead>\n",
       "    <tr style=\"text-align: right;\">\n",
       "      <th></th>\n",
       "      <th>Price</th>\n",
       "      <th>VehicleType</th>\n",
       "      <th>RegistrationYear</th>\n",
       "      <th>Gearbox</th>\n",
       "      <th>Power</th>\n",
       "      <th>Model</th>\n",
       "      <th>Kilometer</th>\n",
       "      <th>FuelType</th>\n",
       "      <th>Brand</th>\n",
       "      <th>NotRepaired</th>\n",
       "    </tr>\n",
       "  </thead>\n",
       "  <tbody>\n",
       "    <tr>\n",
       "      <td>0</td>\n",
       "      <td>480</td>\n",
       "      <td>unk</td>\n",
       "      <td>1993</td>\n",
       "      <td>manual</td>\n",
       "      <td>0</td>\n",
       "      <td>golf</td>\n",
       "      <td>150000</td>\n",
       "      <td>petrol</td>\n",
       "      <td>volkswagen</td>\n",
       "      <td>unk</td>\n",
       "    </tr>\n",
       "    <tr>\n",
       "      <td>1</td>\n",
       "      <td>18300</td>\n",
       "      <td>coupe</td>\n",
       "      <td>2011</td>\n",
       "      <td>manual</td>\n",
       "      <td>190</td>\n",
       "      <td>unk</td>\n",
       "      <td>125000</td>\n",
       "      <td>gasoline</td>\n",
       "      <td>audi</td>\n",
       "      <td>yes</td>\n",
       "    </tr>\n",
       "    <tr>\n",
       "      <td>2</td>\n",
       "      <td>9800</td>\n",
       "      <td>suv</td>\n",
       "      <td>2004</td>\n",
       "      <td>auto</td>\n",
       "      <td>163</td>\n",
       "      <td>grand</td>\n",
       "      <td>125000</td>\n",
       "      <td>gasoline</td>\n",
       "      <td>jeep</td>\n",
       "      <td>unk</td>\n",
       "    </tr>\n",
       "    <tr>\n",
       "      <td>3</td>\n",
       "      <td>1500</td>\n",
       "      <td>small</td>\n",
       "      <td>2001</td>\n",
       "      <td>manual</td>\n",
       "      <td>75</td>\n",
       "      <td>golf</td>\n",
       "      <td>150000</td>\n",
       "      <td>petrol</td>\n",
       "      <td>volkswagen</td>\n",
       "      <td>no</td>\n",
       "    </tr>\n",
       "    <tr>\n",
       "      <td>4</td>\n",
       "      <td>3600</td>\n",
       "      <td>small</td>\n",
       "      <td>2008</td>\n",
       "      <td>manual</td>\n",
       "      <td>69</td>\n",
       "      <td>fabia</td>\n",
       "      <td>90000</td>\n",
       "      <td>gasoline</td>\n",
       "      <td>skoda</td>\n",
       "      <td>no</td>\n",
       "    </tr>\n",
       "  </tbody>\n",
       "</table>\n",
       "</div>"
      ],
      "text/plain": [
       "   Price VehicleType  RegistrationYear Gearbox  Power  Model  Kilometer  \\\n",
       "0    480         unk              1993  manual      0   golf     150000   \n",
       "1  18300       coupe              2011  manual    190    unk     125000   \n",
       "2   9800         suv              2004    auto    163  grand     125000   \n",
       "3   1500       small              2001  manual     75   golf     150000   \n",
       "4   3600       small              2008  manual     69  fabia      90000   \n",
       "\n",
       "   FuelType       Brand NotRepaired  \n",
       "0    petrol  volkswagen         unk  \n",
       "1  gasoline        audi         yes  \n",
       "2  gasoline        jeep         unk  \n",
       "3    petrol  volkswagen          no  \n",
       "4  gasoline       skoda          no  "
      ]
     },
     "execution_count": 6,
     "metadata": {},
     "output_type": "execute_result"
    }
   ],
   "source": [
    "cars_data.fillna(value='unk', inplace=True)\n",
    "cars_data.head()"
   ]
  },
  {
   "cell_type": "markdown",
   "metadata": {},
   "source": [
    "Проверим датасет на наличие выбросов."
   ]
  },
  {
   "cell_type": "code",
   "execution_count": 7,
   "metadata": {},
   "outputs": [
    {
     "data": {
      "text/plain": [
       "<matplotlib.axes._subplots.AxesSubplot at 0x7fd83c5f9d50>"
      ]
     },
     "execution_count": 7,
     "metadata": {},
     "output_type": "execute_result"
    },
    {
     "data": {
      "image/png": "[encoded data removed]",
      "text/plain": [
       "<Figure size 432x288 with 1 Axes>"
      ]
     },
     "metadata": {
      "needs_background": "light"
     },
     "output_type": "display_data"
    }
   ],
   "source": [
    "cars_data.boxplot()"
   ]
  },
  {
   "cell_type": "markdown",
   "metadata": {},
   "source": [
    "Пробег и цену трогать не будем - здесь значения могут быть самыми разными. А вот выбросы в столбцах `RegistrationYear` и `Power` интересны - например, мощностью больше 1000 лошадиных сил могут похвастаться только спротивные автомобили, а год регистрации не может быть больше 2020 и меньше 1931, когда был зарегистрирован первый автомобиль."
   ]
  },
  {
   "cell_type": "code",
   "execution_count": 8,
   "metadata": {},
   "outputs": [],
   "source": [
    "#допустим, что в датасете все же есть спортивные автомобили\n",
    "cars_data = cars_data.query('RegistrationYear <= 2020 and RegistrationYear >= 1931 and Power <= 1200')"
   ]
  },
  {
   "cell_type": "code",
   "execution_count": 9,
   "metadata": {},
   "outputs": [
    {
     "data": {
      "text/plain": [
       "(353828, 10)"
      ]
     },
     "execution_count": 9,
     "metadata": {},
     "output_type": "execute_result"
    }
   ],
   "source": [
    "cars_data.shape"
   ]
  },
  {
   "cell_type": "markdown",
   "metadata": {},
   "source": [
    "# Обучение и анализ моделей"
   ]
  },
  {
   "cell_type": "markdown",
   "metadata": {},
   "source": [
    "Задействуем технику прямого кодирования, чтобы преобразовать категориальные признаки в численные. "
   ]
  },
  {
   "cell_type": "code",
   "execution_count": 10,
   "metadata": {},
   "outputs": [],
   "source": [
    "cars_data_ohe = pd.get_dummies(cars_data, drop_first=True)"
   ]
  },
  {
   "cell_type": "markdown",
   "metadata": {},
   "source": [
    "Подготовим признаки и целевой признак, а затем разделим данные на обучающую и тестовую выборки."
   ]
  },
  {
   "cell_type": "code",
   "execution_count": 11,
   "metadata": {},
   "outputs": [],
   "source": [
    "#признаки для обучения модели линейной регрессии\n",
    "features_lr = cars_data_ohe.drop(['Price'], axis = 1)\n",
    "target_lr = cars_data_ohe['Price']"
   ]
  },
  {
   "cell_type": "markdown",
   "metadata": {},
   "source": [
    "Преобразуем столбцы с категориальными признаки в тип данных *category*"
   ]
  },
  {
   "cell_type": "code",
   "execution_count": 12,
   "metadata": {},
   "outputs": [],
   "source": [
    "categorical = ['VehicleType', 'Gearbox', 'Model', 'FuelType', 'Brand', 'NotRepaired']"
   ]
  },
  {
   "cell_type": "code",
   "execution_count": 13,
   "metadata": {},
   "outputs": [],
   "source": [
    "for col in categorical:\n",
    "    cars_data[col] = cars_data[col].astype('category')"
   ]
  },
  {
   "cell_type": "code",
   "execution_count": 14,
   "metadata": {},
   "outputs": [],
   "source": [
    "#признаки для обучения моделей CBR и LGBM\n",
    "features = cars_data.drop(['Price'], axis = 1)\n",
    "target = cars_data['Price']"
   ]
  },
  {
   "cell_type": "code",
   "execution_count": 15,
   "metadata": {},
   "outputs": [],
   "source": [
    "features_train_lr, features_test_lr, target_train_lr, target_test_lr = train_test_split(features_lr, target_lr, test_size=.25, random_state=12345)"
   ]
  },
  {
   "cell_type": "code",
   "execution_count": 16,
   "metadata": {},
   "outputs": [],
   "source": [
    "features_train, features_test, target_train, target_test = train_test_split(features, target, test_size=.25, random_state=12345)"
   ]
  },
  {
   "cell_type": "code",
   "execution_count": 17,
   "metadata": {},
   "outputs": [],
   "source": [
    "#напишем формулу для получения значения метрики RMSE\n",
    "def rmse (target, predictions):\n",
    "    mse = mean_squared_error(target, predictions)\n",
    "    rmse = mse ** 0.5\n",
    "    return rmse"
   ]
  },
  {
   "cell_type": "markdown",
   "metadata": {},
   "source": [
    "Обучим и проанализируем время работы и качество моделей."
   ]
  },
  {
   "cell_type": "markdown",
   "metadata": {},
   "source": [
    "### LinearRegression"
   ]
  },
  {
   "cell_type": "code",
   "execution_count": 18,
   "metadata": {},
   "outputs": [],
   "source": [
    "lr_model = LinearRegression()"
   ]
  },
  {
   "cell_type": "code",
   "execution_count": 19,
   "metadata": {},
   "outputs": [
    {
     "name": "stdout",
     "output_type": "stream",
     "text": [
      "CPU times: user 23.4 s, sys: 9.56 s, total: 33 s\n",
      "Wall time: 33.2 s\n"
     ]
    },
    {
     "data": {
      "text/plain": [
       "LinearRegression(copy_X=True, fit_intercept=True, n_jobs=None, normalize=False)"
      ]
     },
     "execution_count": 19,
     "metadata": {},
     "output_type": "execute_result"
    }
   ],
   "source": [
    "%%time\n",
    "lr_model.fit(features_train_lr, target_train_lr)"
   ]
  },
  {
   "cell_type": "code",
   "execution_count": 36,
   "metadata": {},
   "outputs": [
    {
     "name": "stdout",
     "output_type": "stream",
     "text": [
      "CPU times: user 170 ms, sys: 150 ms, total: 320 ms\n",
      "Wall time: 273 ms\n"
     ]
    }
   ],
   "source": [
    "%%time\n",
    "predicted_lr = pd.Series(lr_model.predict(features_test_lr))"
   ]
  },
  {
   "cell_type": "code",
   "execution_count": 21,
   "metadata": {},
   "outputs": [
    {
     "data": {
      "text/plain": [
       "2786.7709799955005"
      ]
     },
     "execution_count": 21,
     "metadata": {},
     "output_type": "execute_result"
    }
   ],
   "source": [
    "rmse(target_test_lr, predicted_lr)"
   ]
  },
  {
   "cell_type": "markdown",
   "metadata": {},
   "source": [
    "### CatBoostRegressor"
   ]
  },
  {
   "cell_type": "code",
   "execution_count": 22,
   "metadata": {},
   "outputs": [
    {
     "name": "stdout",
     "output_type": "stream",
     "text": [
      "0:\tlearn: 4402.2802324\ttotal: 391ms\tremaining: 3.52s\n",
      "9:\tlearn: 3706.9180528\ttotal: 3.6s\tremaining: 0us\n",
      "0:\tlearn: 4431.0023641\ttotal: 313ms\tremaining: 2.82s\n",
      "9:\tlearn: 3732.5483001\ttotal: 3.39s\tremaining: 0us\n",
      "Score при iterations = 10 : [0.31996929 0.31827532]\n",
      "Score mean = 0.3191223044585284\n",
      "\n",
      "0:\tlearn: 4402.2802324\ttotal: 314ms\tremaining: 10.7s\n",
      "10:\tlearn: 3642.9599504\ttotal: 3.7s\tremaining: 8.08s\n",
      "20:\tlearn: 3121.5851039\ttotal: 7s\tremaining: 4.67s\n",
      "30:\tlearn: 2773.2330590\ttotal: 10.4s\tremaining: 1.34s\n",
      "34:\tlearn: 2663.9384032\ttotal: 11.8s\tremaining: 0us\n",
      "0:\tlearn: 4431.0023641\ttotal: 392ms\tremaining: 13.3s\n",
      "10:\tlearn: 3668.0902962\ttotal: 3.79s\tremaining: 8.27s\n",
      "20:\tlearn: 3144.0813061\ttotal: 7.18s\tremaining: 4.79s\n",
      "30:\tlearn: 2789.9046888\ttotal: 10.6s\tremaining: 1.36s\n",
      "34:\tlearn: 2680.6278170\ttotal: 12.1s\tremaining: 0us\n",
      "Score при iterations = 35 : [0.64837818 0.64660727]\n",
      "Score mean = 0.647492725934678\n",
      "\n",
      "0:\tlearn: 4402.2802324\ttotal: 285ms\tremaining: 16.8s\n",
      "10:\tlearn: 3642.9599504\ttotal: 3.87s\tremaining: 17.2s\n",
      "20:\tlearn: 3121.5851039\ttotal: 7.18s\tremaining: 13.3s\n",
      "30:\tlearn: 2773.2330590\ttotal: 10.6s\tremaining: 9.88s\n",
      "40:\tlearn: 2518.2162724\ttotal: 14s\tremaining: 6.47s\n",
      "50:\tlearn: 2341.7263281\ttotal: 17.3s\tremaining: 3.06s\n",
      "59:\tlearn: 2226.2669274\ttotal: 20.3s\tremaining: 0us\n",
      "0:\tlearn: 4431.0023641\ttotal: 305ms\tremaining: 18s\n",
      "10:\tlearn: 3668.0902962\ttotal: 3.78s\tremaining: 16.8s\n",
      "20:\tlearn: 3144.0813061\ttotal: 7.09s\tremaining: 13.2s\n",
      "30:\tlearn: 2789.9046888\ttotal: 10.5s\tremaining: 9.8s\n",
      "40:\tlearn: 2533.8303773\ttotal: 14s\tremaining: 6.48s\n",
      "50:\tlearn: 2355.8135883\ttotal: 17.5s\tremaining: 3.08s\n",
      "59:\tlearn: 2247.2458048\ttotal: 20.6s\tremaining: 0us\n",
      "Score при iterations = 60 : [0.75301137 0.75025591]\n",
      "Score mean = 0.7516336424522324\n",
      "\n",
      "0:\tlearn: 4402.2802324\ttotal: 288ms\tremaining: 24.2s\n",
      "10:\tlearn: 3642.9599504\ttotal: 3.85s\tremaining: 25.9s\n",
      "20:\tlearn: 3121.5851039\ttotal: 7.34s\tremaining: 22.4s\n",
      "30:\tlearn: 2773.2330590\ttotal: 10.8s\tremaining: 18.7s\n",
      "40:\tlearn: 2518.2162724\ttotal: 14.2s\tremaining: 15.3s\n",
      "50:\tlearn: 2341.7263281\ttotal: 17.6s\tremaining: 11.7s\n",
      "60:\tlearn: 2214.9388395\ttotal: 21.1s\tremaining: 8.3s\n",
      "70:\tlearn: 2124.4845483\ttotal: 24.5s\tremaining: 4.83s\n",
      "80:\tlearn: 2051.2979490\ttotal: 27.9s\tremaining: 1.38s\n",
      "84:\tlearn: 2029.2168163\ttotal: 29.3s\tremaining: 0us\n",
      "0:\tlearn: 4431.0023641\ttotal: 307ms\tremaining: 25.7s\n",
      "10:\tlearn: 3668.0902962\ttotal: 3.8s\tremaining: 25.6s\n",
      "20:\tlearn: 3144.0813061\ttotal: 7.1s\tremaining: 21.6s\n",
      "30:\tlearn: 2789.9046888\ttotal: 10.5s\tremaining: 18.3s\n",
      "40:\tlearn: 2533.8303773\ttotal: 14s\tremaining: 15s\n",
      "50:\tlearn: 2355.8135883\ttotal: 17.3s\tremaining: 11.6s\n",
      "60:\tlearn: 2237.7506063\ttotal: 20.7s\tremaining: 8.13s\n",
      "70:\tlearn: 2144.8281948\ttotal: 24s\tremaining: 4.74s\n",
      "80:\tlearn: 2076.9100653\ttotal: 27.3s\tremaining: 1.35s\n",
      "84:\tlearn: 2053.5973681\ttotal: 28.6s\tremaining: 0us\n",
      "Score при iterations = 85 : [0.79256624 0.79038255]\n",
      "Score mean = 0.7914743932666477\n",
      "\n",
      "0:\tlearn: 4402.2802324\ttotal: 245ms\tremaining: 26.7s\n",
      "10:\tlearn: 3642.9599504\ttotal: 3.72s\tremaining: 33.5s\n",
      "20:\tlearn: 3121.5851039\ttotal: 7.13s\tremaining: 30.2s\n",
      "30:\tlearn: 2773.2330590\ttotal: 10.4s\tremaining: 26.6s\n",
      "40:\tlearn: 2518.2162724\ttotal: 13.7s\tremaining: 23.1s\n",
      "50:\tlearn: 2341.7263281\ttotal: 17s\tremaining: 19.7s\n",
      "60:\tlearn: 2214.9388395\ttotal: 20.4s\tremaining: 16.4s\n",
      "70:\tlearn: 2124.4845483\ttotal: 23.7s\tremaining: 13s\n",
      "80:\tlearn: 2051.2979490\ttotal: 27s\tremaining: 9.66s\n",
      "90:\tlearn: 2003.1062974\ttotal: 30.3s\tremaining: 6.32s\n",
      "100:\tlearn: 1967.4646873\ttotal: 33.7s\tremaining: 3s\n",
      "109:\tlearn: 1943.4858354\ttotal: 36.7s\tremaining: 0us\n",
      "0:\tlearn: 4431.0023641\ttotal: 308ms\tremaining: 33.6s\n",
      "10:\tlearn: 3668.0902962\ttotal: 3.7s\tremaining: 33.3s\n",
      "20:\tlearn: 3144.0813061\ttotal: 6.99s\tremaining: 29.6s\n",
      "30:\tlearn: 2789.9046888\ttotal: 10.4s\tremaining: 26.4s\n",
      "40:\tlearn: 2533.8303773\ttotal: 13.7s\tremaining: 23s\n",
      "50:\tlearn: 2355.8135883\ttotal: 17.1s\tremaining: 19.7s\n",
      "60:\tlearn: 2237.7506063\ttotal: 20.5s\tremaining: 16.4s\n",
      "70:\tlearn: 2144.8281948\ttotal: 23.7s\tremaining: 13s\n",
      "80:\tlearn: 2076.9100653\ttotal: 27s\tremaining: 9.68s\n",
      "90:\tlearn: 2025.0190940\ttotal: 30.3s\tremaining: 6.33s\n",
      "100:\tlearn: 1988.7128867\ttotal: 33.7s\tremaining: 3s\n",
      "109:\tlearn: 1964.0139552\ttotal: 36.6s\tremaining: 0us\n",
      "Score при iterations = 110 : [0.80765082 0.80714325]\n",
      "Score mean = 0.8073970359228566\n",
      "\n"
     ]
    }
   ],
   "source": [
    "#построим модель CBR и исследуем её работу с различными значениями гиперпараметра iterations с помощью кросс-валидации\n",
    "for iteration in range(10, 111, 25):\n",
    "    cat_model = CatBoostRegressor(loss_function=\"RMSE\", iterations=iteration, depth=10, verbose=10, cat_features=categorical)\n",
    "    cat_cv = cross_val_score(cat_model, features_train, target_train, cv=2)\n",
    "    print(\"Score при iterations =\", iteration, \":\", cat_cv)\n",
    "    print(\"Score mean =\", sum(cat_cv)/len(cat_cv))\n",
    "    print()"
   ]
  },
  {
   "cell_type": "code",
   "execution_count": 23,
   "metadata": {},
   "outputs": [
    {
     "name": "stdout",
     "output_type": "stream",
     "text": [
      "0:\tlearn: 4416.5875559\ttotal: 123ms\tremaining: 2.33s\n",
      "10:\tlearn: 3752.7601409\ttotal: 2.13s\tremaining: 1.74s\n",
      "19:\tlearn: 3328.6877762\ttotal: 3.92s\tremaining: 0us\n",
      "0:\tlearn: 4444.2379532\ttotal: 123ms\tremaining: 2.33s\n",
      "10:\tlearn: 3776.3090329\ttotal: 2.03s\tremaining: 1.66s\n",
      "19:\tlearn: 3340.6146409\ttotal: 3.81s\tremaining: 0us\n",
      "Score при depth = 5 : [0.45251544 0.45299916]\n",
      "Score mean = 0.45275730031755945\n",
      "\n",
      "0:\tlearn: 4406.9675553\ttotal: 196ms\tremaining: 3.73s\n",
      "10:\tlearn: 3689.1461891\ttotal: 2.89s\tremaining: 2.37s\n",
      "19:\tlearn: 3240.4432253\ttotal: 5.27s\tremaining: 0us\n",
      "0:\tlearn: 4436.3507930\ttotal: 214ms\tremaining: 4.07s\n",
      "10:\tlearn: 3711.3209714\ttotal: 2.89s\tremaining: 2.37s\n",
      "19:\tlearn: 3256.6330508\ttotal: 5.19s\tremaining: 0us\n",
      "Score при depth = 7 : [0.48138363 0.48038876]\n",
      "Score mean = 0.48088619631565255\n",
      "\n",
      "0:\tlearn: 4403.7050902\ttotal: 300ms\tremaining: 5.71s\n",
      "10:\tlearn: 3657.2681588\ttotal: 3.69s\tremaining: 3.02s\n",
      "19:\tlearn: 3189.7753034\ttotal: 6.68s\tremaining: 0us\n",
      "0:\tlearn: 4432.5990579\ttotal: 238ms\tremaining: 4.51s\n",
      "10:\tlearn: 3681.1968875\ttotal: 3.72s\tremaining: 3.04s\n",
      "19:\tlearn: 3206.7086905\ttotal: 6.62s\tremaining: 0us\n",
      "Score при depth = 9 : [0.49707611 0.49587255]\n",
      "Score mean = 0.4964743268068264\n",
      "\n",
      "0:\tlearn: 4401.7213851\ttotal: 349ms\tremaining: 6.63s\n",
      "10:\tlearn: 3635.2908507\ttotal: 4.53s\tremaining: 3.71s\n",
      "19:\tlearn: 3151.8362994\ttotal: 8.13s\tremaining: 0us\n",
      "0:\tlearn: 4430.5989295\ttotal: 484ms\tremaining: 9.2s\n",
      "10:\tlearn: 3657.7002431\ttotal: 4.59s\tremaining: 3.76s\n",
      "19:\tlearn: 3171.7118679\ttotal: 8.28s\tremaining: 0us\n",
      "Score при depth = 11 : [0.5079235  0.50637464]\n",
      "Score mean = 0.5071490697819772\n",
      "\n",
      "0:\tlearn: 4399.2933683\ttotal: 893ms\tremaining: 17s\n",
      "10:\tlearn: 3621.3158063\ttotal: 7.57s\tremaining: 6.19s\n",
      "19:\tlearn: 3132.6299261\ttotal: 13.5s\tremaining: 0us\n",
      "0:\tlearn: 4428.9586211\ttotal: 630ms\tremaining: 12s\n",
      "10:\tlearn: 3640.1285834\ttotal: 7.24s\tremaining: 5.92s\n",
      "19:\tlearn: 3147.4383606\ttotal: 12.8s\tremaining: 0us\n",
      "Score при depth = 13 : [0.51251121 0.5129784 ]\n",
      "Score mean = 0.5127448031388124\n",
      "\n",
      "0:\tlearn: 4397.8859282\ttotal: 2.06s\tremaining: 39.1s\n",
      "10:\tlearn: 3607.6369113\ttotal: 16.5s\tremaining: 13.5s\n",
      "19:\tlearn: 3112.3280685\ttotal: 30.3s\tremaining: 0us\n",
      "0:\tlearn: 4427.7733073\ttotal: 1.54s\tremaining: 29.2s\n",
      "10:\tlearn: 3637.4836478\ttotal: 15s\tremaining: 12.3s\n",
      "19:\tlearn: 3138.0549773\ttotal: 29s\tremaining: 0us\n",
      "Score при depth = 15 : [0.51771287 0.51454775]\n",
      "Score mean = 0.5161303096070228\n",
      "\n"
     ]
    }
   ],
   "source": [
    "#исследуем работу модели с различными значениями гиперпараметра depth\n",
    "for depth in range(5, 16, 2):\n",
    "    cat_model = CatBoostRegressor(loss_function=\"RMSE\", iterations=20, depth=depth, verbose=10, cat_features=categorical)\n",
    "    cat_cv = cross_val_score(cat_model, features_train, target_train, cv=2)\n",
    "    print(\"Score при depth =\", depth, \":\", cat_cv)\n",
    "    print(\"Score mean =\", sum(cat_cv)/len(cat_cv))\n",
    "    print()"
   ]
  },
  {
   "cell_type": "markdown",
   "metadata": {},
   "source": [
    "Можно отметить, что при увеличении iterations модель сначала дает намного бОльшую точность (в 2 раза), затем увеличение точности начинает снижаться, до тех пор, пока разница не становится совсем незначительной. Нужно помнить, что скорость обучения модели для нас важна так же, как и точность ее работы, поэтому не будем жертвовать скоростью и выберем оптимальный вариант с числом iterations 85.\n",
    "\n",
    "При изменении параметра depth прослеживается такая же тенденция, поэтому оптимальной глубиной будет число 13."
   ]
  },
  {
   "cell_type": "markdown",
   "metadata": {},
   "source": [
    "Измерим время обучения и работы модели со значением iterations = 90 и depth = 11."
   ]
  },
  {
   "cell_type": "code",
   "execution_count": 24,
   "metadata": {},
   "outputs": [],
   "source": [
    "cat_model_90_11= CatBoostRegressor(loss_function=\"RMSE\", iterations=90, depth=11, verbose=10)"
   ]
  },
  {
   "cell_type": "code",
   "execution_count": 25,
   "metadata": {},
   "outputs": [
    {
     "name": "stdout",
     "output_type": "stream",
     "text": [
      "0:\tlearn: 4414.1443522\ttotal: 688ms\tremaining: 1m 1s\n",
      "10:\tlearn: 3640.2660736\ttotal: 7.58s\tremaining: 54.5s\n",
      "20:\tlearn: 3113.1019108\ttotal: 14.4s\tremaining: 47.2s\n",
      "30:\tlearn: 2757.6064213\ttotal: 21.1s\tremaining: 40.1s\n",
      "40:\tlearn: 2507.5453846\ttotal: 27.7s\tremaining: 33.2s\n",
      "50:\tlearn: 2322.1284447\ttotal: 34.3s\tremaining: 26.3s\n",
      "60:\tlearn: 2195.6551522\ttotal: 41.1s\tremaining: 19.6s\n",
      "70:\tlearn: 2104.5056862\ttotal: 47.7s\tremaining: 12.8s\n",
      "80:\tlearn: 2038.8988468\ttotal: 54.4s\tremaining: 6.04s\n",
      "89:\tlearn: 1990.5771005\ttotal: 1m\tremaining: 0us\n",
      "CPU times: user 56 s, sys: 5.58 s, total: 1min 1s\n",
      "Wall time: 1min 2s\n"
     ]
    },
    {
     "data": {
      "text/plain": [
       "<catboost.core.CatBoostRegressor at 0x7fd83b987510>"
      ]
     },
     "execution_count": 25,
     "metadata": {},
     "output_type": "execute_result"
    }
   ],
   "source": [
    "%%time\n",
    "cat_model_90_11.fit(features_train, target_train, cat_features=categorical)"
   ]
  },
  {
   "cell_type": "code",
   "execution_count": 26,
   "metadata": {},
   "outputs": [
    {
     "name": "stdout",
     "output_type": "stream",
     "text": [
      "CPU times: user 282 ms, sys: 10.4 ms, total: 292 ms\n",
      "Wall time: 244 ms\n"
     ]
    }
   ],
   "source": [
    "%%time\n",
    "predicted_cat_90_11 = pd.Series(cat_model_90_11.predict(features_test))"
   ]
  },
  {
   "cell_type": "code",
   "execution_count": 27,
   "metadata": {},
   "outputs": [
    {
     "data": {
      "text/plain": [
       "1993.2263874940566"
      ]
     },
     "execution_count": 27,
     "metadata": {},
     "output_type": "execute_result"
    }
   ],
   "source": [
    "rmse(target_test, predicted_cat_90_11)"
   ]
  },
  {
   "cell_type": "markdown",
   "metadata": {},
   "source": [
    "### LightGBM"
   ]
  },
  {
   "cell_type": "code",
   "execution_count": 28,
   "metadata": {},
   "outputs": [],
   "source": [
    "params = {\n",
    "    'boosting_type': 'gbdt',\n",
    "    'objective': 'regression',\n",
    "    'metric': 'rmse',\n",
    "    'max_depth': 6, \n",
    "    'learning_rate': 0.1,\n",
    "    'verbose': 0\n",
    "}"
   ]
  },
  {
   "cell_type": "code",
   "execution_count": 29,
   "metadata": {},
   "outputs": [],
   "source": [
    "lgbm_model = LGBMRegressor(**params)"
   ]
  },
  {
   "cell_type": "code",
   "execution_count": 30,
   "metadata": {},
   "outputs": [
    {
     "name": "stdout",
     "output_type": "stream",
     "text": [
      "CPU times: user 3min 19s, sys: 490 ms, total: 3min 19s\n",
      "Wall time: 3min 21s\n"
     ]
    },
    {
     "data": {
      "text/plain": [
       "LGBMRegressor(boosting_type='gbdt', class_weight=None, colsample_bytree=1.0,\n",
       "              importance_type='split', learning_rate=0.1, max_depth=6,\n",
       "              metric='rmse', min_child_samples=20, min_child_weight=0.001,\n",
       "              min_split_gain=0.0, n_estimators=100, n_jobs=-1, num_leaves=31,\n",
       "              objective='regression', random_state=None, reg_alpha=0.0,\n",
       "              reg_lambda=0.0, silent=True, subsample=1.0,\n",
       "              subsample_for_bin=200000, subsample_freq=0, verbose=0)"
      ]
     },
     "execution_count": 30,
     "metadata": {},
     "output_type": "execute_result"
    }
   ],
   "source": [
    "%%time\n",
    "lgbm_model.fit(features_train, target_train)"
   ]
  },
  {
   "cell_type": "code",
   "execution_count": 31,
   "metadata": {},
   "outputs": [
    {
     "name": "stdout",
     "output_type": "stream",
     "text": [
      "CPU times: user 1.24 s, sys: 0 ns, total: 1.24 s\n",
      "Wall time: 1.22 s\n"
     ]
    }
   ],
   "source": [
    "%%time\n",
    "predictions_lgbm = lgbm_model.predict(features_test)"
   ]
  },
  {
   "cell_type": "code",
   "execution_count": 32,
   "metadata": {},
   "outputs": [
    {
     "data": {
      "text/plain": [
       "1772.6379449873602"
      ]
     },
     "execution_count": 32,
     "metadata": {},
     "output_type": "execute_result"
    }
   ],
   "source": [
    "rmse(target_test, predictions_lgbm)"
   ]
  },
  {
   "cell_type": "markdown",
   "metadata": {},
   "source": [
    "## Вывод"
   ]
  },
  {
   "cell_type": "markdown",
   "metadata": {},
   "source": [
    "Сравним результаты."
   ]
  },
  {
   "cell_type": "code",
   "execution_count": 37,
   "metadata": {},
   "outputs": [
    {
     "data": {
      "text/html": [
       "<div>\n",
       "<style scoped>\n",
       "    .dataframe tbody tr th:only-of-type {\n",
       "        vertical-align: middle;\n",
       "    }\n",
       "\n",
       "    .dataframe tbody tr th {\n",
       "        vertical-align: top;\n",
       "    }\n",
       "\n",
       "    .dataframe thead th {\n",
       "        text-align: right;\n",
       "    }\n",
       "</style>\n",
       "<table border=\"1\" class=\"dataframe\">\n",
       "  <thead>\n",
       "    <tr style=\"text-align: right;\">\n",
       "      <th></th>\n",
       "      <th>model</th>\n",
       "      <th>train_time, sec</th>\n",
       "      <th>work_time, msec</th>\n",
       "      <th>rmse</th>\n",
       "    </tr>\n",
       "  </thead>\n",
       "  <tbody>\n",
       "    <tr>\n",
       "      <td>0</td>\n",
       "      <td>LR</td>\n",
       "      <td>33.2</td>\n",
       "      <td>273.0</td>\n",
       "      <td>2787</td>\n",
       "    </tr>\n",
       "    <tr>\n",
       "      <td>1</td>\n",
       "      <td>CBR</td>\n",
       "      <td>62.0</td>\n",
       "      <td>244.0</td>\n",
       "      <td>1993</td>\n",
       "    </tr>\n",
       "    <tr>\n",
       "      <td>2</td>\n",
       "      <td>LGB</td>\n",
       "      <td>201.0</td>\n",
       "      <td>1220.0</td>\n",
       "      <td>1773</td>\n",
       "    </tr>\n",
       "  </tbody>\n",
       "</table>\n",
       "</div>"
      ],
      "text/plain": [
       "  model  train_time, sec  work_time, msec  rmse\n",
       "0    LR             33.2            273.0  2787\n",
       "1   CBR             62.0            244.0  1993\n",
       "2   LGB            201.0           1220.0  1773"
      ]
     },
     "execution_count": 37,
     "metadata": {},
     "output_type": "execute_result"
    }
   ],
   "source": [
    "models = [['LR', 33.2, 273, 2787], ['CBR', 62, 244, 1993], \n",
    "       ['LGB', 3*60+21, 1.22*1000, 1773]] \n",
    "    \n",
    "df = pd.DataFrame(models, columns =['model', 'train_time, sec', 'work_time, msec', 'rmse']) \n",
    "df "
   ]
  },
  {
   "cell_type": "markdown",
   "metadata": {},
   "source": [
    "Время предсказания любой модели значительно меньше, чем её обучение. \n",
    "Важно, чтобы время предсказания было как можно меньше - обучаем модель мы только один раз, но предсказывать она может до бесконечности."
   ]
  },
  {
   "cell_type": "markdown",
   "metadata": {},
   "source": [
    "Метрика RMSE лучше всего выглядит у модели LGB, но время ее работы слишком долгое. Быстрее всего обучается модель линейной регресии, но ее точность оставляет желать лучшего. У модели CatBoostRegressor небольшое время обучения/работы и приемлемая точность. Эту модель можно посоветовать сервису как прототип."
   ]
  }
 ],
 "metadata": {
  "kernelspec": {
   "display_name": "Python 3",
   "language": "python",
   "name": "python3"
  },
  "language_info": {
   "codemirror_mode": {
    "name": "ipython",
    "version": 3
   },
   "file_extension": ".py",
   "mimetype": "text/x-python",
   "name": "python",
   "nbconvert_exporter": "python",
   "pygments_lexer": "ipython3",
   "version": "3.7.6"
  }
 },
 "nbformat": 4,
 "nbformat_minor": 2
}
