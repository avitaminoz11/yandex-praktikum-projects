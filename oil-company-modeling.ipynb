{
 "cells": [
  {
   "cell_type": "markdown",
   "metadata": {},
   "source": [
    "# Выявление прибыльного региона добычи для нефтяной компании"
   ]
  },
  {
   "cell_type": "markdown",
   "metadata": {},
   "source": [
    "Нефтяной компании необходимо решить, где бурить новую скважину.\n",
    "\n",
    "Нам предоставлены пробы нефти в трёх регионах: в каждом 10 000 месторождений, где измерили качество нефти и объём её запасов. Построим модель машинного обучения, которая поможет определить регион, где добыча принесёт наибольшую прибыль. Проанализируем возможную прибыль и риски техникой *Bootstrap.*\n",
    "\n",
    "Шаги для выбора локации:\n",
    "\n",
    "- В избранном регионе ищут месторождения, для каждого определяют значения признаков;\n",
    "- Строят модель и оценивают объём запасов;\n",
    "- Выбирают месторождения с самым высокими оценками значений. Количество месторождений зависит от бюджета компании и стоимости разработки одной скважины;\n",
    "- Прибыль равна суммарной прибыли отобранных месторождений."
   ]
  },
  {
   "cell_type": "markdown",
   "metadata": {},
   "source": [
    "### Описание данных"
   ]
  },
  {
   "cell_type": "markdown",
   "metadata": {},
   "source": [
    "- id — уникальный идентификатор скважины;\n",
    "- f0, f1, f2 — три признака точек;\n",
    "- product — объём запасов в скважине (тыс. баррелей)."
   ]
  },
  {
   "cell_type": "markdown",
   "metadata": {},
   "source": [
    "### Условия задачи"
   ]
  },
  {
   "cell_type": "markdown",
   "metadata": {},
   "source": [
    "- Для обучения модели подходит только линейная регрессия (остальные — недостаточно предсказуемые).\n",
    "- При разведке региона исследуют 500 точек, из которых выбирают 200 лучших для расчёта прибыли.\n",
    "- Бюджет на разработку скважин в регионе — 10 млрд рублей.\n",
    "- Один баррель сырья приносит 450 рублей дохода. Доход с каждой единицы продукта составляет 450 тыс. рублей, поскольку объём указан в тысячах баррелей.\n",
    "- После оценки рисков оставляем лишь те регионы, в которых вероятность убытков меньше 2.5%. Среди них выбирают регион с наибольшей средней прибылью."
   ]
  },
  {
   "cell_type": "markdown",
   "metadata": {},
   "source": [
    "### Оглавление проекта"
   ]
  },
  {
   "cell_type": "markdown",
   "metadata": {},
   "source": [
    "1. Загрузка и подготовка данных\n",
    "2. Обучение и проверка модели\n",
    "3. Подготовка к расчёту прибыли\n",
    "4. Расчёт прибыли и рисков"
   ]
  },
  {
   "cell_type": "markdown",
   "metadata": {},
   "source": [
    "# 1. Загрузка и подготовка данных"
   ]
  },
  {
   "cell_type": "code",
   "execution_count": 4,
   "metadata": {},
   "outputs": [],
   "source": [
    "#импортируем необходимые библиотеки и инструменты\n",
    "import pandas as pd\n",
    "import numpy as np\n",
    "import seaborn as sns\n",
    "from scipy import stats as st\n",
    "from sklearn.metrics import mean_squared_error, accuracy_score\n",
    "from sklearn.model_selection import train_test_split\n",
    "from sklearn.linear_model import LinearRegression"
   ]
  },
  {
   "cell_type": "code",
   "execution_count": 5,
   "metadata": {},
   "outputs": [],
   "source": [
    "#загрузим данные о трех регионах\n",
    "oil_well_1 = pd.read_csv('/datasets/geo_data_0.csv')\n",
    "oil_well_2 = pd.read_csv('/datasets/geo_data_1.csv')\n",
    "oil_well_3 = pd.read_csv('/datasets/geo_data_2.csv')"
   ]
  },
  {
   "cell_type": "markdown",
   "metadata": {},
   "source": [
    "Ознакомимся с данными и выявим взаимосвязь между признаками."
   ]
  },
  {
   "cell_type": "code",
   "execution_count": 6,
   "metadata": {},
   "outputs": [
    {
     "name": "stdout",
     "output_type": "stream",
     "text": [
      "(100000, 5)\n",
      "\n",
      "      id        f0        f1        f2     product\n",
      "0  txEyH  0.705745 -0.497823  1.221170  105.280062\n",
      "1  2acmU  1.334711 -0.340164  4.365080   73.037750\n",
      "2  409Wp  1.022732  0.151990  1.419926   85.265647\n",
      "3  iJLyR -0.032172  0.139033  2.978566  168.620776\n",
      "4  Xdl7t  1.988431  0.155413  4.751769  154.036647\n",
      "\n"
     ]
    },
    {
     "data": {
      "text/plain": [
       "<matplotlib.axes._subplots.AxesSubplot at 0x7f3a5b55f390>"
      ]
     },
     "execution_count": 6,
     "metadata": {},
     "output_type": "execute_result"
    },
    {
     "data": {
      "image/png": "[encoded data removed]",
      "text/plain": [
       "<Figure size 432x288 with 2 Axes>"
      ]
     },
     "metadata": {
      "needs_background": "light"
     },
     "output_type": "display_data"
    }
   ],
   "source": [
    "print(oil_well_1.shape)\n",
    "print()\n",
    "print(oil_well_1.head())\n",
    "print()\n",
    "sns.heatmap(oil_well_1.corr(), annot=True, square=True, center=0, fmt='.1g')"
   ]
  },
  {
   "cell_type": "code",
   "execution_count": 7,
   "metadata": {},
   "outputs": [
    {
     "name": "stdout",
     "output_type": "stream",
     "text": [
      "(100000, 5)\n",
      "\n",
      "      id         f0         f1        f2     product\n",
      "0  kBEdx -15.001348  -8.276000 -0.005876    3.179103\n",
      "1  62mP7  14.272088  -3.475083  0.999183   26.953261\n",
      "2  vyE1P   6.263187  -5.948386  5.001160  134.766305\n",
      "3  KcrkZ -13.081196 -11.506057  4.999415  137.945408\n",
      "4  AHL4O  12.702195  -8.147433  5.004363  134.766305\n",
      "\n"
     ]
    },
    {
     "data": {
      "text/plain": [
       "<matplotlib.axes._subplots.AxesSubplot at 0x7f3a55b80b10>"
      ]
     },
     "execution_count": 7,
     "metadata": {},
     "output_type": "execute_result"
    },
    {
     "data": {
      "image/png": "[encoded data removed]",
      "text/plain": [
       "<Figure size 432x288 with 2 Axes>"
      ]
     },
     "metadata": {
      "needs_background": "light"
     },
     "output_type": "display_data"
    }
   ],
   "source": [
    "print(oil_well_2.shape)\n",
    "print()\n",
    "print(oil_well_2.head())\n",
    "print()\n",
    "sns.heatmap(oil_well_2.corr(), annot=True, square=True, center=0, fmt='.1g')"
   ]
  },
  {
   "cell_type": "code",
   "execution_count": 8,
   "metadata": {},
   "outputs": [
    {
     "name": "stdout",
     "output_type": "stream",
     "text": [
      "(100000, 5)\n",
      "\n",
      "      id        f0        f1        f2     product\n",
      "0  fwXo0 -1.146987  0.963328 -0.828965   27.758673\n",
      "1  WJtFt  0.262778  0.269839 -2.530187   56.069697\n",
      "2  ovLUW  0.194587  0.289035 -5.586433   62.871910\n",
      "3  q6cA6  2.236060 -0.553760  0.930038  114.572842\n",
      "4  WPMUX -0.515993  1.716266  5.899011  149.600746\n",
      "\n"
     ]
    },
    {
     "data": {
      "text/plain": [
       "<matplotlib.axes._subplots.AxesSubplot at 0x7f3a5684fe10>"
      ]
     },
     "execution_count": 8,
     "metadata": {},
     "output_type": "execute_result"
    },
    {
     "data": {
      "image/png": "[encoded data removed]",
      "text/plain": [
       "<Figure size 432x288 with 2 Axes>"
      ]
     },
     "metadata": {
      "needs_background": "light"
     },
     "output_type": "display_data"
    }
   ],
   "source": [
    "print(oil_well_3.shape)\n",
    "print()\n",
    "print(oil_well_3.head())\n",
    "print()\n",
    "sns.heatmap(oil_well_3.corr(), annot=True, square=True, center=0, fmt='.1g')"
   ]
  },
  {
   "cell_type": "markdown",
   "metadata": {},
   "source": [
    "Показатели корреляции регионов 1 и 3 похожи, сильной корреляции данных нет, больше всего зависит целевой признак *product* от признака *f2*.\n",
    "А в регионе 2 заметна неправдоподобная взаимосвязь этих двух признаков, единица. Это может быть связано с тем, что данные синтетические, в реальной жизни такой коэффициент корреляции сложно представить."
   ]
  },
  {
   "cell_type": "markdown",
   "metadata": {},
   "source": [
    "Проверим данные на полные дубликаты."
   ]
  },
  {
   "cell_type": "code",
   "execution_count": 9,
   "metadata": {},
   "outputs": [
    {
     "name": "stdout",
     "output_type": "stream",
     "text": [
      "False    100000\n",
      "dtype: int64\n",
      "False    100000\n",
      "dtype: int64\n",
      "False    100000\n",
      "dtype: int64\n"
     ]
    }
   ],
   "source": [
    "print(oil_well_1.duplicated().value_counts())\n",
    "print(oil_well_2.duplicated().value_counts())\n",
    "print(oil_well_3.duplicated().value_counts())"
   ]
  },
  {
   "cell_type": "markdown",
   "metadata": {},
   "source": [
    "Дублирующихся данных нет - это хорошо, но стоит проверить, нет ли разных данных об одной и той же скважине."
   ]
  },
  {
   "cell_type": "code",
   "execution_count": 10,
   "metadata": {},
   "outputs": [
    {
     "name": "stdout",
     "output_type": "stream",
     "text": [
      "Tdehs    2\n",
      "TtcGQ    2\n",
      "bsk9y    2\n",
      "A5aEY    2\n",
      "fiKDv    2\n",
      "Name: id, dtype: int64\n",
      "wt4Uk    2\n",
      "5ltQ6    2\n",
      "bfPNe    2\n",
      "LHZR0    2\n",
      "njegZ    1\n",
      "Name: id, dtype: int64\n",
      "KUPhW    2\n",
      "Vcm5J    2\n",
      "VF7Jo    2\n",
      "xCHr8    2\n",
      "WSFQc    1\n",
      "Name: id, dtype: int64\n"
     ]
    }
   ],
   "source": [
    "print(oil_well_1['id'].value_counts().head())\n",
    "print(oil_well_2['id'].value_counts().head())\n",
    "print(oil_well_3['id'].value_counts().head())"
   ]
  },
  {
   "cell_type": "code",
   "execution_count": 11,
   "metadata": {},
   "outputs": [
    {
     "name": "stdout",
     "output_type": "stream",
     "text": [
      "         id        f0        f1         f2     product\n",
      "931   HZww2  0.755284  0.368511   1.863211   30.681774\n",
      "7530  HZww2  1.061194 -0.373969  10.430210  158.828695\n",
      "\n",
      "          id        f0        f1        f2     product\n",
      "2721   bfPNe -9.494442 -5.463692  4.006042  110.992147\n",
      "82178  bfPNe -6.202799 -4.820045  2.995107   84.038886\n"
     ]
    }
   ],
   "source": [
    "print(oil_well_1.query('id == \"HZww2\"'))\n",
    "print()\n",
    "print(oil_well_2.query('id == \"bfPNe\"'))"
   ]
  },
  {
   "cell_type": "markdown",
   "metadata": {},
   "source": [
    "В датасетах есть сведения о скважинах с одинаковыми именами, но разными признаками. Таких дублирующихся скважин немного, но они подозрительны. Удалим их, оставив только уникальные. На качество модели удаление такого небольшого количества данных повлиять не должно."
   ]
  },
  {
   "cell_type": "code",
   "execution_count": 12,
   "metadata": {},
   "outputs": [],
   "source": [
    "#напишем функцию для удаления наблюдений с дублирующимися id, которая на вход будет принимать название датасета\n",
    "def remove_double (data):\n",
    "    names = data['id'].value_counts().reset_index()\n",
    "    unique_names = names.query('id == 1')['index'].to_list()\n",
    "    data.query('id in @unique_names', inplace=True)"
   ]
  },
  {
   "cell_type": "markdown",
   "metadata": {},
   "source": [
    "Применим функцию ко всем трем датасетам и проверим, как изменилось их наполнение."
   ]
  },
  {
   "cell_type": "code",
   "execution_count": 13,
   "metadata": {},
   "outputs": [
    {
     "name": "stdout",
     "output_type": "stream",
     "text": [
      "(99980, 5)\n",
      "(99992, 5)\n",
      "(99992, 5)\n"
     ]
    }
   ],
   "source": [
    "remove_double(oil_well_1)\n",
    "print(oil_well_1.shape)\n",
    "remove_double(oil_well_2)\n",
    "print(oil_well_2.shape)\n",
    "remove_double(oil_well_3)\n",
    "print(oil_well_3.shape)"
   ]
  },
  {
   "cell_type": "markdown",
   "metadata": {},
   "source": [
    "**Вывод**:\n",
    "- импортировали все необходимые инструменты,\n",
    "- загрузили датасеты и ознакомились с ними,\n",
    "- выявили подозрительную особенность - во всех трех датасетах имеются наблюдения о скважинах с одинаковым именем, но разными значениями признаков,\n",
    "- избавились от наблюдений с дублирующимися именами с помощью функции *remove_double*\n",
    "- проверили коэффициент корреляции - показатели корреляции регионов 1 и 3 похожи, сильной корреляции данных нет, больше всего зависит целевой признак *product* от признака *f2*. В регионе 2 заметна неправдоподобная взаимосвязь этих двух признаков, почти единица. Это может быть связано с тем, что данные синтетические"
   ]
  },
  {
   "cell_type": "markdown",
   "metadata": {},
   "source": [
    "# 2. Обучение и проверка модели"
   ]
  },
  {
   "cell_type": "markdown",
   "metadata": {},
   "source": [
    "Как и требовалось в условии задачи, будем обучать модель с помощью линейной регрессии."
   ]
  },
  {
   "cell_type": "code",
   "execution_count": 14,
   "metadata": {},
   "outputs": [],
   "source": [
    "model = LinearRegression()"
   ]
  },
  {
   "cell_type": "markdown",
   "metadata": {},
   "source": [
    "Напишем функцию `get_predictions`, которая разобьет данные на обучающую и валидационную выборки в соотношении 75:25, а затем обучит модель и сделает предсказания на валидационной выборке."
   ]
  },
  {
   "cell_type": "code",
   "execution_count": 15,
   "metadata": {},
   "outputs": [],
   "source": [
    "def get_predictions_target (data):\n",
    "    features = data.drop(['id', 'product'], axis = 1)\n",
    "    target = data['product']\n",
    "    features_train, features_valid, target_train, target_valid = train_test_split(features, target, test_size=.25, random_state=666)\n",
    "    model.fit(features_train, target_train)\n",
    "    return pd.Series(model.predict(features_valid)), target_valid"
   ]
  },
  {
   "cell_type": "markdown",
   "metadata": {},
   "source": [
    "Сохраним предсказания и правильные ответы."
   ]
  },
  {
   "cell_type": "code",
   "execution_count": 16,
   "metadata": {},
   "outputs": [],
   "source": [
    "predicted_1, target_1 = get_predictions_target(oil_well_1)"
   ]
  },
  {
   "cell_type": "code",
   "execution_count": 17,
   "metadata": {},
   "outputs": [],
   "source": [
    "predicted_2, target_2 = get_predictions_target(oil_well_2)"
   ]
  },
  {
   "cell_type": "code",
   "execution_count": 18,
   "metadata": {},
   "outputs": [],
   "source": [
    "predicted_3, target_3 = get_predictions_target(oil_well_3)"
   ]
  },
  {
   "cell_type": "markdown",
   "metadata": {},
   "source": [
    "Посмотрим на средний запас предсказанного сырья для каждого региона и RMSE (корень от среднеквадратичной ошибки) модели. Тем самым мы проверим модели на адекватность."
   ]
  },
  {
   "cell_type": "code",
   "execution_count": 19,
   "metadata": {},
   "outputs": [],
   "source": [
    "def get_mean_product_and_rmse (answers, predictions):\n",
    "    mse = mean_squared_error(answers, predictions)\n",
    "    print('Средний запас сырья, тыс. баррелей:', predictions.mean())\n",
    "    print('RMSE:', mse ** 0.5)"
   ]
  },
  {
   "cell_type": "code",
   "execution_count": 20,
   "metadata": {},
   "outputs": [
    {
     "name": "stdout",
     "output_type": "stream",
     "text": [
      "Регион №1\n",
      "\n",
      "Средний запас сырья, тыс. баррелей: 92.51122396649589\n",
      "RMSE: 37.51264378666752\n"
     ]
    }
   ],
   "source": [
    "print('Регион №1')\n",
    "print()\n",
    "get_mean_product_and_rmse(target_1, predicted_1)"
   ]
  },
  {
   "cell_type": "code",
   "execution_count": 21,
   "metadata": {},
   "outputs": [
    {
     "name": "stdout",
     "output_type": "stream",
     "text": [
      "Регион №2\n",
      "\n",
      "Средний запас сырья, тыс. баррелей: 68.84582277575738\n",
      "RMSE: 0.8893533318289\n"
     ]
    }
   ],
   "source": [
    "print('Регион №2')\n",
    "print()\n",
    "get_mean_product_and_rmse(target_2, predicted_2)"
   ]
  },
  {
   "cell_type": "code",
   "execution_count": 22,
   "metadata": {},
   "outputs": [
    {
     "name": "stdout",
     "output_type": "stream",
     "text": [
      "Регион №3\n",
      "\n",
      "Средний запас сырья, тыс. баррелей: 95.18962000390482\n",
      "RMSE: 40.00784454122081\n"
     ]
    }
   ],
   "source": [
    "print('Регион №3')\n",
    "print()\n",
    "get_mean_product_and_rmse(target_3, predicted_3)"
   ]
  },
  {
   "cell_type": "markdown",
   "metadata": {},
   "source": [
    "**Вывод:**\n",
    "- разбили данные на обучающую и валидационную выборки\n",
    "- обучили модели и сделали предсказания, сохранили их и правильные ответы\n",
    "- посчитали средний запас сырья для каждого региона по предсказаниям и RMSE\n",
    "- качественнее всего модель отработала для региона №2, здесь метрика RMSE с самым маленьким значением - наверняка так влияет большой коэффициент корреляции между одним из признаков и целевым признаком\n",
    "- средний предсказанный запас сырья больше всего у регионов 1 и 3, больше 90 тыс. бареллей. Здесь же значение RMSE получилось очень большим, почти половина этого числа"
   ]
  },
  {
   "cell_type": "markdown",
   "metadata": {},
   "source": [
    "# 3. Подготовка к расчёту прибыли"
   ]
  },
  {
   "cell_type": "markdown",
   "metadata": {},
   "source": [
    "В условии задачи нам даны константы, сохраним их."
   ]
  },
  {
   "cell_type": "code",
   "execution_count": 23,
   "metadata": {},
   "outputs": [],
   "source": [
    "#бюджет на разработку скважин в одном регионе в рублях\n",
    "BUDGET = 10000000000\n",
    "\n",
    "#количество скважин для бурения\n",
    "OIL_WELLS_NUMBER = 200\n",
    "\n",
    "#бюджет на одну скважину\n",
    "BUDGET_FOR_ONE = BUDGET / OIL_WELLS_NUMBER\n",
    "\n",
    "#доход с одной единицы продукта в рублях\n",
    "REVENUE_RUB = 450000\n",
    "\n",
    "#максимальная доля убытков\n",
    "MAX_RISK = 0.025\n",
    "\n",
    "#рублей в млрд\n",
    "MLRD = 1000000000"
   ]
  },
  {
   "cell_type": "markdown",
   "metadata": {},
   "source": [
    "Чтобы проект был прибыльным, посчитаем минимальное среднее количество продукта в месторождениях региона, достаточное для разработки."
   ]
  },
  {
   "cell_type": "code",
   "execution_count": 24,
   "metadata": {},
   "outputs": [
    {
     "data": {
      "text/plain": [
       "111.11111111111111"
      ]
     },
     "execution_count": 24,
     "metadata": {},
     "output_type": "execute_result"
    }
   ],
   "source": [
    "BUDGET_FOR_ONE / REVENUE_RUB"
   ]
  },
  {
   "cell_type": "code",
   "execution_count": 25,
   "metadata": {},
   "outputs": [
    {
     "name": "stdout",
     "output_type": "stream",
     "text": [
      "Средний истинный запас сырья в регионах, тыс. баррелей:\n",
      "\n",
      "Регион 1: 92.3858860901055\n",
      "Регион 2: 68.83866771152616\n",
      "Регион 3: 94.7475498366247\n"
     ]
    }
   ],
   "source": [
    "print(\"Средний истинный запас сырья в регионах, тыс. баррелей:\")\n",
    "print()\n",
    "print(\"Регион 1:\", target_1.mean())\n",
    "print(\"Регион 2:\", target_2.mean())\n",
    "print(\"Регион 3:\", target_3.mean())"
   ]
  },
  {
   "cell_type": "markdown",
   "metadata": {},
   "source": [
    "Грубо говоря, 111.2 единицы продукта в одной скважине - это минимальный объем сырья, при котором проект не станет убыточным. Если сравнивать со средним истинным объемом сырья, который мы посчитали в предыдущем шаге, то проект будет убыточным в любом регионе. Но мы будем исследовать только 500 скважин, из которых выберем 200 самых прибыльных."
   ]
  },
  {
   "cell_type": "markdown",
   "metadata": {},
   "source": [
    "Напишем функцию рассчета прибыли по 200 скважинам каждого региона, из которых получается самый большой объем сырья."
   ]
  },
  {
   "cell_type": "code",
   "execution_count": 26,
   "metadata": {},
   "outputs": [],
   "source": [
    "def revenue(target, probabilities):\n",
    "    target = pd.Series(target).reset_index(drop=True)\n",
    "    probabilities = pd.Series(probabilities).reset_index(drop=True)\n",
    "    probs_sorted = probabilities.sort_values(ascending=False)\n",
    "    selected = target[probs_sorted.index][:OIL_WELLS_NUMBER]\n",
    "    return ((REVENUE_RUB * selected.sum()) - BUDGET) / MLRD"
   ]
  },
  {
   "cell_type": "code",
   "execution_count": 27,
   "metadata": {},
   "outputs": [
    {
     "data": {
      "text/plain": [
       "3.1361591450086554"
      ]
     },
     "execution_count": 27,
     "metadata": {},
     "output_type": "execute_result"
    }
   ],
   "source": [
    "revenue(target_1, predicted_1)"
   ]
  },
  {
   "cell_type": "code",
   "execution_count": 28,
   "metadata": {},
   "outputs": [
    {
     "data": {
      "text/plain": [
       "2.4150866966815108"
      ]
     },
     "execution_count": 28,
     "metadata": {},
     "output_type": "execute_result"
    }
   ],
   "source": [
    "revenue(target_2, predicted_2)"
   ]
  },
  {
   "cell_type": "code",
   "execution_count": 29,
   "metadata": {},
   "outputs": [
    {
     "data": {
      "text/plain": [
       "2.1309791872583506"
      ]
     },
     "execution_count": 29,
     "metadata": {},
     "output_type": "execute_result"
    }
   ],
   "source": [
    "revenue(target_3, predicted_3)"
   ]
  },
  {
   "cell_type": "markdown",
   "metadata": {},
   "source": [
    "На данном этапе, судя из рассчетов, самым прибыльным является регион 1 - выручка здесь больше 3-х млрд рублей."
   ]
  },
  {
   "cell_type": "markdown",
   "metadata": {},
   "source": [
    "# 4. Расчёт прибыли и рисков "
   ]
  },
  {
   "cell_type": "markdown",
   "metadata": {},
   "source": [
    "Посчитаем риски и прибыль для всех трех регионов с помощью процедуры Bootstrap."
   ]
  },
  {
   "cell_type": "code",
   "execution_count": 30,
   "metadata": {},
   "outputs": [],
   "source": [
    "state = np.random.RandomState(666)"
   ]
  },
  {
   "cell_type": "code",
   "execution_count": 31,
   "metadata": {},
   "outputs": [],
   "source": [
    "def bootstrap (target, predictions):\n",
    "    values = []\n",
    "    for i in range(1000):\n",
    "        target_subsample = target.reset_index(drop=True).sample(n=500, replace=True, random_state=state)\n",
    "        probs_subsample = predictions[target_subsample.index]\n",
    "        rev = revenue(target_subsample, probs_subsample)\n",
    "        values.append(rev)\n",
    "\n",
    "    values = pd.Series(values)\n",
    "    lower = values.quantile(MAX_RISK)\n",
    "    confidence_interval = st.t.interval(0.95, len(values)-1, values.mean(), values.sem())\n",
    "    mean = values.mean()\n",
    "\n",
    "    print(\"Средняя выручка:\", mean)\n",
    "    print(\"2.5%-квантиль:\", lower)\n",
    "    print(\"Доверительный интервал:\", confidence_interval)\n",
    "    print(\"Риски убытка:\", (values < 0).mean())"
   ]
  },
  {
   "cell_type": "code",
   "execution_count": 32,
   "metadata": {},
   "outputs": [
    {
     "name": "stdout",
     "output_type": "stream",
     "text": [
      "Средняя выручка: 0.41479958161807007\n",
      "2.5%-квантиль: -0.08099655547090873\n",
      "Доверительный интервал: (0.39865380846626214, 0.430945354769878)\n",
      "Риски убытка: 0.048\n"
     ]
    }
   ],
   "source": [
    "bootstrap(target_1, predicted_1)"
   ]
  },
  {
   "cell_type": "code",
   "execution_count": 33,
   "metadata": {},
   "outputs": [
    {
     "name": "stdout",
     "output_type": "stream",
     "text": [
      "Средняя выручка: 0.42736389192366664\n",
      "2.5%-квантиль: 0.007483545047568657\n",
      "Доверительный интервал: (0.4143367855164309, 0.4403909983309024)\n",
      "Риски убытка: 0.022\n"
     ]
    }
   ],
   "source": [
    "bootstrap(target_2, predicted_2)"
   ]
  },
  {
   "cell_type": "code",
   "execution_count": 34,
   "metadata": {},
   "outputs": [
    {
     "name": "stdout",
     "output_type": "stream",
     "text": [
      "Средняя выручка: 0.33012128371491745\n",
      "2.5%-квантиль: -0.21131634368174967\n",
      "Доверительный интервал: (0.3130545585390611, 0.3471880088907738)\n",
      "Риски убытка: 0.122\n"
     ]
    }
   ],
   "source": [
    "bootstrap(target_3, predicted_3)"
   ]
  },
  {
   "cell_type": "markdown",
   "metadata": {},
   "source": [
    "Из всех трех регионов по уровню риска проходит только регион №2. К тому же, добыча здесь принесёт наибольшую прибыль."
   ]
  },
  {
   "cell_type": "markdown",
   "metadata": {},
   "source": [
    "**Вывод:**\n",
    "Для реализации проекта больше всего подходит регион 2. Бурение скважин здесь связанно с наименьшими рисками и принесет бОльшую выручку."
   ]
  }
 ],
 "metadata": {
  "kernelspec": {
   "display_name": "Python 3",
   "language": "python",
   "name": "python3"
  },
  "language_info": {
   "codemirror_mode": {
    "name": "ipython",
    "version": 3
   },
   "file_extension": ".py",
   "mimetype": "text/x-python",
   "name": "python",
   "nbconvert_exporter": "python",
   "pygments_lexer": "ipython3",
   "version": "3.7.6"
  }
 },
 "nbformat": 4,
 "nbformat_minor": 2
}
