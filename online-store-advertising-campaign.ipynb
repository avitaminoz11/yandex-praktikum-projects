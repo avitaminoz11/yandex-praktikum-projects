{
 "cells": [
  {
   "cell_type": "markdown",
   "metadata": {},
   "source": [
    "# План рекламных кампаний для магазина компьютерных игр"
   ]
  },
  {
   "cell_type": "markdown",
   "metadata": {},
   "source": [
    "## Описание проекта\n",
    "\n",
    "Интернет-магазин продаёт компьютерные игры по всему миру. Нам доступны исторические данные о продажах игр, оценки пользователей и экспертов, жанры и платформы (например, Xbox или PlayStation). Необходимо выявить определяющие успешность игры закономерности. Это позволит сделать ставку на потенциально популярный продукт и спланировать рекламные кампании.\n",
    "\n",
    "Перед нами данные до 2016 года. Представим, что сейчас декабрь 2016 г., и мы планируем кампанию на 2017-й. "
   ]
  },
  {
   "cell_type": "markdown",
   "metadata": {},
   "source": [
    "## Описание данных\n",
    "\n",
    "- *Name* — название игры\n",
    "- *Platform* — платформа\n",
    "- *Year_of_Release* — год выпуска\n",
    "- *Genre* — жанр игры\n",
    "- *NA_sales* — продажи в Северной Америке (миллионы долларов)\n",
    "- *EU_sales* — продажи в Европе (миллионы долларов)\n",
    "- *JP_sales* — продажи в Японии (миллионы долларов)\n",
    "- *Other_sales* — продажи в других странах (миллионы долларов)\n",
    "- *Critic_Score* — оценка критиков (максимум 100)\n",
    "- *User_Score* — оценка пользователей (максимум 10)\n",
    "- *Rating* — рейтинг от организации ESRB (англ. Entertainment Software Rating Board). Эта ассоциация определяет рейтинг компьютерных игр и присваивает им подходящую возрастную категорию, а именно:\n",
    "\n",
    "  1. **EC («Early childhood»)** — «Для детей младшего возраста»\n",
    "  2. **E («Everyone»)** — «Для всех»\n",
    "  3. **K-A (\"Kids to Adults\")** — вариация категории «Для всех»\n",
    "  4. **E10+ («Everyone 10 and older»)** — «Для всех от 10 лет и старше»\n",
    "  5. **T («Teen»)** — «Подросткам»\n",
    "  6. **M («Mature»)** — «Для взрослых 17+»\n",
    "  7. **AO («Adults Only 18+»)** — «Только для взрослых»\n",
    "  8. **RP («Rating Pending»)** — «Рейтинг ожидается»\n",
    "  \n",
    "**NB.** Данные за 2016 год могут быть неполными."
   ]
  },
  {
   "cell_type": "markdown",
   "metadata": {},
   "source": [
    "## Оглавление проекта:\n",
    "1. Откроем файл с данными и изучим общую информацию\n",
    "2. Подготовим данные\n",
    "3. Проведем исследовательский анализ данных\n",
    "4. Составим портрет пользователя каждого региона\n",
    "5. Проверим гипотезы\n",
    "6. Общий вывод"
   ]
  },
  {
   "cell_type": "markdown",
   "metadata": {},
   "source": [
    "### Шаг 1. Откроем файл с данными и изучим общую информацию"
   ]
  },
  {
   "cell_type": "code",
   "execution_count": 1,
   "metadata": {},
   "outputs": [],
   "source": [
    "#импортируем необходимые библиотеки и пакеты\n",
    "import pandas as pd"
   ]
  },
  {
   "cell_type": "code",
   "execution_count": 2,
   "metadata": {},
   "outputs": [],
   "source": [
    "import matplotlib.pyplot as plt"
   ]
  },
  {
   "cell_type": "code",
   "execution_count": 3,
   "metadata": {},
   "outputs": [],
   "source": [
    "from scipy import stats as st"
   ]
  },
  {
   "cell_type": "code",
   "execution_count": 4,
   "metadata": {},
   "outputs": [],
   "source": [
    "import seaborn as sns"
   ]
  },
  {
   "cell_type": "code",
   "execution_count": 5,
   "metadata": {},
   "outputs": [
    {
     "data": {
      "text/html": [
       "<div>\n",
       "<style scoped>\n",
       "    .dataframe tbody tr th:only-of-type {\n",
       "        vertical-align: middle;\n",
       "    }\n",
       "\n",
       "    .dataframe tbody tr th {\n",
       "        vertical-align: top;\n",
       "    }\n",
       "\n",
       "    .dataframe thead th {\n",
       "        text-align: right;\n",
       "    }\n",
       "</style>\n",
       "<table border=\"1\" class=\"dataframe\">\n",
       "  <thead>\n",
       "    <tr style=\"text-align: right;\">\n",
       "      <th></th>\n",
       "      <th>Name</th>\n",
       "      <th>Platform</th>\n",
       "      <th>Year_of_Release</th>\n",
       "      <th>Genre</th>\n",
       "      <th>NA_sales</th>\n",
       "      <th>EU_sales</th>\n",
       "      <th>JP_sales</th>\n",
       "      <th>Other_sales</th>\n",
       "      <th>Critic_Score</th>\n",
       "      <th>User_Score</th>\n",
       "      <th>Rating</th>\n",
       "    </tr>\n",
       "  </thead>\n",
       "  <tbody>\n",
       "    <tr>\n",
       "      <td>0</td>\n",
       "      <td>Wii Sports</td>\n",
       "      <td>Wii</td>\n",
       "      <td>2006.0</td>\n",
       "      <td>Sports</td>\n",
       "      <td>41.36</td>\n",
       "      <td>28.96</td>\n",
       "      <td>3.77</td>\n",
       "      <td>8.45</td>\n",
       "      <td>76.0</td>\n",
       "      <td>8</td>\n",
       "      <td>E</td>\n",
       "    </tr>\n",
       "    <tr>\n",
       "      <td>1</td>\n",
       "      <td>Super Mario Bros.</td>\n",
       "      <td>NES</td>\n",
       "      <td>1985.0</td>\n",
       "      <td>Platform</td>\n",
       "      <td>29.08</td>\n",
       "      <td>3.58</td>\n",
       "      <td>6.81</td>\n",
       "      <td>0.77</td>\n",
       "      <td>NaN</td>\n",
       "      <td>NaN</td>\n",
       "      <td>NaN</td>\n",
       "    </tr>\n",
       "    <tr>\n",
       "      <td>2</td>\n",
       "      <td>Mario Kart Wii</td>\n",
       "      <td>Wii</td>\n",
       "      <td>2008.0</td>\n",
       "      <td>Racing</td>\n",
       "      <td>15.68</td>\n",
       "      <td>12.76</td>\n",
       "      <td>3.79</td>\n",
       "      <td>3.29</td>\n",
       "      <td>82.0</td>\n",
       "      <td>8.3</td>\n",
       "      <td>E</td>\n",
       "    </tr>\n",
       "    <tr>\n",
       "      <td>3</td>\n",
       "      <td>Wii Sports Resort</td>\n",
       "      <td>Wii</td>\n",
       "      <td>2009.0</td>\n",
       "      <td>Sports</td>\n",
       "      <td>15.61</td>\n",
       "      <td>10.93</td>\n",
       "      <td>3.28</td>\n",
       "      <td>2.95</td>\n",
       "      <td>80.0</td>\n",
       "      <td>8</td>\n",
       "      <td>E</td>\n",
       "    </tr>\n",
       "    <tr>\n",
       "      <td>4</td>\n",
       "      <td>Pokemon Red/Pokemon Blue</td>\n",
       "      <td>GB</td>\n",
       "      <td>1996.0</td>\n",
       "      <td>Role-Playing</td>\n",
       "      <td>11.27</td>\n",
       "      <td>8.89</td>\n",
       "      <td>10.22</td>\n",
       "      <td>1.00</td>\n",
       "      <td>NaN</td>\n",
       "      <td>NaN</td>\n",
       "      <td>NaN</td>\n",
       "    </tr>\n",
       "    <tr>\n",
       "      <td>5</td>\n",
       "      <td>Tetris</td>\n",
       "      <td>GB</td>\n",
       "      <td>1989.0</td>\n",
       "      <td>Puzzle</td>\n",
       "      <td>23.20</td>\n",
       "      <td>2.26</td>\n",
       "      <td>4.22</td>\n",
       "      <td>0.58</td>\n",
       "      <td>NaN</td>\n",
       "      <td>NaN</td>\n",
       "      <td>NaN</td>\n",
       "    </tr>\n",
       "    <tr>\n",
       "      <td>6</td>\n",
       "      <td>New Super Mario Bros.</td>\n",
       "      <td>DS</td>\n",
       "      <td>2006.0</td>\n",
       "      <td>Platform</td>\n",
       "      <td>11.28</td>\n",
       "      <td>9.14</td>\n",
       "      <td>6.50</td>\n",
       "      <td>2.88</td>\n",
       "      <td>89.0</td>\n",
       "      <td>8.5</td>\n",
       "      <td>E</td>\n",
       "    </tr>\n",
       "    <tr>\n",
       "      <td>7</td>\n",
       "      <td>Wii Play</td>\n",
       "      <td>Wii</td>\n",
       "      <td>2006.0</td>\n",
       "      <td>Misc</td>\n",
       "      <td>13.96</td>\n",
       "      <td>9.18</td>\n",
       "      <td>2.93</td>\n",
       "      <td>2.84</td>\n",
       "      <td>58.0</td>\n",
       "      <td>6.6</td>\n",
       "      <td>E</td>\n",
       "    </tr>\n",
       "    <tr>\n",
       "      <td>8</td>\n",
       "      <td>New Super Mario Bros. Wii</td>\n",
       "      <td>Wii</td>\n",
       "      <td>2009.0</td>\n",
       "      <td>Platform</td>\n",
       "      <td>14.44</td>\n",
       "      <td>6.94</td>\n",
       "      <td>4.70</td>\n",
       "      <td>2.24</td>\n",
       "      <td>87.0</td>\n",
       "      <td>8.4</td>\n",
       "      <td>E</td>\n",
       "    </tr>\n",
       "    <tr>\n",
       "      <td>9</td>\n",
       "      <td>Duck Hunt</td>\n",
       "      <td>NES</td>\n",
       "      <td>1984.0</td>\n",
       "      <td>Shooter</td>\n",
       "      <td>26.93</td>\n",
       "      <td>0.63</td>\n",
       "      <td>0.28</td>\n",
       "      <td>0.47</td>\n",
       "      <td>NaN</td>\n",
       "      <td>NaN</td>\n",
       "      <td>NaN</td>\n",
       "    </tr>\n",
       "  </tbody>\n",
       "</table>\n",
       "</div>"
      ],
      "text/plain": [
       "                        Name Platform  Year_of_Release         Genre  \\\n",
       "0                 Wii Sports      Wii           2006.0        Sports   \n",
       "1          Super Mario Bros.      NES           1985.0      Platform   \n",
       "2             Mario Kart Wii      Wii           2008.0        Racing   \n",
       "3          Wii Sports Resort      Wii           2009.0        Sports   \n",
       "4   Pokemon Red/Pokemon Blue       GB           1996.0  Role-Playing   \n",
       "5                     Tetris       GB           1989.0        Puzzle   \n",
       "6      New Super Mario Bros.       DS           2006.0      Platform   \n",
       "7                   Wii Play      Wii           2006.0          Misc   \n",
       "8  New Super Mario Bros. Wii      Wii           2009.0      Platform   \n",
       "9                  Duck Hunt      NES           1984.0       Shooter   \n",
       "\n",
       "   NA_sales  EU_sales  JP_sales  Other_sales  Critic_Score User_Score Rating  \n",
       "0     41.36     28.96      3.77         8.45          76.0          8      E  \n",
       "1     29.08      3.58      6.81         0.77           NaN        NaN    NaN  \n",
       "2     15.68     12.76      3.79         3.29          82.0        8.3      E  \n",
       "3     15.61     10.93      3.28         2.95          80.0          8      E  \n",
       "4     11.27      8.89     10.22         1.00           NaN        NaN    NaN  \n",
       "5     23.20      2.26      4.22         0.58           NaN        NaN    NaN  \n",
       "6     11.28      9.14      6.50         2.88          89.0        8.5      E  \n",
       "7     13.96      9.18      2.93         2.84          58.0        6.6      E  \n",
       "8     14.44      6.94      4.70         2.24          87.0        8.4      E  \n",
       "9     26.93      0.63      0.28         0.47           NaN        NaN    NaN  "
      ]
     },
     "execution_count": 5,
     "metadata": {},
     "output_type": "execute_result"
    }
   ],
   "source": [
    "#прочитаем данные и ознакомимся с ними\n",
    "game_stat = pd.read_csv('/datasets/games.csv')\n",
    "game_stat.head(10)"
   ]
  },
  {
   "cell_type": "code",
   "execution_count": 6,
   "metadata": {},
   "outputs": [
    {
     "name": "stdout",
     "output_type": "stream",
     "text": [
      "<class 'pandas.core.frame.DataFrame'>\n",
      "RangeIndex: 16715 entries, 0 to 16714\n",
      "Data columns (total 11 columns):\n",
      "Name               16713 non-null object\n",
      "Platform           16715 non-null object\n",
      "Year_of_Release    16446 non-null float64\n",
      "Genre              16713 non-null object\n",
      "NA_sales           16715 non-null float64\n",
      "EU_sales           16715 non-null float64\n",
      "JP_sales           16715 non-null float64\n",
      "Other_sales        16715 non-null float64\n",
      "Critic_Score       8137 non-null float64\n",
      "User_Score         10014 non-null object\n",
      "Rating             9949 non-null object\n",
      "dtypes: float64(6), object(5)\n",
      "memory usage: 1.4+ MB\n"
     ]
    }
   ],
   "source": [
    "game_stat.info()"
   ]
  },
  {
   "cell_type": "code",
   "execution_count": 7,
   "metadata": {},
   "outputs": [
    {
     "data": {
      "text/plain": [
       "array(['E', nan, 'M', 'T', 'E10+', 'K-A', 'AO', 'EC', 'RP'], dtype=object)"
      ]
     },
     "execution_count": 7,
     "metadata": {},
     "output_type": "execute_result"
    }
   ],
   "source": [
    "game_stat['Rating'].unique()"
   ]
  },
  {
   "cell_type": "markdown",
   "metadata": {},
   "source": [
    "**Вывод:** Импортировали необходимые для работы библиотеки и пакеты, прочитали данные и ознакомились с ними, выявили ошибки и неточности, которые будем обрабатывать в следующем шаге:\n",
    "\n",
    " - в столбцах `Name`, `Year_of_Release`, `Critic_Score`, `User_Score` и `Rating` имеются пропуски;\n",
    " - названия столбцов содержат в себе буквы разного регистра;\n",
    " - значения в столбце `Year_of_Release` указаны в неверном формате - **float64**;\n",
    " - значения в столбце `User_Score` указаны в неверном формате - **object**;\n",
    " - в столбце `Rating` находятся категории ***E*** и ***K-A***, которые являются вариациями одной категории."
   ]
  },
  {
   "cell_type": "markdown",
   "metadata": {},
   "source": [
    "### Шаг 2. Подготовим данные"
   ]
  },
  {
   "cell_type": "code",
   "execution_count": 8,
   "metadata": {},
   "outputs": [],
   "source": [
    "#приведем названия столбцов к нижнему регистру\n",
    "game_stat.columns = map(str.lower, game_stat.columns)"
   ]
  },
  {
   "cell_type": "code",
   "execution_count": 9,
   "metadata": {},
   "outputs": [],
   "source": [
    "#рейтинг K-A заменим на E\n",
    "game_stat['rating'] = game_stat['rating'].replace('K-A', 'E')"
   ]
  },
  {
   "cell_type": "markdown",
   "metadata": {},
   "source": [
    "В столбцах `year_of_release` и `user_score` заменим тип данных, предварительно заменив пропущенные значение на нетипичное **-1**. Год выпуска - это целое число, поэтому эти значения будут указаны в формате **int64**, а оценка пользователей - невещественное число, приведем эти значения к формату **float64**."
   ]
  },
  {
   "cell_type": "code",
   "execution_count": 10,
   "metadata": {},
   "outputs": [],
   "source": [
    "game_stat['year_of_release'] = game_stat['year_of_release'].fillna(-1).astype(int)"
   ]
  },
  {
   "cell_type": "code",
   "execution_count": 11,
   "metadata": {},
   "outputs": [],
   "source": [
    "game_stat['user_score'] = game_stat['user_score'].fillna(-1)"
   ]
  },
  {
   "cell_type": "markdown",
   "metadata": {},
   "source": [
    "В столбце `user_score` имеются значения ***tbd*** (*to be determined*) с английского можно перевести как **будет определен позднее**, то есть, для этих наблюдений оценка пользователей еще не определена. Заменим эти значения на -1, чтобы изменить тип данных столбца, и будем учитывать эти значения при дальнейших рассчетах."
   ]
  },
  {
   "cell_type": "code",
   "execution_count": 12,
   "metadata": {},
   "outputs": [],
   "source": [
    "#наблюдения со значением tbd в столбце user_score заменим на 0. Так эти значения не помешают при дальнейших рассчетах\n",
    "game_stat['user_score'] = game_stat['user_score'].replace('tbd', -1)\n",
    "game_stat['user_score'] = pd.to_numeric(game_stat['user_score'])"
   ]
  },
  {
   "cell_type": "markdown",
   "metadata": {},
   "source": [
    "Обработаем пропуски в столбцах."
   ]
  },
  {
   "cell_type": "code",
   "execution_count": 13,
   "metadata": {},
   "outputs": [
    {
     "data": {
      "text/html": [
       "<div>\n",
       "<style scoped>\n",
       "    .dataframe tbody tr th:only-of-type {\n",
       "        vertical-align: middle;\n",
       "    }\n",
       "\n",
       "    .dataframe tbody tr th {\n",
       "        vertical-align: top;\n",
       "    }\n",
       "\n",
       "    .dataframe thead th {\n",
       "        text-align: right;\n",
       "    }\n",
       "</style>\n",
       "<table border=\"1\" class=\"dataframe\">\n",
       "  <thead>\n",
       "    <tr style=\"text-align: right;\">\n",
       "      <th></th>\n",
       "      <th>name</th>\n",
       "      <th>platform</th>\n",
       "      <th>year_of_release</th>\n",
       "      <th>genre</th>\n",
       "      <th>na_sales</th>\n",
       "      <th>eu_sales</th>\n",
       "      <th>jp_sales</th>\n",
       "      <th>other_sales</th>\n",
       "      <th>critic_score</th>\n",
       "      <th>user_score</th>\n",
       "      <th>rating</th>\n",
       "    </tr>\n",
       "  </thead>\n",
       "  <tbody>\n",
       "    <tr>\n",
       "      <td>659</td>\n",
       "      <td>NaN</td>\n",
       "      <td>GEN</td>\n",
       "      <td>1993</td>\n",
       "      <td>NaN</td>\n",
       "      <td>1.78</td>\n",
       "      <td>0.53</td>\n",
       "      <td>0.00</td>\n",
       "      <td>0.08</td>\n",
       "      <td>NaN</td>\n",
       "      <td>-1.0</td>\n",
       "      <td>NaN</td>\n",
       "    </tr>\n",
       "    <tr>\n",
       "      <td>14244</td>\n",
       "      <td>NaN</td>\n",
       "      <td>GEN</td>\n",
       "      <td>1993</td>\n",
       "      <td>NaN</td>\n",
       "      <td>0.00</td>\n",
       "      <td>0.00</td>\n",
       "      <td>0.03</td>\n",
       "      <td>0.00</td>\n",
       "      <td>NaN</td>\n",
       "      <td>-1.0</td>\n",
       "      <td>NaN</td>\n",
       "    </tr>\n",
       "  </tbody>\n",
       "</table>\n",
       "</div>"
      ],
      "text/plain": [
       "      name platform  year_of_release genre  na_sales  eu_sales  jp_sales  \\\n",
       "659    NaN      GEN             1993   NaN      1.78      0.53      0.00   \n",
       "14244  NaN      GEN             1993   NaN      0.00      0.00      0.03   \n",
       "\n",
       "       other_sales  critic_score  user_score rating  \n",
       "659           0.08           NaN        -1.0    NaN  \n",
       "14244         0.00           NaN        -1.0    NaN  "
      ]
     },
     "execution_count": 13,
     "metadata": {},
     "output_type": "execute_result"
    }
   ],
   "source": [
    "game_stat.query('name.isnull()')"
   ]
  },
  {
   "cell_type": "markdown",
   "metadata": {},
   "source": [
    "В столбце `name` имеется два пропуска. Оба наблюдения от 1993 года, к тому же имеют много пропусков в других столбцах (например, в столбце `genre`, что тоже помешает нам работать с данными). Избавимся от них, на результат дальнейшего исследования они не повлияют."
   ]
  },
  {
   "cell_type": "code",
   "execution_count": 14,
   "metadata": {},
   "outputs": [],
   "source": [
    "game_stat.dropna(subset = ['name'], inplace = True)"
   ]
  },
  {
   "cell_type": "markdown",
   "metadata": {},
   "source": [
    "В столбце `year_of_release` не будем обрабатывать неизвестные нам значения или избавляться от строк с пропусками в этом столбце. Оставим их заполненными нехарактерным значением **-1** и будем учитывать это в ходе работы."
   ]
  },
  {
   "cell_type": "markdown",
   "metadata": {},
   "source": [
    "Пропуски в столбцах `critic_score` и `user_score` (также как и в `year_of_release` и `rating`) могли появиться по разным причинам. Можно заметить, что у старых наблюдений отсутствует рейтинг и оценка критиков/пользователей. Напрашивается мысль, что раньше эти данные просто не собирали. Но пропуски есть и у относительно новых наблюдений. Здесь могли сыграть роль баги системы, ошибки при выгрузке данных, человеческий фактор и другие. \n",
    "\n",
    "В `user_score` мы уже заполнили пропуски нетипичным значением -1. Сделаем то же самое с пропусками в `critic_score` и `rating`, а затем будем учитывать это в дальнейшей работе. Это поможет нам сохранить данные и не повлиять на результаты исследования."
   ]
  },
  {
   "cell_type": "code",
   "execution_count": 15,
   "metadata": {},
   "outputs": [],
   "source": [
    "game_stat['critic_score'] = game_stat['critic_score'].fillna(-1)"
   ]
  },
  {
   "cell_type": "code",
   "execution_count": 16,
   "metadata": {},
   "outputs": [],
   "source": [
    "game_stat['rating'] = game_stat['rating'].fillna(-1)"
   ]
  },
  {
   "cell_type": "markdown",
   "metadata": {},
   "source": [
    "Посчитаем суммарные продажи во всех регионах и запишем их в отдельный столбец."
   ]
  },
  {
   "cell_type": "code",
   "execution_count": 17,
   "metadata": {},
   "outputs": [],
   "source": [
    "game_stat['total_sales'] = game_stat['na_sales'] + game_stat['eu_sales'] + game_stat['jp_sales'] + game_stat['other_sales']"
   ]
  },
  {
   "cell_type": "code",
   "execution_count": 18,
   "metadata": {},
   "outputs": [
    {
     "name": "stdout",
     "output_type": "stream",
     "text": [
      "<class 'pandas.core.frame.DataFrame'>\n",
      "Int64Index: 16713 entries, 0 to 16714\n",
      "Data columns (total 12 columns):\n",
      "name               16713 non-null object\n",
      "platform           16713 non-null object\n",
      "year_of_release    16713 non-null int64\n",
      "genre              16713 non-null object\n",
      "na_sales           16713 non-null float64\n",
      "eu_sales           16713 non-null float64\n",
      "jp_sales           16713 non-null float64\n",
      "other_sales        16713 non-null float64\n",
      "critic_score       16713 non-null float64\n",
      "user_score         16713 non-null float64\n",
      "rating             16713 non-null object\n",
      "total_sales        16713 non-null float64\n",
      "dtypes: float64(7), int64(1), object(4)\n",
      "memory usage: 1.7+ MB\n"
     ]
    }
   ],
   "source": [
    "game_stat.info()"
   ]
  },
  {
   "cell_type": "markdown",
   "metadata": {},
   "source": [
    "**Вывод:** \n",
    "1. привели названия столбцов к нижнему регистру;\n",
    "2. преобразовали данные в `year_of_release` в формат int64, а в `user_score` в float64 в нужные типы;\n",
    "3. обработали пропуски - в столбцах `сritic_score`, `user_score` и `rating` пропущена почти половина значений. Заполнение этих пропусков синтетическими данными привело бы к искажению результатов исследования, поэтому заменили их на -1 и будем учитывать это в дальнейшем исследовании;\n",
    "4. от пропусков в `name` избавились;\n",
    "5. в `user_score`  изменили значения **tbd** на -1;\n",
    "6. посчитали суммарные продажи во всех регионах и записали их в отдельный столбец `total_sales`"
   ]
  },
  {
   "cell_type": "markdown",
   "metadata": {},
   "source": [
    "### Шаг 3. Проведем исследовательский анализ данных"
   ]
  },
  {
   "cell_type": "markdown",
   "metadata": {},
   "source": [
    "- Посмотрим, сколько игр выпускалось в разные годы."
   ]
  },
  {
   "cell_type": "markdown",
   "metadata": {},
   "source": [
    "Для проведения исследования нам необязательно знать статистику за последние 30 лет. Нам необходимы только актуальные данные. Обратим внимание на изменение продаж у платформ, начиная с 2000 года и определим промежуток времени, который будем исследовать в дальнейшем."
   ]
  },
  {
   "cell_type": "code",
   "execution_count": 57,
   "metadata": {},
   "outputs": [
    {
     "data": {
      "text/plain": [
       "Text(0.5, 0, 'Год выпуска')"
      ]
     },
     "execution_count": 57,
     "metadata": {},
     "output_type": "execute_result"
    },
    {
     "data": {
      "image/png": "[encoded data removed]",
      "text/plain": [
       "<Figure size 432x432 with 1 Axes>"
      ]
     },
     "metadata": {
      "needs_background": "light"
     },
     "output_type": "display_data"
    }
   ],
   "source": [
    "count_by_year = game_stat.query('year_of_release >= 2000').groupby('year_of_release')['name'].count()\n",
    "count_by_year.plot(figsize=(6, 6), title='Кол-во выпущенных игр по годам')\n",
    "ax = plt.gca()\n",
    "ax.set_ylabel('Игры, шт.')\n",
    "ax.set_xlabel('Год выпуска')"
   ]
  },
  {
   "cell_type": "markdown",
   "metadata": {},
   "source": [
    "Видим, что основная масса новых игр приходится на 2006-2012 годы, после этого периода количество выпускающихся игр идет на спад."
   ]
  },
  {
   "cell_type": "markdown",
   "metadata": {},
   "source": [
    "- Посмотрим, как менялись продажи по платформам и ответим на вопрос:\n",
    "\n",
    " **За какой характерный срок появляются новые и исчезают старые платформы?**"
   ]
  },
  {
   "cell_type": "code",
   "execution_count": 20,
   "metadata": {},
   "outputs": [
    {
     "data": {
      "text/html": [
       "<div>\n",
       "<style scoped>\n",
       "    .dataframe tbody tr th:only-of-type {\n",
       "        vertical-align: middle;\n",
       "    }\n",
       "\n",
       "    .dataframe tbody tr th {\n",
       "        vertical-align: top;\n",
       "    }\n",
       "\n",
       "    .dataframe thead th {\n",
       "        text-align: right;\n",
       "    }\n",
       "</style>\n",
       "<table border=\"1\" class=\"dataframe\">\n",
       "  <thead>\n",
       "    <tr style=\"text-align: right;\">\n",
       "      <th>year_of_release</th>\n",
       "      <th>2001</th>\n",
       "      <th>2002</th>\n",
       "      <th>2003</th>\n",
       "      <th>2004</th>\n",
       "      <th>2005</th>\n",
       "      <th>2006</th>\n",
       "      <th>2007</th>\n",
       "      <th>2008</th>\n",
       "      <th>2009</th>\n",
       "      <th>2010</th>\n",
       "      <th>2011</th>\n",
       "      <th>2012</th>\n",
       "      <th>2013</th>\n",
       "      <th>2014</th>\n",
       "      <th>2015</th>\n",
       "      <th>2016</th>\n",
       "    </tr>\n",
       "    <tr>\n",
       "      <th>platform</th>\n",
       "      <th></th>\n",
       "      <th></th>\n",
       "      <th></th>\n",
       "      <th></th>\n",
       "      <th></th>\n",
       "      <th></th>\n",
       "      <th></th>\n",
       "      <th></th>\n",
       "      <th></th>\n",
       "      <th></th>\n",
       "      <th></th>\n",
       "      <th></th>\n",
       "      <th></th>\n",
       "      <th></th>\n",
       "      <th></th>\n",
       "      <th></th>\n",
       "    </tr>\n",
       "  </thead>\n",
       "  <tbody>\n",
       "    <tr>\n",
       "      <td>3DS</td>\n",
       "      <td>-</td>\n",
       "      <td>-</td>\n",
       "      <td>-</td>\n",
       "      <td>-</td>\n",
       "      <td>-</td>\n",
       "      <td>-</td>\n",
       "      <td>-</td>\n",
       "      <td>-</td>\n",
       "      <td>-</td>\n",
       "      <td>-</td>\n",
       "      <td>116</td>\n",
       "      <td>93</td>\n",
       "      <td>91</td>\n",
       "      <td>80</td>\n",
       "      <td>86</td>\n",
       "      <td>46</td>\n",
       "    </tr>\n",
       "    <tr>\n",
       "      <td>DC</td>\n",
       "      <td>8</td>\n",
       "      <td>1</td>\n",
       "      <td>-</td>\n",
       "      <td>-</td>\n",
       "      <td>-</td>\n",
       "      <td>-</td>\n",
       "      <td>1</td>\n",
       "      <td>1</td>\n",
       "      <td>-</td>\n",
       "      <td>-</td>\n",
       "      <td>-</td>\n",
       "      <td>-</td>\n",
       "      <td>-</td>\n",
       "      <td>-</td>\n",
       "      <td>-</td>\n",
       "      <td>-</td>\n",
       "    </tr>\n",
       "    <tr>\n",
       "      <td>DS</td>\n",
       "      <td>-</td>\n",
       "      <td>-</td>\n",
       "      <td>-</td>\n",
       "      <td>23</td>\n",
       "      <td>118</td>\n",
       "      <td>201</td>\n",
       "      <td>376</td>\n",
       "      <td>492</td>\n",
       "      <td>403</td>\n",
       "      <td>323</td>\n",
       "      <td>153</td>\n",
       "      <td>23</td>\n",
       "      <td>8</td>\n",
       "      <td>-</td>\n",
       "      <td>-</td>\n",
       "      <td>-</td>\n",
       "    </tr>\n",
       "    <tr>\n",
       "      <td>GB</td>\n",
       "      <td>10</td>\n",
       "      <td>-</td>\n",
       "      <td>-</td>\n",
       "      <td>-</td>\n",
       "      <td>-</td>\n",
       "      <td>-</td>\n",
       "      <td>-</td>\n",
       "      <td>-</td>\n",
       "      <td>-</td>\n",
       "      <td>-</td>\n",
       "      <td>-</td>\n",
       "      <td>-</td>\n",
       "      <td>-</td>\n",
       "      <td>-</td>\n",
       "      <td>-</td>\n",
       "      <td>-</td>\n",
       "    </tr>\n",
       "    <tr>\n",
       "      <td>GBA</td>\n",
       "      <td>107</td>\n",
       "      <td>198</td>\n",
       "      <td>150</td>\n",
       "      <td>175</td>\n",
       "      <td>135</td>\n",
       "      <td>39</td>\n",
       "      <td>6</td>\n",
       "      <td>-</td>\n",
       "      <td>-</td>\n",
       "      <td>-</td>\n",
       "      <td>-</td>\n",
       "      <td>-</td>\n",
       "      <td>-</td>\n",
       "      <td>-</td>\n",
       "      <td>-</td>\n",
       "      <td>-</td>\n",
       "    </tr>\n",
       "    <tr>\n",
       "      <td>GC</td>\n",
       "      <td>22</td>\n",
       "      <td>152</td>\n",
       "      <td>144</td>\n",
       "      <td>83</td>\n",
       "      <td>97</td>\n",
       "      <td>40</td>\n",
       "      <td>4</td>\n",
       "      <td>-</td>\n",
       "      <td>-</td>\n",
       "      <td>-</td>\n",
       "      <td>-</td>\n",
       "      <td>-</td>\n",
       "      <td>-</td>\n",
       "      <td>-</td>\n",
       "      <td>-</td>\n",
       "      <td>-</td>\n",
       "    </tr>\n",
       "    <tr>\n",
       "      <td>N64</td>\n",
       "      <td>9</td>\n",
       "      <td>1</td>\n",
       "      <td>-</td>\n",
       "      <td>-</td>\n",
       "      <td>-</td>\n",
       "      <td>-</td>\n",
       "      <td>-</td>\n",
       "      <td>-</td>\n",
       "      <td>-</td>\n",
       "      <td>-</td>\n",
       "      <td>-</td>\n",
       "      <td>-</td>\n",
       "      <td>-</td>\n",
       "      <td>-</td>\n",
       "      <td>-</td>\n",
       "      <td>-</td>\n",
       "    </tr>\n",
       "    <tr>\n",
       "      <td>PC</td>\n",
       "      <td>15</td>\n",
       "      <td>19</td>\n",
       "      <td>33</td>\n",
       "      <td>30</td>\n",
       "      <td>37</td>\n",
       "      <td>52</td>\n",
       "      <td>62</td>\n",
       "      <td>76</td>\n",
       "      <td>107</td>\n",
       "      <td>90</td>\n",
       "      <td>139</td>\n",
       "      <td>61</td>\n",
       "      <td>38</td>\n",
       "      <td>47</td>\n",
       "      <td>50</td>\n",
       "      <td>54</td>\n",
       "    </tr>\n",
       "    <tr>\n",
       "      <td>PS</td>\n",
       "      <td>91</td>\n",
       "      <td>20</td>\n",
       "      <td>3</td>\n",
       "      <td>-</td>\n",
       "      <td>-</td>\n",
       "      <td>-</td>\n",
       "      <td>-</td>\n",
       "      <td>-</td>\n",
       "      <td>-</td>\n",
       "      <td>-</td>\n",
       "      <td>-</td>\n",
       "      <td>-</td>\n",
       "      <td>-</td>\n",
       "      <td>-</td>\n",
       "      <td>-</td>\n",
       "      <td>-</td>\n",
       "    </tr>\n",
       "    <tr>\n",
       "      <td>PS2</td>\n",
       "      <td>185</td>\n",
       "      <td>280</td>\n",
       "      <td>256</td>\n",
       "      <td>259</td>\n",
       "      <td>260</td>\n",
       "      <td>259</td>\n",
       "      <td>214</td>\n",
       "      <td>191</td>\n",
       "      <td>96</td>\n",
       "      <td>38</td>\n",
       "      <td>7</td>\n",
       "      <td>-</td>\n",
       "      <td>-</td>\n",
       "      <td>-</td>\n",
       "      <td>-</td>\n",
       "      <td>-</td>\n",
       "    </tr>\n",
       "    <tr>\n",
       "      <td>PS3</td>\n",
       "      <td>-</td>\n",
       "      <td>-</td>\n",
       "      <td>-</td>\n",
       "      <td>-</td>\n",
       "      <td>-</td>\n",
       "      <td>27</td>\n",
       "      <td>90</td>\n",
       "      <td>138</td>\n",
       "      <td>162</td>\n",
       "      <td>181</td>\n",
       "      <td>215</td>\n",
       "      <td>148</td>\n",
       "      <td>126</td>\n",
       "      <td>108</td>\n",
       "      <td>73</td>\n",
       "      <td>38</td>\n",
       "    </tr>\n",
       "    <tr>\n",
       "      <td>PS4</td>\n",
       "      <td>-</td>\n",
       "      <td>-</td>\n",
       "      <td>-</td>\n",
       "      <td>-</td>\n",
       "      <td>-</td>\n",
       "      <td>-</td>\n",
       "      <td>-</td>\n",
       "      <td>-</td>\n",
       "      <td>-</td>\n",
       "      <td>-</td>\n",
       "      <td>-</td>\n",
       "      <td>-</td>\n",
       "      <td>16</td>\n",
       "      <td>75</td>\n",
       "      <td>137</td>\n",
       "      <td>164</td>\n",
       "    </tr>\n",
       "    <tr>\n",
       "      <td>PSP</td>\n",
       "      <td>-</td>\n",
       "      <td>-</td>\n",
       "      <td>-</td>\n",
       "      <td>15</td>\n",
       "      <td>95</td>\n",
       "      <td>189</td>\n",
       "      <td>133</td>\n",
       "      <td>100</td>\n",
       "      <td>161</td>\n",
       "      <td>188</td>\n",
       "      <td>139</td>\n",
       "      <td>106</td>\n",
       "      <td>54</td>\n",
       "      <td>10</td>\n",
       "      <td>3</td>\n",
       "      <td>-</td>\n",
       "    </tr>\n",
       "    <tr>\n",
       "      <td>PSV</td>\n",
       "      <td>-</td>\n",
       "      <td>-</td>\n",
       "      <td>-</td>\n",
       "      <td>-</td>\n",
       "      <td>-</td>\n",
       "      <td>-</td>\n",
       "      <td>-</td>\n",
       "      <td>-</td>\n",
       "      <td>-</td>\n",
       "      <td>-</td>\n",
       "      <td>18</td>\n",
       "      <td>53</td>\n",
       "      <td>63</td>\n",
       "      <td>100</td>\n",
       "      <td>110</td>\n",
       "      <td>85</td>\n",
       "    </tr>\n",
       "    <tr>\n",
       "      <td>WS</td>\n",
       "      <td>2</td>\n",
       "      <td>-</td>\n",
       "      <td>-</td>\n",
       "      <td>-</td>\n",
       "      <td>-</td>\n",
       "      <td>-</td>\n",
       "      <td>-</td>\n",
       "      <td>-</td>\n",
       "      <td>-</td>\n",
       "      <td>-</td>\n",
       "      <td>-</td>\n",
       "      <td>-</td>\n",
       "      <td>-</td>\n",
       "      <td>-</td>\n",
       "      <td>-</td>\n",
       "      <td>-</td>\n",
       "    </tr>\n",
       "    <tr>\n",
       "      <td>Wii</td>\n",
       "      <td>-</td>\n",
       "      <td>-</td>\n",
       "      <td>-</td>\n",
       "      <td>-</td>\n",
       "      <td>-</td>\n",
       "      <td>44</td>\n",
       "      <td>185</td>\n",
       "      <td>282</td>\n",
       "      <td>325</td>\n",
       "      <td>253</td>\n",
       "      <td>143</td>\n",
       "      <td>31</td>\n",
       "      <td>12</td>\n",
       "      <td>6</td>\n",
       "      <td>4</td>\n",
       "      <td>1</td>\n",
       "    </tr>\n",
       "    <tr>\n",
       "      <td>WiiU</td>\n",
       "      <td>-</td>\n",
       "      <td>-</td>\n",
       "      <td>-</td>\n",
       "      <td>-</td>\n",
       "      <td>-</td>\n",
       "      <td>-</td>\n",
       "      <td>-</td>\n",
       "      <td>-</td>\n",
       "      <td>-</td>\n",
       "      <td>-</td>\n",
       "      <td>-</td>\n",
       "      <td>32</td>\n",
       "      <td>42</td>\n",
       "      <td>31</td>\n",
       "      <td>28</td>\n",
       "      <td>14</td>\n",
       "    </tr>\n",
       "    <tr>\n",
       "      <td>X360</td>\n",
       "      <td>-</td>\n",
       "      <td>-</td>\n",
       "      <td>-</td>\n",
       "      <td>-</td>\n",
       "      <td>18</td>\n",
       "      <td>93</td>\n",
       "      <td>123</td>\n",
       "      <td>146</td>\n",
       "      <td>172</td>\n",
       "      <td>182</td>\n",
       "      <td>206</td>\n",
       "      <td>106</td>\n",
       "      <td>75</td>\n",
       "      <td>63</td>\n",
       "      <td>35</td>\n",
       "      <td>13</td>\n",
       "    </tr>\n",
       "    <tr>\n",
       "      <td>XB</td>\n",
       "      <td>33</td>\n",
       "      <td>158</td>\n",
       "      <td>189</td>\n",
       "      <td>177</td>\n",
       "      <td>179</td>\n",
       "      <td>62</td>\n",
       "      <td>3</td>\n",
       "      <td>1</td>\n",
       "      <td>-</td>\n",
       "      <td>-</td>\n",
       "      <td>-</td>\n",
       "      <td>-</td>\n",
       "      <td>-</td>\n",
       "      <td>-</td>\n",
       "      <td>-</td>\n",
       "      <td>-</td>\n",
       "    </tr>\n",
       "    <tr>\n",
       "      <td>XOne</td>\n",
       "      <td>-</td>\n",
       "      <td>-</td>\n",
       "      <td>-</td>\n",
       "      <td>-</td>\n",
       "      <td>-</td>\n",
       "      <td>-</td>\n",
       "      <td>-</td>\n",
       "      <td>-</td>\n",
       "      <td>-</td>\n",
       "      <td>-</td>\n",
       "      <td>-</td>\n",
       "      <td>-</td>\n",
       "      <td>19</td>\n",
       "      <td>61</td>\n",
       "      <td>80</td>\n",
       "      <td>87</td>\n",
       "    </tr>\n",
       "  </tbody>\n",
       "</table>\n",
       "</div>"
      ],
      "text/plain": [
       "year_of_release 2001 2002 2003 2004 2005 2006 2007 2008 2009 2010 2011 2012  \\\n",
       "platform                                                                      \n",
       "3DS                -    -    -    -    -    -    -    -    -    -  116   93   \n",
       "DC                 8    1    -    -    -    -    1    1    -    -    -    -   \n",
       "DS                 -    -    -   23  118  201  376  492  403  323  153   23   \n",
       "GB                10    -    -    -    -    -    -    -    -    -    -    -   \n",
       "GBA              107  198  150  175  135   39    6    -    -    -    -    -   \n",
       "GC                22  152  144   83   97   40    4    -    -    -    -    -   \n",
       "N64                9    1    -    -    -    -    -    -    -    -    -    -   \n",
       "PC                15   19   33   30   37   52   62   76  107   90  139   61   \n",
       "PS                91   20    3    -    -    -    -    -    -    -    -    -   \n",
       "PS2              185  280  256  259  260  259  214  191   96   38    7    -   \n",
       "PS3                -    -    -    -    -   27   90  138  162  181  215  148   \n",
       "PS4                -    -    -    -    -    -    -    -    -    -    -    -   \n",
       "PSP                -    -    -   15   95  189  133  100  161  188  139  106   \n",
       "PSV                -    -    -    -    -    -    -    -    -    -   18   53   \n",
       "WS                 2    -    -    -    -    -    -    -    -    -    -    -   \n",
       "Wii                -    -    -    -    -   44  185  282  325  253  143   31   \n",
       "WiiU               -    -    -    -    -    -    -    -    -    -    -   32   \n",
       "X360               -    -    -    -   18   93  123  146  172  182  206  106   \n",
       "XB                33  158  189  177  179   62    3    1    -    -    -    -   \n",
       "XOne               -    -    -    -    -    -    -    -    -    -    -    -   \n",
       "\n",
       "year_of_release 2013 2014 2015 2016  \n",
       "platform                             \n",
       "3DS               91   80   86   46  \n",
       "DC                 -    -    -    -  \n",
       "DS                 8    -    -    -  \n",
       "GB                 -    -    -    -  \n",
       "GBA                -    -    -    -  \n",
       "GC                 -    -    -    -  \n",
       "N64                -    -    -    -  \n",
       "PC                38   47   50   54  \n",
       "PS                 -    -    -    -  \n",
       "PS2                -    -    -    -  \n",
       "PS3              126  108   73   38  \n",
       "PS4               16   75  137  164  \n",
       "PSP               54   10    3    -  \n",
       "PSV               63  100  110   85  \n",
       "WS                 -    -    -    -  \n",
       "Wii               12    6    4    1  \n",
       "WiiU              42   31   28   14  \n",
       "X360              75   63   35   13  \n",
       "XB                 -    -    -    -  \n",
       "XOne              19   61   80   87  "
      ]
     },
     "execution_count": 20,
     "metadata": {},
     "output_type": "execute_result"
    }
   ],
   "source": [
    "game_stat.query('year_of_release > 2000').pivot_table(index='platform', columns='year_of_release', values='name', aggfunc='count', fill_value='-')"
   ]
  },
  {
   "cell_type": "markdown",
   "metadata": {},
   "source": [
    "По распределению можно заметить, что примерно в 2006 году рынок платформ меняется и на замену старым приходят новые.\n",
    "\n",
    "Для дальнейшего исследования нам будет вполне достаточно последних 10 лет. Оставим данные с 2006 года по 2016 включительно."
   ]
  },
  {
   "cell_type": "code",
   "execution_count": 21,
   "metadata": {},
   "outputs": [],
   "source": [
    "game_stat_new = game_stat.query('year_of_release >= 2006')"
   ]
  },
  {
   "cell_type": "code",
   "execution_count": 22,
   "metadata": {},
   "outputs": [
    {
     "data": {
      "text/html": [
       "<div>\n",
       "<style scoped>\n",
       "    .dataframe tbody tr th:only-of-type {\n",
       "        vertical-align: middle;\n",
       "    }\n",
       "\n",
       "    .dataframe tbody tr th {\n",
       "        vertical-align: top;\n",
       "    }\n",
       "\n",
       "    .dataframe thead th {\n",
       "        text-align: right;\n",
       "    }\n",
       "</style>\n",
       "<table border=\"1\" class=\"dataframe\">\n",
       "  <thead>\n",
       "    <tr style=\"text-align: right;\">\n",
       "      <th></th>\n",
       "      <th>platform</th>\n",
       "      <th>total_sales</th>\n",
       "    </tr>\n",
       "  </thead>\n",
       "  <tbody>\n",
       "    <tr>\n",
       "      <td>0</td>\n",
       "      <td>X360</td>\n",
       "      <td>952.99</td>\n",
       "    </tr>\n",
       "    <tr>\n",
       "      <td>1</td>\n",
       "      <td>PS3</td>\n",
       "      <td>931.34</td>\n",
       "    </tr>\n",
       "    <tr>\n",
       "      <td>2</td>\n",
       "      <td>Wii</td>\n",
       "      <td>891.18</td>\n",
       "    </tr>\n",
       "    <tr>\n",
       "      <td>3</td>\n",
       "      <td>DS</td>\n",
       "      <td>655.35</td>\n",
       "    </tr>\n",
       "    <tr>\n",
       "      <td>4</td>\n",
       "      <td>PS4</td>\n",
       "      <td>314.14</td>\n",
       "    </tr>\n",
       "    <tr>\n",
       "      <td>5</td>\n",
       "      <td>PS2</td>\n",
       "      <td>265.80</td>\n",
       "    </tr>\n",
       "    <tr>\n",
       "      <td>6</td>\n",
       "      <td>3DS</td>\n",
       "      <td>257.81</td>\n",
       "    </tr>\n",
       "    <tr>\n",
       "      <td>7</td>\n",
       "      <td>PSP</td>\n",
       "      <td>238.63</td>\n",
       "    </tr>\n",
       "    <tr>\n",
       "      <td>8</td>\n",
       "      <td>PC</td>\n",
       "      <td>163.42</td>\n",
       "    </tr>\n",
       "    <tr>\n",
       "      <td>9</td>\n",
       "      <td>XOne</td>\n",
       "      <td>159.32</td>\n",
       "    </tr>\n",
       "  </tbody>\n",
       "</table>\n",
       "</div>"
      ],
      "text/plain": [
       "  platform  total_sales\n",
       "0     X360       952.99\n",
       "1      PS3       931.34\n",
       "2      Wii       891.18\n",
       "3       DS       655.35\n",
       "4      PS4       314.14\n",
       "5      PS2       265.80\n",
       "6      3DS       257.81\n",
       "7      PSP       238.63\n",
       "8       PC       163.42\n",
       "9     XOne       159.32"
      ]
     },
     "execution_count": 22,
     "metadata": {},
     "output_type": "execute_result"
    }
   ],
   "source": [
    "#найдем платформы с наибольшими суммарными продажами\n",
    "platform_sales = game_stat_new.groupby('platform')['total_sales'].sum().sort_values(ascending=False).reset_index().head(10)\n",
    "platform_sales.head(10)"
   ]
  },
  {
   "cell_type": "code",
   "execution_count": 23,
   "metadata": {},
   "outputs": [
    {
     "data": {
      "text/plain": [
       "['X360', 'PS3', 'Wii', 'DS', 'PS4', 'PS2', '3DS', 'PSP', 'PC', 'XOne']"
      ]
     },
     "execution_count": 23,
     "metadata": {},
     "output_type": "execute_result"
    }
   ],
   "source": [
    "top_platforms = platform_sales['platform'].to_list()\n",
    "top_platforms"
   ]
  },
  {
   "cell_type": "code",
   "execution_count": 24,
   "metadata": {},
   "outputs": [
    {
     "data": {
      "text/html": [
       "<div>\n",
       "<style scoped>\n",
       "    .dataframe tbody tr th:only-of-type {\n",
       "        vertical-align: middle;\n",
       "    }\n",
       "\n",
       "    .dataframe tbody tr th {\n",
       "        vertical-align: top;\n",
       "    }\n",
       "\n",
       "    .dataframe thead th {\n",
       "        text-align: right;\n",
       "    }\n",
       "</style>\n",
       "<table border=\"1\" class=\"dataframe\">\n",
       "  <thead>\n",
       "    <tr style=\"text-align: right;\">\n",
       "      <th></th>\n",
       "      <th>name</th>\n",
       "      <th>platform</th>\n",
       "      <th>year_of_release</th>\n",
       "      <th>genre</th>\n",
       "      <th>na_sales</th>\n",
       "      <th>eu_sales</th>\n",
       "      <th>jp_sales</th>\n",
       "      <th>other_sales</th>\n",
       "      <th>critic_score</th>\n",
       "      <th>user_score</th>\n",
       "      <th>rating</th>\n",
       "      <th>total_sales</th>\n",
       "    </tr>\n",
       "  </thead>\n",
       "  <tbody>\n",
       "    <tr>\n",
       "      <td>0</td>\n",
       "      <td>Wii Sports</td>\n",
       "      <td>Wii</td>\n",
       "      <td>2006</td>\n",
       "      <td>Sports</td>\n",
       "      <td>41.36</td>\n",
       "      <td>28.96</td>\n",
       "      <td>3.77</td>\n",
       "      <td>8.45</td>\n",
       "      <td>76.0</td>\n",
       "      <td>8.0</td>\n",
       "      <td>E</td>\n",
       "      <td>82.54</td>\n",
       "    </tr>\n",
       "    <tr>\n",
       "      <td>2</td>\n",
       "      <td>Mario Kart Wii</td>\n",
       "      <td>Wii</td>\n",
       "      <td>2008</td>\n",
       "      <td>Racing</td>\n",
       "      <td>15.68</td>\n",
       "      <td>12.76</td>\n",
       "      <td>3.79</td>\n",
       "      <td>3.29</td>\n",
       "      <td>82.0</td>\n",
       "      <td>8.3</td>\n",
       "      <td>E</td>\n",
       "      <td>35.52</td>\n",
       "    </tr>\n",
       "    <tr>\n",
       "      <td>3</td>\n",
       "      <td>Wii Sports Resort</td>\n",
       "      <td>Wii</td>\n",
       "      <td>2009</td>\n",
       "      <td>Sports</td>\n",
       "      <td>15.61</td>\n",
       "      <td>10.93</td>\n",
       "      <td>3.28</td>\n",
       "      <td>2.95</td>\n",
       "      <td>80.0</td>\n",
       "      <td>8.0</td>\n",
       "      <td>E</td>\n",
       "      <td>32.77</td>\n",
       "    </tr>\n",
       "    <tr>\n",
       "      <td>6</td>\n",
       "      <td>New Super Mario Bros.</td>\n",
       "      <td>DS</td>\n",
       "      <td>2006</td>\n",
       "      <td>Platform</td>\n",
       "      <td>11.28</td>\n",
       "      <td>9.14</td>\n",
       "      <td>6.50</td>\n",
       "      <td>2.88</td>\n",
       "      <td>89.0</td>\n",
       "      <td>8.5</td>\n",
       "      <td>E</td>\n",
       "      <td>29.80</td>\n",
       "    </tr>\n",
       "    <tr>\n",
       "      <td>7</td>\n",
       "      <td>Wii Play</td>\n",
       "      <td>Wii</td>\n",
       "      <td>2006</td>\n",
       "      <td>Misc</td>\n",
       "      <td>13.96</td>\n",
       "      <td>9.18</td>\n",
       "      <td>2.93</td>\n",
       "      <td>2.84</td>\n",
       "      <td>58.0</td>\n",
       "      <td>6.6</td>\n",
       "      <td>E</td>\n",
       "      <td>28.91</td>\n",
       "    </tr>\n",
       "  </tbody>\n",
       "</table>\n",
       "</div>"
      ],
      "text/plain": [
       "                    name platform  year_of_release     genre  na_sales  \\\n",
       "0             Wii Sports      Wii             2006    Sports     41.36   \n",
       "2         Mario Kart Wii      Wii             2008    Racing     15.68   \n",
       "3      Wii Sports Resort      Wii             2009    Sports     15.61   \n",
       "6  New Super Mario Bros.       DS             2006  Platform     11.28   \n",
       "7               Wii Play      Wii             2006      Misc     13.96   \n",
       "\n",
       "   eu_sales  jp_sales  other_sales  critic_score  user_score rating  \\\n",
       "0     28.96      3.77         8.45          76.0         8.0      E   \n",
       "2     12.76      3.79         3.29          82.0         8.3      E   \n",
       "3     10.93      3.28         2.95          80.0         8.0      E   \n",
       "6      9.14      6.50         2.88          89.0         8.5      E   \n",
       "7      9.18      2.93         2.84          58.0         6.6      E   \n",
       "\n",
       "   total_sales  \n",
       "0        82.54  \n",
       "2        35.52  \n",
       "3        32.77  \n",
       "6        29.80  \n",
       "7        28.91  "
      ]
     },
     "execution_count": 24,
     "metadata": {},
     "output_type": "execute_result"
    }
   ],
   "source": [
    "game_stat_new_top = game_stat_new.query('platform in @top_platforms')\n",
    "game_stat_new_top.head()"
   ]
  },
  {
   "cell_type": "code",
   "execution_count": 25,
   "metadata": {},
   "outputs": [
    {
     "data": {
      "text/html": [
       "<div>\n",
       "<style scoped>\n",
       "    .dataframe tbody tr th:only-of-type {\n",
       "        vertical-align: middle;\n",
       "    }\n",
       "\n",
       "    .dataframe tbody tr th {\n",
       "        vertical-align: top;\n",
       "    }\n",
       "\n",
       "    .dataframe thead th {\n",
       "        text-align: right;\n",
       "    }\n",
       "</style>\n",
       "<table border=\"1\" class=\"dataframe\">\n",
       "  <thead>\n",
       "    <tr style=\"text-align: right;\">\n",
       "      <th>year_of_release</th>\n",
       "      <th>2006</th>\n",
       "      <th>2007</th>\n",
       "      <th>2008</th>\n",
       "      <th>2009</th>\n",
       "      <th>2010</th>\n",
       "      <th>2011</th>\n",
       "      <th>2012</th>\n",
       "      <th>2013</th>\n",
       "      <th>2014</th>\n",
       "      <th>2015</th>\n",
       "      <th>2016</th>\n",
       "    </tr>\n",
       "    <tr>\n",
       "      <th>platform</th>\n",
       "      <th></th>\n",
       "      <th></th>\n",
       "      <th></th>\n",
       "      <th></th>\n",
       "      <th></th>\n",
       "      <th></th>\n",
       "      <th></th>\n",
       "      <th></th>\n",
       "      <th></th>\n",
       "      <th></th>\n",
       "      <th></th>\n",
       "    </tr>\n",
       "  </thead>\n",
       "  <tbody>\n",
       "    <tr>\n",
       "      <td>3DS</td>\n",
       "      <td>-</td>\n",
       "      <td>-</td>\n",
       "      <td>-</td>\n",
       "      <td>-</td>\n",
       "      <td>-</td>\n",
       "      <td>63.2</td>\n",
       "      <td>51.36</td>\n",
       "      <td>56.57</td>\n",
       "      <td>43.76</td>\n",
       "      <td>27.78</td>\n",
       "      <td>15.14</td>\n",
       "    </tr>\n",
       "    <tr>\n",
       "      <td>DS</td>\n",
       "      <td>119.81</td>\n",
       "      <td>146.94</td>\n",
       "      <td>145.31</td>\n",
       "      <td>119.54</td>\n",
       "      <td>85.02</td>\n",
       "      <td>26.18</td>\n",
       "      <td>11.01</td>\n",
       "      <td>1.54</td>\n",
       "      <td>-</td>\n",
       "      <td>-</td>\n",
       "      <td>-</td>\n",
       "    </tr>\n",
       "    <tr>\n",
       "      <td>PC</td>\n",
       "      <td>2.85</td>\n",
       "      <td>9.28</td>\n",
       "      <td>12.42</td>\n",
       "      <td>16.91</td>\n",
       "      <td>24.28</td>\n",
       "      <td>35.03</td>\n",
       "      <td>23.22</td>\n",
       "      <td>12.38</td>\n",
       "      <td>13.28</td>\n",
       "      <td>8.52</td>\n",
       "      <td>5.25</td>\n",
       "    </tr>\n",
       "    <tr>\n",
       "      <td>PS2</td>\n",
       "      <td>103.42</td>\n",
       "      <td>75.99</td>\n",
       "      <td>53.9</td>\n",
       "      <td>26.4</td>\n",
       "      <td>5.64</td>\n",
       "      <td>0.45</td>\n",
       "      <td>-</td>\n",
       "      <td>-</td>\n",
       "      <td>-</td>\n",
       "      <td>-</td>\n",
       "      <td>-</td>\n",
       "    </tr>\n",
       "    <tr>\n",
       "      <td>PS3</td>\n",
       "      <td>20.96</td>\n",
       "      <td>73.19</td>\n",
       "      <td>118.52</td>\n",
       "      <td>130.93</td>\n",
       "      <td>142.17</td>\n",
       "      <td>156.78</td>\n",
       "      <td>107.36</td>\n",
       "      <td>113.25</td>\n",
       "      <td>47.76</td>\n",
       "      <td>16.82</td>\n",
       "      <td>3.6</td>\n",
       "    </tr>\n",
       "    <tr>\n",
       "      <td>PS4</td>\n",
       "      <td>-</td>\n",
       "      <td>-</td>\n",
       "      <td>-</td>\n",
       "      <td>-</td>\n",
       "      <td>-</td>\n",
       "      <td>-</td>\n",
       "      <td>-</td>\n",
       "      <td>25.99</td>\n",
       "      <td>100</td>\n",
       "      <td>118.9</td>\n",
       "      <td>69.25</td>\n",
       "    </tr>\n",
       "    <tr>\n",
       "      <td>PSP</td>\n",
       "      <td>55.32</td>\n",
       "      <td>46.93</td>\n",
       "      <td>34.55</td>\n",
       "      <td>37.78</td>\n",
       "      <td>35.04</td>\n",
       "      <td>17.82</td>\n",
       "      <td>7.69</td>\n",
       "      <td>3.14</td>\n",
       "      <td>0.24</td>\n",
       "      <td>0.12</td>\n",
       "      <td>-</td>\n",
       "    </tr>\n",
       "    <tr>\n",
       "      <td>Wii</td>\n",
       "      <td>137.15</td>\n",
       "      <td>152.77</td>\n",
       "      <td>171.32</td>\n",
       "      <td>206.97</td>\n",
       "      <td>127.95</td>\n",
       "      <td>59.65</td>\n",
       "      <td>21.71</td>\n",
       "      <td>8.59</td>\n",
       "      <td>3.75</td>\n",
       "      <td>1.14</td>\n",
       "      <td>0.18</td>\n",
       "    </tr>\n",
       "    <tr>\n",
       "      <td>X360</td>\n",
       "      <td>51.62</td>\n",
       "      <td>95.41</td>\n",
       "      <td>135.26</td>\n",
       "      <td>120.29</td>\n",
       "      <td>170.03</td>\n",
       "      <td>143.84</td>\n",
       "      <td>99.74</td>\n",
       "      <td>88.58</td>\n",
       "      <td>34.74</td>\n",
       "      <td>11.96</td>\n",
       "      <td>1.52</td>\n",
       "    </tr>\n",
       "    <tr>\n",
       "      <td>XOne</td>\n",
       "      <td>-</td>\n",
       "      <td>-</td>\n",
       "      <td>-</td>\n",
       "      <td>-</td>\n",
       "      <td>-</td>\n",
       "      <td>-</td>\n",
       "      <td>-</td>\n",
       "      <td>18.96</td>\n",
       "      <td>54.07</td>\n",
       "      <td>60.14</td>\n",
       "      <td>26.15</td>\n",
       "    </tr>\n",
       "  </tbody>\n",
       "</table>\n",
       "</div>"
      ],
      "text/plain": [
       "year_of_release    2006    2007    2008    2009    2010    2011    2012  \\\n",
       "platform                                                                  \n",
       "3DS                   -       -       -       -       -    63.2   51.36   \n",
       "DS               119.81  146.94  145.31  119.54   85.02   26.18   11.01   \n",
       "PC                 2.85    9.28   12.42   16.91   24.28   35.03   23.22   \n",
       "PS2              103.42   75.99    53.9    26.4    5.64    0.45       -   \n",
       "PS3               20.96   73.19  118.52  130.93  142.17  156.78  107.36   \n",
       "PS4                   -       -       -       -       -       -       -   \n",
       "PSP               55.32   46.93   34.55   37.78   35.04   17.82    7.69   \n",
       "Wii              137.15  152.77  171.32  206.97  127.95   59.65   21.71   \n",
       "X360              51.62   95.41  135.26  120.29  170.03  143.84   99.74   \n",
       "XOne                  -       -       -       -       -       -       -   \n",
       "\n",
       "year_of_release    2013   2014   2015   2016  \n",
       "platform                                      \n",
       "3DS               56.57  43.76  27.78  15.14  \n",
       "DS                 1.54      -      -      -  \n",
       "PC                12.38  13.28   8.52   5.25  \n",
       "PS2                   -      -      -      -  \n",
       "PS3              113.25  47.76  16.82    3.6  \n",
       "PS4               25.99    100  118.9  69.25  \n",
       "PSP                3.14   0.24   0.12      -  \n",
       "Wii                8.59   3.75   1.14   0.18  \n",
       "X360              88.58  34.74  11.96   1.52  \n",
       "XOne              18.96  54.07  60.14  26.15  "
      ]
     },
     "execution_count": 25,
     "metadata": {},
     "output_type": "execute_result"
    }
   ],
   "source": [
    "#еще раз взглянем на сводную таблицу уже по новым данным\n",
    "game_stat_new_top.pivot_table(index='platform', columns='year_of_release', values='total_sales', aggfunc='sum', fill_value='-')"
   ]
  },
  {
   "cell_type": "markdown",
   "metadata": {},
   "source": [
    "Посмотрев на данные по продажам платформ, можем отметить, что пик прибыли у большинства приходится на 2008-2011 годы. Позднее выручка становится все меньше и меньше. Назвать потенциально прибыльной (учитывая, что в нашем распоряжении данные не за полный 2016 год) можно только платформу PS4."
   ]
  },
  {
   "cell_type": "markdown",
   "metadata": {},
   "source": [
    " - Построим «ящики с усами» по глобальным продажам каждой игры и c разбивкой по платформам."
   ]
  },
  {
   "cell_type": "code",
   "execution_count": 26,
   "metadata": {},
   "outputs": [
    {
     "data": {
      "text/plain": [
       "Text(0.5, 0, 'Выручка, млн дол.')"
      ]
     },
     "execution_count": 26,
     "metadata": {},
     "output_type": "execute_result"
    },
    {
     "data": {
      "image/png": "[encoded data removed]",
      "text/plain": [
       "<Figure size 432x288 with 1 Axes>"
      ]
     },
     "metadata": {
      "needs_background": "light"
     },
     "output_type": "display_data"
    }
   ],
   "source": [
    "#берем только те игры, общие продажи которых больше 1 млн долларов\n",
    "g = game_stat_new.query('total_sales > 1')\n",
    "ax = sns.boxplot('total_sales', data= g)\n",
    "ax.set_title('Глобальные сборы по играм')\n",
    "ax.set_xlabel('Выручка, млн дол.')"
   ]
  },
  {
   "cell_type": "markdown",
   "metadata": {},
   "source": [
    "Разница в продажах игр очень велика. Нормальные значения продаж не превышают 7-8 миллионов долларов, но при этом на графике очень много выбросов (больших значений), и есть даже такие игры, продажи которых принесли аж 80 млн долларов."
   ]
  },
  {
   "cell_type": "code",
   "execution_count": 27,
   "metadata": {},
   "outputs": [
    {
     "data": {
      "text/plain": [
       "Text(0.5, 0, 'Выручка, млн дол.')"
      ]
     },
     "execution_count": 27,
     "metadata": {},
     "output_type": "execute_result"
    },
    {
     "data": {
      "image/png": "[encoded data removed]",
      "text/plain": [
       "<Figure size 432x288 with 1 Axes>"
      ]
     },
     "metadata": {
      "needs_background": "light"
     },
     "output_type": "display_data"
    }
   ],
   "source": [
    "p = game_stat_new.groupby('platform')['total_sales'].sum().reset_index()\n",
    "ax = sns.boxplot('total_sales', data=p)\n",
    "ax.set_title('Глобальные сборы по платформам')\n",
    "ax.set_xlabel('Выручка, млн дол.')"
   ]
  },
  {
   "cell_type": "markdown",
   "metadata": {},
   "source": [
    "Основная часть значений находится в промежутке 50 - 400, также видим хвост из больших значений, которые однако не влияют на медиану."
   ]
  },
  {
   "cell_type": "code",
   "execution_count": 66,
   "metadata": {},
   "outputs": [
    {
     "data": {
      "text/plain": [
       "Text(0, 0.5, '')"
      ]
     },
     "execution_count": 66,
     "metadata": {},
     "output_type": "execute_result"
    },
    {
     "data": {
      "image/png": "[encoded data removed]",
      "text/plain": [
       "<Figure size 648x648 with 1 Axes>"
      ]
     },
     "metadata": {},
     "output_type": "display_data"
    }
   ],
   "source": [
    "#посмотрим на среднюю выручку платформ по годам за выбранный период\n",
    "revenue_mean = game_stat_new.groupby('platform')['total_sales'].mean()\n",
    "revenue_mean.plot(kind='pie', figsize=(9, 9), autopct='%1.0f%%', shadow=True, title='Доля выручки платформ за 2006-2016 гг.')\n",
    "ax = plt.gca()\n",
    "ax.set_ylabel('')"
   ]
  },
  {
   "cell_type": "markdown",
   "metadata": {},
   "source": [
    "За выбранный период есть несколько лидеров по средним продажам - **PS4** (эту платформу мы уже отметили ранее), **X360**, **PS3**, **Wii** и **XOne**."
   ]
  },
  {
   "cell_type": "markdown",
   "metadata": {},
   "source": [
    "- Посмотрим, как влияют на продажи внутри одной популярной платформы (**PS4**) отзывы пользователей и критиков. Построим диаграммы рассеяния и посчитаем корреляцию между отзывами и продажами."
   ]
  },
  {
   "cell_type": "code",
   "execution_count": 29,
   "metadata": {},
   "outputs": [],
   "source": [
    "#выделим в отдельную таблицу продажи по PS4\n",
    "game_stat_ps4 = game_stat_new.query('platform == \"PS4\" and user_score != -1 and critic_score != -1')"
   ]
  },
  {
   "cell_type": "code",
   "execution_count": 30,
   "metadata": {},
   "outputs": [
    {
     "data": {
      "text/plain": [
       "Text(0.5, 0, 'Оценка пользователей')"
      ]
     },
     "execution_count": 30,
     "metadata": {},
     "output_type": "execute_result"
    },
    {
     "data": {
      "image/png": "[encoded data removed]",
      "text/plain": [
       "<Figure size 432x288 with 1 Axes>"
      ]
     },
     "metadata": {
      "needs_background": "light"
     },
     "output_type": "display_data"
    }
   ],
   "source": [
    "game_stat_ps4.plot(y='total_sales', x='user_score', kind='scatter', alpha=0.5, title='Зависимость выручки PS4 от оценки пользователей')\n",
    "ax = plt.gca()\n",
    "ax.set_ylabel('Выручка, млн дол.')\n",
    "ax.set_xlabel('Оценка пользователей')"
   ]
  },
  {
   "cell_type": "code",
   "execution_count": 31,
   "metadata": {},
   "outputs": [
    {
     "data": {
      "text/plain": [
       "-0.03362497596528878"
      ]
     },
     "execution_count": 31,
     "metadata": {},
     "output_type": "execute_result"
    }
   ],
   "source": [
    "game_stat_ps4['total_sales'].corr(game_stat_ps4['user_score'])"
   ]
  },
  {
   "cell_type": "code",
   "execution_count": 32,
   "metadata": {},
   "outputs": [
    {
     "data": {
      "text/plain": [
       "Text(0.5, 0, 'Оценка критиков')"
      ]
     },
     "execution_count": 32,
     "metadata": {},
     "output_type": "execute_result"
    },
    {
     "data": {
      "image/png": "[encoded data removed]",
      "text/plain": [
       "<Figure size 432x288 with 1 Axes>"
      ]
     },
     "metadata": {
      "needs_background": "light"
     },
     "output_type": "display_data"
    }
   ],
   "source": [
    "game_stat_ps4.plot(y='total_sales', x='critic_score', kind='scatter', alpha=0.5, title='Зависимость выручки PS4 от оценки критиков')\n",
    "ax = plt.gca()\n",
    "ax.set_ylabel('Выручка, млн дол.')\n",
    "ax.set_xlabel('Оценка критиков')"
   ]
  },
  {
   "cell_type": "code",
   "execution_count": 33,
   "metadata": {},
   "outputs": [
    {
     "data": {
      "text/plain": [
       "0.40589480145836687"
      ]
     },
     "execution_count": 33,
     "metadata": {},
     "output_type": "execute_result"
    }
   ],
   "source": [
    "game_stat_ps4['total_sales'].corr(game_stat_ps4['critic_score'])"
   ]
  },
  {
   "cell_type": "markdown",
   "metadata": {},
   "source": [
    "И по графикам, и по значению корреляции видим, что отзывы критиков в большей степени влияют на продажи, чем отзывы пользователей.\n",
    "Больше всего выручка при оценке критиков 70 и выше."
   ]
  },
  {
   "cell_type": "markdown",
   "metadata": {},
   "source": [
    "Посмотрим, как графики и корреляция будут выглядеть для всех десяти платформ."
   ]
  },
  {
   "cell_type": "code",
   "execution_count": 34,
   "metadata": {
    "scrolled": true
   },
   "outputs": [
    {
     "data": {
      "text/plain": [
       "Text(0.5, 0, 'Оценка пользователей')"
      ]
     },
     "execution_count": 34,
     "metadata": {},
     "output_type": "execute_result"
    },
    {
     "data": {
      "image/png": "[encoded data removed]",
      "text/plain": [
       "<Figure size 432x288 with 1 Axes>"
      ]
     },
     "metadata": {
      "needs_background": "light"
     },
     "output_type": "display_data"
    }
   ],
   "source": [
    "game_stat_new_filtered = game_stat_new.query('user_score != -1 and critic_score != -1')\n",
    "game_stat_new_filtered.plot(y='total_sales', x='user_score', kind='scatter', alpha=0.5, title='Зависимость выручки всех платформ от оценки пользователей')\n",
    "ax = plt.gca()\n",
    "ax.set_ylabel('Выручка, млн дол.')\n",
    "ax.set_xlabel('Оценка пользователей')"
   ]
  },
  {
   "cell_type": "code",
   "execution_count": 35,
   "metadata": {},
   "outputs": [
    {
     "data": {
      "text/plain": [
       "0.08243132144595271"
      ]
     },
     "execution_count": 35,
     "metadata": {},
     "output_type": "execute_result"
    }
   ],
   "source": [
    "game_stat_new_filtered['total_sales'].corr(game_stat_new_filtered['user_score'])"
   ]
  },
  {
   "cell_type": "code",
   "execution_count": 36,
   "metadata": {},
   "outputs": [
    {
     "data": {
      "text/plain": [
       "Text(0.5, 0, 'Оценка критиков')"
      ]
     },
     "execution_count": 36,
     "metadata": {},
     "output_type": "execute_result"
    },
    {
     "data": {
      "image/png": "[encoded data removed]",
      "text/plain": [
       "<Figure size 432x288 with 1 Axes>"
      ]
     },
     "metadata": {
      "needs_background": "light"
     },
     "output_type": "display_data"
    }
   ],
   "source": [
    "game_stat_new_filtered.plot(y='total_sales', x='critic_score', kind='scatter', alpha=0.5, title='Зависимость выручки всех платформ от оценки критиков')\n",
    "ax = plt.gca()\n",
    "ax.set_ylabel('Выручка, млн дол.')\n",
    "ax.set_xlabel('Оценка критиков')"
   ]
  },
  {
   "cell_type": "code",
   "execution_count": 37,
   "metadata": {},
   "outputs": [
    {
     "data": {
      "text/plain": [
       "0.22925047605657242"
      ]
     },
     "execution_count": 37,
     "metadata": {},
     "output_type": "execute_result"
    }
   ],
   "source": [
    "game_stat_new_filtered['total_sales'].corr(game_stat_new_filtered['critic_score'])"
   ]
  },
  {
   "cell_type": "markdown",
   "metadata": {},
   "source": [
    "При взгляде на два последних графика можно заметить, что разница в корреляции **оценка критика/выручка** и **оценка пользователя/выручка** совсем небольшая. Для платформы **PS4** она заметнее, а корреляция **оценка критика/выручка** сильнее."
   ]
  },
  {
   "cell_type": "markdown",
   "metadata": {},
   "source": [
    "- Посмотрим на общее распределение игр по жанрам."
   ]
  },
  {
   "cell_type": "code",
   "execution_count": 38,
   "metadata": {},
   "outputs": [
    {
     "data": {
      "text/html": [
       "<div>\n",
       "<style scoped>\n",
       "    .dataframe tbody tr th:only-of-type {\n",
       "        vertical-align: middle;\n",
       "    }\n",
       "\n",
       "    .dataframe tbody tr th {\n",
       "        vertical-align: top;\n",
       "    }\n",
       "\n",
       "    .dataframe thead th {\n",
       "        text-align: right;\n",
       "    }\n",
       "</style>\n",
       "<table border=\"1\" class=\"dataframe\">\n",
       "  <thead>\n",
       "    <tr style=\"text-align: right;\">\n",
       "      <th></th>\n",
       "      <th>total_sales</th>\n",
       "    </tr>\n",
       "    <tr>\n",
       "      <th>genre</th>\n",
       "      <th></th>\n",
       "    </tr>\n",
       "  </thead>\n",
       "  <tbody>\n",
       "    <tr>\n",
       "      <td>Action</td>\n",
       "      <td>1116.65</td>\n",
       "    </tr>\n",
       "    <tr>\n",
       "      <td>Sports</td>\n",
       "      <td>793.85</td>\n",
       "    </tr>\n",
       "    <tr>\n",
       "      <td>Shooter</td>\n",
       "      <td>717.04</td>\n",
       "    </tr>\n",
       "    <tr>\n",
       "      <td>Misc</td>\n",
       "      <td>554.86</td>\n",
       "    </tr>\n",
       "    <tr>\n",
       "      <td>Role-Playing</td>\n",
       "      <td>522.40</td>\n",
       "    </tr>\n",
       "    <tr>\n",
       "      <td>Racing</td>\n",
       "      <td>299.00</td>\n",
       "    </tr>\n",
       "    <tr>\n",
       "      <td>Platform</td>\n",
       "      <td>279.74</td>\n",
       "    </tr>\n",
       "    <tr>\n",
       "      <td>Simulation</td>\n",
       "      <td>220.65</td>\n",
       "    </tr>\n",
       "    <tr>\n",
       "      <td>Fighting</td>\n",
       "      <td>188.42</td>\n",
       "    </tr>\n",
       "    <tr>\n",
       "      <td>Adventure</td>\n",
       "      <td>141.35</td>\n",
       "    </tr>\n",
       "    <tr>\n",
       "      <td>Puzzle</td>\n",
       "      <td>89.92</td>\n",
       "    </tr>\n",
       "    <tr>\n",
       "      <td>Strategy</td>\n",
       "      <td>73.14</td>\n",
       "    </tr>\n",
       "  </tbody>\n",
       "</table>\n",
       "</div>"
      ],
      "text/plain": [
       "              total_sales\n",
       "genre                    \n",
       "Action            1116.65\n",
       "Sports             793.85\n",
       "Shooter            717.04\n",
       "Misc               554.86\n",
       "Role-Playing       522.40\n",
       "Racing             299.00\n",
       "Platform           279.74\n",
       "Simulation         220.65\n",
       "Fighting           188.42\n",
       "Adventure          141.35\n",
       "Puzzle              89.92\n",
       "Strategy            73.14"
      ]
     },
     "execution_count": 38,
     "metadata": {},
     "output_type": "execute_result"
    }
   ],
   "source": [
    "game_stat_new.pivot_table(index='genre', values='total_sales', aggfunc='sum').sort_values(by='total_sales', ascending=False)"
   ]
  },
  {
   "cell_type": "markdown",
   "metadata": {},
   "source": [
    "С большим отрывом по продажам лидируют игры жанра `Action`, за ними идут жанры `Sports` и `Shooter`.\n",
    "Самые низкие сборы у жанров `Adventure`, `Puzzle` и `Strategy`."
   ]
  },
  {
   "cell_type": "markdown",
   "metadata": {},
   "source": [
    "**Вывод:** \n",
    "\n",
    "Провели исследовательский анализ данных, выделили срез данных за 2006-2016 гг, нашли 10 платформ-лидеров по продажам. \n",
    "\n",
    "- В промежутке исследуемых 10-лет пик прибыли у большинства платформ приходится на 2008-2011 годы. Позднее выручка становится все меньше и меньше. Назвать потенциально прибыльной (учитывая, что в нашем распоряжении данные не за полный 2016 год) можно только платформу PS4.\n",
    "\n",
    "- На примере PS4 рассмотрели корреляцию **оценка критика/выручка** и **оценка пользователя/выручка** и пришли к выводу, что отзывы критиков в большей степени влияют на продажи, чем отзывы пользователей.\n",
    "\n",
    "- Больше всего выручка у платформы при оценке критиков 70 и выше.\n",
    "\n",
    "- Самыми прибыльными оказались жанры `Action`, `Sports` и `Shooter`.\n",
    "\n",
    "- Самые низкие сборы у жанров `Adventure`, `Puzzle` и `Strategy`."
   ]
  },
  {
   "cell_type": "markdown",
   "metadata": {},
   "source": [
    "### Шаг 4. Составим портрет пользователя каждого региона"
   ]
  },
  {
   "cell_type": "markdown",
   "metadata": {},
   "source": [
    "Определим для пользователя каждого региона (NA, EU, JP):\n",
    "- самые популярные платформы (топ-5)\n",
    "- самые популярные жанры (топ-5)\n",
    "- влияние рейтинга ESRB на продажи в регионе"
   ]
  },
  {
   "cell_type": "markdown",
   "metadata": {},
   "source": [
    "#### Северная Америка"
   ]
  },
  {
   "cell_type": "code",
   "execution_count": 39,
   "metadata": {
    "scrolled": true
   },
   "outputs": [
    {
     "data": {
      "text/html": [
       "<div>\n",
       "<style scoped>\n",
       "    .dataframe tbody tr th:only-of-type {\n",
       "        vertical-align: middle;\n",
       "    }\n",
       "\n",
       "    .dataframe tbody tr th {\n",
       "        vertical-align: top;\n",
       "    }\n",
       "\n",
       "    .dataframe thead th {\n",
       "        text-align: right;\n",
       "    }\n",
       "</style>\n",
       "<table border=\"1\" class=\"dataframe\">\n",
       "  <thead>\n",
       "    <tr style=\"text-align: right;\">\n",
       "      <th></th>\n",
       "      <th>platform</th>\n",
       "      <th>na_sales</th>\n",
       "    </tr>\n",
       "  </thead>\n",
       "  <tbody>\n",
       "    <tr>\n",
       "      <td>13</td>\n",
       "      <td>X360</td>\n",
       "      <td>588.84</td>\n",
       "    </tr>\n",
       "    <tr>\n",
       "      <td>11</td>\n",
       "      <td>Wii</td>\n",
       "      <td>486.87</td>\n",
       "    </tr>\n",
       "    <tr>\n",
       "      <td>7</td>\n",
       "      <td>PS3</td>\n",
       "      <td>390.13</td>\n",
       "    </tr>\n",
       "    <tr>\n",
       "      <td>2</td>\n",
       "      <td>DS</td>\n",
       "      <td>323.99</td>\n",
       "    </tr>\n",
       "    <tr>\n",
       "      <td>6</td>\n",
       "      <td>PS2</td>\n",
       "      <td>114.89</td>\n",
       "    </tr>\n",
       "  </tbody>\n",
       "</table>\n",
       "</div>"
      ],
      "text/plain": [
       "   platform  na_sales\n",
       "13     X360    588.84\n",
       "11      Wii    486.87\n",
       "7       PS3    390.13\n",
       "2        DS    323.99\n",
       "6       PS2    114.89"
      ]
     },
     "execution_count": 39,
     "metadata": {},
     "output_type": "execute_result"
    }
   ],
   "source": [
    "(game_stat_new\n",
    " .groupby('platform')['na_sales']\n",
    " .sum()\n",
    " .reset_index()\n",
    " .sort_values(by='na_sales', ascending=False)\n",
    " .head(5)\n",
    ")"
   ]
  },
  {
   "cell_type": "code",
   "execution_count": 40,
   "metadata": {},
   "outputs": [
    {
     "data": {
      "text/html": [
       "<div>\n",
       "<style scoped>\n",
       "    .dataframe tbody tr th:only-of-type {\n",
       "        vertical-align: middle;\n",
       "    }\n",
       "\n",
       "    .dataframe tbody tr th {\n",
       "        vertical-align: top;\n",
       "    }\n",
       "\n",
       "    .dataframe thead th {\n",
       "        text-align: right;\n",
       "    }\n",
       "</style>\n",
       "<table border=\"1\" class=\"dataframe\">\n",
       "  <thead>\n",
       "    <tr style=\"text-align: right;\">\n",
       "      <th></th>\n",
       "      <th>genre</th>\n",
       "      <th>na_sales</th>\n",
       "    </tr>\n",
       "  </thead>\n",
       "  <tbody>\n",
       "    <tr>\n",
       "      <td>0</td>\n",
       "      <td>Action</td>\n",
       "      <td>530.44</td>\n",
       "    </tr>\n",
       "    <tr>\n",
       "      <td>10</td>\n",
       "      <td>Sports</td>\n",
       "      <td>396.64</td>\n",
       "    </tr>\n",
       "    <tr>\n",
       "      <td>8</td>\n",
       "      <td>Shooter</td>\n",
       "      <td>373.13</td>\n",
       "    </tr>\n",
       "    <tr>\n",
       "      <td>3</td>\n",
       "      <td>Misc</td>\n",
       "      <td>285.06</td>\n",
       "    </tr>\n",
       "    <tr>\n",
       "      <td>7</td>\n",
       "      <td>Role-Playing</td>\n",
       "      <td>199.63</td>\n",
       "    </tr>\n",
       "  </tbody>\n",
       "</table>\n",
       "</div>"
      ],
      "text/plain": [
       "           genre  na_sales\n",
       "0         Action    530.44\n",
       "10        Sports    396.64\n",
       "8        Shooter    373.13\n",
       "3           Misc    285.06\n",
       "7   Role-Playing    199.63"
      ]
     },
     "execution_count": 40,
     "metadata": {},
     "output_type": "execute_result"
    }
   ],
   "source": [
    "(game_stat_new\n",
    " .groupby('genre')['na_sales']\n",
    " .sum()\n",
    " .reset_index()\n",
    " .sort_values(by='na_sales', ascending=False)\n",
    " .head(5)\n",
    ")"
   ]
  },
  {
   "cell_type": "code",
   "execution_count": 41,
   "metadata": {},
   "outputs": [
    {
     "data": {
      "text/html": [
       "<div>\n",
       "<style scoped>\n",
       "    .dataframe tbody tr th:only-of-type {\n",
       "        vertical-align: middle;\n",
       "    }\n",
       "\n",
       "    .dataframe tbody tr th {\n",
       "        vertical-align: top;\n",
       "    }\n",
       "\n",
       "    .dataframe thead th {\n",
       "        text-align: right;\n",
       "    }\n",
       "</style>\n",
       "<table border=\"1\" class=\"dataframe\">\n",
       "  <thead>\n",
       "    <tr style=\"text-align: right;\">\n",
       "      <th></th>\n",
       "      <th>rating</th>\n",
       "      <th>na_sales</th>\n",
       "    </tr>\n",
       "  </thead>\n",
       "  <tbody>\n",
       "    <tr>\n",
       "      <td>0</td>\n",
       "      <td>E</td>\n",
       "      <td>796.98</td>\n",
       "    </tr>\n",
       "    <tr>\n",
       "      <td>3</td>\n",
       "      <td>M</td>\n",
       "      <td>574.33</td>\n",
       "    </tr>\n",
       "    <tr>\n",
       "      <td>5</td>\n",
       "      <td>T</td>\n",
       "      <td>424.14</td>\n",
       "    </tr>\n",
       "    <tr>\n",
       "      <td>1</td>\n",
       "      <td>E10+</td>\n",
       "      <td>315.40</td>\n",
       "    </tr>\n",
       "    <tr>\n",
       "      <td>2</td>\n",
       "      <td>EC</td>\n",
       "      <td>1.32</td>\n",
       "    </tr>\n",
       "  </tbody>\n",
       "</table>\n",
       "</div>"
      ],
      "text/plain": [
       "  rating  na_sales\n",
       "0      E    796.98\n",
       "3      M    574.33\n",
       "5      T    424.14\n",
       "1   E10+    315.40\n",
       "2     EC      1.32"
      ]
     },
     "execution_count": 41,
     "metadata": {},
     "output_type": "execute_result"
    }
   ],
   "source": [
    "(game_stat_new\n",
    " .query('rating != -1')\n",
    " .groupby('rating')['na_sales']\n",
    " .sum()\n",
    " .reset_index()\n",
    " .sort_values(by='na_sales', ascending=False)\n",
    " .head(5)\n",
    ")"
   ]
  },
  {
   "cell_type": "markdown",
   "metadata": {},
   "source": [
    "- в Северной Америке лидируют платформы `X360`, `Wii` и `PS3`, разница в продажах не очень велика\n",
    "- самые популярные жанры - `Action`, `Sports`,`Shooter`, `Misc` и `Role-Playing`\n",
    "- с большим отрывом по продажам лидирует рейтинг `E`, затем идут `M` и `T`"
   ]
  },
  {
   "cell_type": "markdown",
   "metadata": {},
   "source": [
    "#### Европа"
   ]
  },
  {
   "cell_type": "code",
   "execution_count": 42,
   "metadata": {},
   "outputs": [
    {
     "data": {
      "text/html": [
       "<div>\n",
       "<style scoped>\n",
       "    .dataframe tbody tr th:only-of-type {\n",
       "        vertical-align: middle;\n",
       "    }\n",
       "\n",
       "    .dataframe tbody tr th {\n",
       "        vertical-align: top;\n",
       "    }\n",
       "\n",
       "    .dataframe thead th {\n",
       "        text-align: right;\n",
       "    }\n",
       "</style>\n",
       "<table border=\"1\" class=\"dataframe\">\n",
       "  <thead>\n",
       "    <tr style=\"text-align: right;\">\n",
       "      <th></th>\n",
       "      <th>platform</th>\n",
       "      <th>eu_sales</th>\n",
       "    </tr>\n",
       "  </thead>\n",
       "  <tbody>\n",
       "    <tr>\n",
       "      <td>7</td>\n",
       "      <td>PS3</td>\n",
       "      <td>327.21</td>\n",
       "    </tr>\n",
       "    <tr>\n",
       "      <td>13</td>\n",
       "      <td>X360</td>\n",
       "      <td>267.89</td>\n",
       "    </tr>\n",
       "    <tr>\n",
       "      <td>11</td>\n",
       "      <td>Wii</td>\n",
       "      <td>258.32</td>\n",
       "    </tr>\n",
       "    <tr>\n",
       "      <td>2</td>\n",
       "      <td>DS</td>\n",
       "      <td>142.99</td>\n",
       "    </tr>\n",
       "    <tr>\n",
       "      <td>8</td>\n",
       "      <td>PS4</td>\n",
       "      <td>141.09</td>\n",
       "    </tr>\n",
       "  </tbody>\n",
       "</table>\n",
       "</div>"
      ],
      "text/plain": [
       "   platform  eu_sales\n",
       "7       PS3    327.21\n",
       "13     X360    267.89\n",
       "11      Wii    258.32\n",
       "2        DS    142.99\n",
       "8       PS4    141.09"
      ]
     },
     "execution_count": 42,
     "metadata": {},
     "output_type": "execute_result"
    }
   ],
   "source": [
    "(game_stat_new\n",
    " .groupby('platform')['eu_sales']\n",
    " .sum()\n",
    " .reset_index()\n",
    " .sort_values(by='eu_sales', ascending=False)\n",
    " .head(5)\n",
    ")"
   ]
  },
  {
   "cell_type": "code",
   "execution_count": 43,
   "metadata": {},
   "outputs": [
    {
     "data": {
      "text/html": [
       "<div>\n",
       "<style scoped>\n",
       "    .dataframe tbody tr th:only-of-type {\n",
       "        vertical-align: middle;\n",
       "    }\n",
       "\n",
       "    .dataframe tbody tr th {\n",
       "        vertical-align: top;\n",
       "    }\n",
       "\n",
       "    .dataframe thead th {\n",
       "        text-align: right;\n",
       "    }\n",
       "</style>\n",
       "<table border=\"1\" class=\"dataframe\">\n",
       "  <thead>\n",
       "    <tr style=\"text-align: right;\">\n",
       "      <th></th>\n",
       "      <th>genre</th>\n",
       "      <th>eu_sales</th>\n",
       "    </tr>\n",
       "  </thead>\n",
       "  <tbody>\n",
       "    <tr>\n",
       "      <td>0</td>\n",
       "      <td>Action</td>\n",
       "      <td>350.70</td>\n",
       "    </tr>\n",
       "    <tr>\n",
       "      <td>10</td>\n",
       "      <td>Sports</td>\n",
       "      <td>251.55</td>\n",
       "    </tr>\n",
       "    <tr>\n",
       "      <td>8</td>\n",
       "      <td>Shooter</td>\n",
       "      <td>238.89</td>\n",
       "    </tr>\n",
       "    <tr>\n",
       "      <td>3</td>\n",
       "      <td>Misc</td>\n",
       "      <td>146.88</td>\n",
       "    </tr>\n",
       "    <tr>\n",
       "      <td>6</td>\n",
       "      <td>Racing</td>\n",
       "      <td>113.39</td>\n",
       "    </tr>\n",
       "  </tbody>\n",
       "</table>\n",
       "</div>"
      ],
      "text/plain": [
       "      genre  eu_sales\n",
       "0    Action    350.70\n",
       "10   Sports    251.55\n",
       "8   Shooter    238.89\n",
       "3      Misc    146.88\n",
       "6    Racing    113.39"
      ]
     },
     "execution_count": 43,
     "metadata": {},
     "output_type": "execute_result"
    }
   ],
   "source": [
    "(game_stat_new\n",
    " .groupby('genre')['eu_sales']\n",
    " .sum()\n",
    " .reset_index()\n",
    " .sort_values(by='eu_sales', ascending=False)\n",
    " .head(5)\n",
    ")"
   ]
  },
  {
   "cell_type": "code",
   "execution_count": 44,
   "metadata": {},
   "outputs": [
    {
     "data": {
      "text/html": [
       "<div>\n",
       "<style scoped>\n",
       "    .dataframe tbody tr th:only-of-type {\n",
       "        vertical-align: middle;\n",
       "    }\n",
       "\n",
       "    .dataframe tbody tr th {\n",
       "        vertical-align: top;\n",
       "    }\n",
       "\n",
       "    .dataframe thead th {\n",
       "        text-align: right;\n",
       "    }\n",
       "</style>\n",
       "<table border=\"1\" class=\"dataframe\">\n",
       "  <thead>\n",
       "    <tr style=\"text-align: right;\">\n",
       "      <th></th>\n",
       "      <th>rating</th>\n",
       "      <th>eu_sales</th>\n",
       "    </tr>\n",
       "  </thead>\n",
       "  <tbody>\n",
       "    <tr>\n",
       "      <td>0</td>\n",
       "      <td>E</td>\n",
       "      <td>461.09</td>\n",
       "    </tr>\n",
       "    <tr>\n",
       "      <td>3</td>\n",
       "      <td>M</td>\n",
       "      <td>398.90</td>\n",
       "    </tr>\n",
       "    <tr>\n",
       "      <td>5</td>\n",
       "      <td>T</td>\n",
       "      <td>235.44</td>\n",
       "    </tr>\n",
       "    <tr>\n",
       "      <td>1</td>\n",
       "      <td>E10+</td>\n",
       "      <td>173.35</td>\n",
       "    </tr>\n",
       "    <tr>\n",
       "      <td>4</td>\n",
       "      <td>RP</td>\n",
       "      <td>0.03</td>\n",
       "    </tr>\n",
       "  </tbody>\n",
       "</table>\n",
       "</div>"
      ],
      "text/plain": [
       "  rating  eu_sales\n",
       "0      E    461.09\n",
       "3      M    398.90\n",
       "5      T    235.44\n",
       "1   E10+    173.35\n",
       "4     RP      0.03"
      ]
     },
     "execution_count": 44,
     "metadata": {},
     "output_type": "execute_result"
    }
   ],
   "source": [
    "(game_stat_new\n",
    " .query('rating != -1')\n",
    " .groupby('rating')['eu_sales']\n",
    " .sum()\n",
    " .reset_index()\n",
    " .sort_values(by='eu_sales', ascending=False)\n",
    " .head(5)\n",
    ")"
   ]
  },
  {
   "cell_type": "markdown",
   "metadata": {},
   "source": [
    "- в Европе лидируют все те же приставки, но распределение немного другое, здесь в топе `PS3`, затем `X360` и `Wii`\n",
    "- самые популярные жанры все те же - `Action`, `Sports`,`Shooter`, `Misc`. Жанра `Role-Playing`, который был в топе по СА, здесь нет, зато есть `Racing`.\n",
    "- также лидируют рейтинги `E` и `M`"
   ]
  },
  {
   "cell_type": "markdown",
   "metadata": {},
   "source": [
    "#### Япония"
   ]
  },
  {
   "cell_type": "code",
   "execution_count": 45,
   "metadata": {},
   "outputs": [
    {
     "data": {
      "text/html": [
       "<div>\n",
       "<style scoped>\n",
       "    .dataframe tbody tr th:only-of-type {\n",
       "        vertical-align: middle;\n",
       "    }\n",
       "\n",
       "    .dataframe tbody tr th {\n",
       "        vertical-align: top;\n",
       "    }\n",
       "\n",
       "    .dataframe thead th {\n",
       "        text-align: right;\n",
       "    }\n",
       "</style>\n",
       "<table border=\"1\" class=\"dataframe\">\n",
       "  <thead>\n",
       "    <tr style=\"text-align: right;\">\n",
       "      <th></th>\n",
       "      <th>platform</th>\n",
       "      <th>jp_sales</th>\n",
       "    </tr>\n",
       "  </thead>\n",
       "  <tbody>\n",
       "    <tr>\n",
       "      <td>2</td>\n",
       "      <td>DS</td>\n",
       "      <td>141.49</td>\n",
       "    </tr>\n",
       "    <tr>\n",
       "      <td>0</td>\n",
       "      <td>3DS</td>\n",
       "      <td>100.62</td>\n",
       "    </tr>\n",
       "    <tr>\n",
       "      <td>7</td>\n",
       "      <td>PS3</td>\n",
       "      <td>79.41</td>\n",
       "    </tr>\n",
       "    <tr>\n",
       "      <td>9</td>\n",
       "      <td>PSP</td>\n",
       "      <td>70.63</td>\n",
       "    </tr>\n",
       "    <tr>\n",
       "      <td>11</td>\n",
       "      <td>Wii</td>\n",
       "      <td>68.28</td>\n",
       "    </tr>\n",
       "  </tbody>\n",
       "</table>\n",
       "</div>"
      ],
      "text/plain": [
       "   platform  jp_sales\n",
       "2        DS    141.49\n",
       "0       3DS    100.62\n",
       "7       PS3     79.41\n",
       "9       PSP     70.63\n",
       "11      Wii     68.28"
      ]
     },
     "execution_count": 45,
     "metadata": {},
     "output_type": "execute_result"
    }
   ],
   "source": [
    "(game_stat_new\n",
    " .groupby('platform')['jp_sales']\n",
    " .sum()\n",
    " .reset_index()\n",
    " .sort_values(by='jp_sales', ascending=False)\n",
    " .head(5)\n",
    ")"
   ]
  },
  {
   "cell_type": "code",
   "execution_count": 46,
   "metadata": {},
   "outputs": [
    {
     "data": {
      "text/html": [
       "<div>\n",
       "<style scoped>\n",
       "    .dataframe tbody tr th:only-of-type {\n",
       "        vertical-align: middle;\n",
       "    }\n",
       "\n",
       "    .dataframe tbody tr th {\n",
       "        vertical-align: top;\n",
       "    }\n",
       "\n",
       "    .dataframe thead th {\n",
       "        text-align: right;\n",
       "    }\n",
       "</style>\n",
       "<table border=\"1\" class=\"dataframe\">\n",
       "  <thead>\n",
       "    <tr style=\"text-align: right;\">\n",
       "      <th></th>\n",
       "      <th>genre</th>\n",
       "      <th>jp_sales</th>\n",
       "    </tr>\n",
       "  </thead>\n",
       "  <tbody>\n",
       "    <tr>\n",
       "      <td>7</td>\n",
       "      <td>Role-Playing</td>\n",
       "      <td>170.38</td>\n",
       "    </tr>\n",
       "    <tr>\n",
       "      <td>0</td>\n",
       "      <td>Action</td>\n",
       "      <td>102.07</td>\n",
       "    </tr>\n",
       "    <tr>\n",
       "      <td>3</td>\n",
       "      <td>Misc</td>\n",
       "      <td>64.53</td>\n",
       "    </tr>\n",
       "    <tr>\n",
       "      <td>10</td>\n",
       "      <td>Sports</td>\n",
       "      <td>48.97</td>\n",
       "    </tr>\n",
       "    <tr>\n",
       "      <td>4</td>\n",
       "      <td>Platform</td>\n",
       "      <td>35.20</td>\n",
       "    </tr>\n",
       "  </tbody>\n",
       "</table>\n",
       "</div>"
      ],
      "text/plain": [
       "           genre  jp_sales\n",
       "7   Role-Playing    170.38\n",
       "0         Action    102.07\n",
       "3           Misc     64.53\n",
       "10        Sports     48.97\n",
       "4       Platform     35.20"
      ]
     },
     "execution_count": 46,
     "metadata": {},
     "output_type": "execute_result"
    }
   ],
   "source": [
    "(game_stat_new\n",
    " .groupby('genre')['jp_sales']\n",
    " .sum()\n",
    " .reset_index()\n",
    " .sort_values(by='jp_sales', ascending=False)\n",
    " .head(5)\n",
    ")"
   ]
  },
  {
   "cell_type": "code",
   "execution_count": 47,
   "metadata": {},
   "outputs": [
    {
     "data": {
      "text/html": [
       "<div>\n",
       "<style scoped>\n",
       "    .dataframe tbody tr th:only-of-type {\n",
       "        vertical-align: middle;\n",
       "    }\n",
       "\n",
       "    .dataframe tbody tr th {\n",
       "        vertical-align: top;\n",
       "    }\n",
       "\n",
       "    .dataframe thead th {\n",
       "        text-align: right;\n",
       "    }\n",
       "</style>\n",
       "<table border=\"1\" class=\"dataframe\">\n",
       "  <thead>\n",
       "    <tr style=\"text-align: right;\">\n",
       "      <th></th>\n",
       "      <th>rating</th>\n",
       "      <th>jp_sales</th>\n",
       "    </tr>\n",
       "  </thead>\n",
       "  <tbody>\n",
       "    <tr>\n",
       "      <td>0</td>\n",
       "      <td>E</td>\n",
       "      <td>120.36</td>\n",
       "    </tr>\n",
       "    <tr>\n",
       "      <td>5</td>\n",
       "      <td>T</td>\n",
       "      <td>83.90</td>\n",
       "    </tr>\n",
       "    <tr>\n",
       "      <td>3</td>\n",
       "      <td>M</td>\n",
       "      <td>43.79</td>\n",
       "    </tr>\n",
       "    <tr>\n",
       "      <td>1</td>\n",
       "      <td>E10+</td>\n",
       "      <td>36.57</td>\n",
       "    </tr>\n",
       "    <tr>\n",
       "      <td>2</td>\n",
       "      <td>EC</td>\n",
       "      <td>0.00</td>\n",
       "    </tr>\n",
       "  </tbody>\n",
       "</table>\n",
       "</div>"
      ],
      "text/plain": [
       "  rating  jp_sales\n",
       "0      E    120.36\n",
       "5      T     83.90\n",
       "3      M     43.79\n",
       "1   E10+     36.57\n",
       "2     EC      0.00"
      ]
     },
     "execution_count": 47,
     "metadata": {},
     "output_type": "execute_result"
    }
   ],
   "source": [
    "(game_stat_new\n",
    " .query('rating != -1')\n",
    " .groupby('rating')['jp_sales']\n",
    " .sum()\n",
    " .reset_index()\n",
    " .sort_values(by='jp_sales', ascending=False)\n",
    " .head(5)\n",
    ")"
   ]
  },
  {
   "cell_type": "markdown",
   "metadata": {},
   "source": [
    "*В Японии немного по-другому*:\n",
    "- лидируют совсем другие платформы - `3DS`, `WiiU`, `DS`, `PSP`, `PS3`\n",
    "- самые популярные жанры - `Role-Playing`, `Platform`, `Sports`, `Misc`, `Action`. В Японии популярные жанры выглядят более безобидно\n",
    "- самые большие продажи у рейтингов `E` (для всех) и `T` (для подростков). Похоже, в Японии выбирают более спокойные игры."
   ]
  },
  {
   "cell_type": "markdown",
   "metadata": {},
   "source": [
    "#### Другие страны"
   ]
  },
  {
   "cell_type": "code",
   "execution_count": 50,
   "metadata": {},
   "outputs": [
    {
     "data": {
      "text/html": [
       "<div>\n",
       "<style scoped>\n",
       "    .dataframe tbody tr th:only-of-type {\n",
       "        vertical-align: middle;\n",
       "    }\n",
       "\n",
       "    .dataframe tbody tr th {\n",
       "        vertical-align: top;\n",
       "    }\n",
       "\n",
       "    .dataframe thead th {\n",
       "        text-align: right;\n",
       "    }\n",
       "</style>\n",
       "<table border=\"1\" class=\"dataframe\">\n",
       "  <thead>\n",
       "    <tr style=\"text-align: right;\">\n",
       "      <th></th>\n",
       "      <th>platform</th>\n",
       "      <th>other_sales</th>\n",
       "    </tr>\n",
       "  </thead>\n",
       "  <tbody>\n",
       "    <tr>\n",
       "      <td>7</td>\n",
       "      <td>PS3</td>\n",
       "      <td>134.59</td>\n",
       "    </tr>\n",
       "    <tr>\n",
       "      <td>13</td>\n",
       "      <td>X360</td>\n",
       "      <td>84.24</td>\n",
       "    </tr>\n",
       "    <tr>\n",
       "      <td>11</td>\n",
       "      <td>Wii</td>\n",
       "      <td>77.71</td>\n",
       "    </tr>\n",
       "    <tr>\n",
       "      <td>6</td>\n",
       "      <td>PS2</td>\n",
       "      <td>68.70</td>\n",
       "    </tr>\n",
       "    <tr>\n",
       "      <td>8</td>\n",
       "      <td>PS4</td>\n",
       "      <td>48.35</td>\n",
       "    </tr>\n",
       "  </tbody>\n",
       "</table>\n",
       "</div>"
      ],
      "text/plain": [
       "   platform  other_sales\n",
       "7       PS3       134.59\n",
       "13     X360        84.24\n",
       "11      Wii        77.71\n",
       "6       PS2        68.70\n",
       "8       PS4        48.35"
      ]
     },
     "execution_count": 50,
     "metadata": {},
     "output_type": "execute_result"
    }
   ],
   "source": [
    "(game_stat_new\n",
    " .groupby('platform')['other_sales']\n",
    " .sum()\n",
    " .reset_index()\n",
    " .sort_values(by='other_sales', ascending=False)\n",
    " .head(5)\n",
    ")"
   ]
  },
  {
   "cell_type": "code",
   "execution_count": 52,
   "metadata": {},
   "outputs": [
    {
     "data": {
      "text/html": [
       "<div>\n",
       "<style scoped>\n",
       "    .dataframe tbody tr th:only-of-type {\n",
       "        vertical-align: middle;\n",
       "    }\n",
       "\n",
       "    .dataframe tbody tr th {\n",
       "        vertical-align: top;\n",
       "    }\n",
       "\n",
       "    .dataframe thead th {\n",
       "        text-align: right;\n",
       "    }\n",
       "</style>\n",
       "<table border=\"1\" class=\"dataframe\">\n",
       "  <thead>\n",
       "    <tr style=\"text-align: right;\">\n",
       "      <th></th>\n",
       "      <th>genre</th>\n",
       "      <th>other_sales</th>\n",
       "    </tr>\n",
       "  </thead>\n",
       "  <tbody>\n",
       "    <tr>\n",
       "      <td>0</td>\n",
       "      <td>Action</td>\n",
       "      <td>133.44</td>\n",
       "    </tr>\n",
       "    <tr>\n",
       "      <td>10</td>\n",
       "      <td>Sports</td>\n",
       "      <td>96.69</td>\n",
       "    </tr>\n",
       "    <tr>\n",
       "      <td>8</td>\n",
       "      <td>Shooter</td>\n",
       "      <td>85.67</td>\n",
       "    </tr>\n",
       "    <tr>\n",
       "      <td>3</td>\n",
       "      <td>Misc</td>\n",
       "      <td>58.39</td>\n",
       "    </tr>\n",
       "    <tr>\n",
       "      <td>7</td>\n",
       "      <td>Role-Playing</td>\n",
       "      <td>41.77</td>\n",
       "    </tr>\n",
       "  </tbody>\n",
       "</table>\n",
       "</div>"
      ],
      "text/plain": [
       "           genre  other_sales\n",
       "0         Action       133.44\n",
       "10        Sports        96.69\n",
       "8        Shooter        85.67\n",
       "3           Misc        58.39\n",
       "7   Role-Playing        41.77"
      ]
     },
     "execution_count": 52,
     "metadata": {},
     "output_type": "execute_result"
    }
   ],
   "source": [
    "(game_stat_new\n",
    " .groupby('genre')['other_sales']\n",
    " .sum()\n",
    " .reset_index()\n",
    " .sort_values(by='other_sales', ascending=False)\n",
    " .head(5)\n",
    ")"
   ]
  },
  {
   "cell_type": "code",
   "execution_count": 48,
   "metadata": {},
   "outputs": [
    {
     "data": {
      "text/html": [
       "<div>\n",
       "<style scoped>\n",
       "    .dataframe tbody tr th:only-of-type {\n",
       "        vertical-align: middle;\n",
       "    }\n",
       "\n",
       "    .dataframe tbody tr th {\n",
       "        vertical-align: top;\n",
       "    }\n",
       "\n",
       "    .dataframe thead th {\n",
       "        text-align: right;\n",
       "    }\n",
       "</style>\n",
       "<table border=\"1\" class=\"dataframe\">\n",
       "  <thead>\n",
       "    <tr style=\"text-align: right;\">\n",
       "      <th></th>\n",
       "      <th>rating</th>\n",
       "      <th>other_sales</th>\n",
       "    </tr>\n",
       "  </thead>\n",
       "  <tbody>\n",
       "    <tr>\n",
       "      <td>0</td>\n",
       "      <td>E</td>\n",
       "      <td>162.54</td>\n",
       "    </tr>\n",
       "    <tr>\n",
       "      <td>3</td>\n",
       "      <td>M</td>\n",
       "      <td>140.70</td>\n",
       "    </tr>\n",
       "    <tr>\n",
       "      <td>5</td>\n",
       "      <td>T</td>\n",
       "      <td>105.85</td>\n",
       "    </tr>\n",
       "    <tr>\n",
       "      <td>1</td>\n",
       "      <td>E10+</td>\n",
       "      <td>67.51</td>\n",
       "    </tr>\n",
       "    <tr>\n",
       "      <td>2</td>\n",
       "      <td>EC</td>\n",
       "      <td>0.08</td>\n",
       "    </tr>\n",
       "  </tbody>\n",
       "</table>\n",
       "</div>"
      ],
      "text/plain": [
       "  rating  other_sales\n",
       "0      E       162.54\n",
       "3      M       140.70\n",
       "5      T       105.85\n",
       "1   E10+        67.51\n",
       "2     EC         0.08"
      ]
     },
     "execution_count": 48,
     "metadata": {},
     "output_type": "execute_result"
    }
   ],
   "source": [
    "(game_stat_new\n",
    " .query('rating != -1')\n",
    " .groupby('rating')['other_sales']\n",
    " .sum()\n",
    " .reset_index()\n",
    " .sort_values(by='other_sales', ascending=False)\n",
    " .head(5)\n",
    ")"
   ]
  },
  {
   "cell_type": "markdown",
   "metadata": {},
   "source": [
    "**Вывод:**\n",
    "\n",
    "*В Северной Америке и Европе картина примерно одинакова*:\n",
    "- лидируют платформы `X360`, `Wii` и `DS`, `PS3` с небольшой разницей в распределении продаж.\n",
    "- самые популярные жанры - `Action`, `Sports`,`Shooter`, `Misc`\n",
    "- с большим отрывом по продажам лидирует рейтинг `E` (для всех), на втором месте `M` (18+)\n",
    "\n",
    "*В Японии немного по-другому*:\n",
    "- лидируют совсем другие платформы - `3DS`, `WiiU`, `DS`, `PSP`, `PS3`\n",
    "- самые популярные жанры - `Role-Playing`, `Platform`, `Sports`, `Misc`, `Action`. В Японии популярные жанры выглядят более безобидно\n",
    "- самые большие продажи у рейтингов `E` (для всех) и `T` (для подростков). Похоже, в Японии выбирают более спокойные игры.\n",
    "\n",
    "*Другие страны*:\n",
    "- для остальных стран портрет потребителя примерно одинаков с потребителями из СА и Европы. Лидируют те же платформы, жанры и рейтинги. Выходит, Япония - достаточно специфический рынок, к которому нужен особый подход в плане рекламных кампаний. "
   ]
  },
  {
   "cell_type": "markdown",
   "metadata": {},
   "source": [
    "### Шаг 5. Проверим гипотезы"
   ]
  },
  {
   "cell_type": "markdown",
   "metadata": {},
   "source": [
    "**1. Средние пользовательские рейтинги платформ Xbox One и PC одинаковые**\n",
    "\n",
    "Сформулируем нулевую и альтернативную гипотезы. Нулевую гипотезу будем формулировать так, чтобы использовать знак равенства. Альтернативную гипотезу сформулируем оттакливаясь от нулевой гипотезы.\n",
    "\n",
    "- H₀ - средние пользовательские рейтинги платформ Xbox One и PC равны\n",
    "- H₁ - средние пользовательские рейтинги платформ Xbox One и PC не равны"
   ]
  },
  {
   "cell_type": "code",
   "execution_count": 175,
   "metadata": {},
   "outputs": [],
   "source": [
    "#зададим критический уровень статистической значимости\n",
    "alpha = .05"
   ]
  },
  {
   "cell_type": "code",
   "execution_count": 176,
   "metadata": {},
   "outputs": [],
   "source": [
    "xone = game_stat_new_filtered.query('platform == \"XOne\"')\n",
    "pc = game_stat_new_filtered.query('platform == \"PC\"')"
   ]
  },
  {
   "cell_type": "code",
   "execution_count": 177,
   "metadata": {},
   "outputs": [
    {
     "name": "stdout",
     "output_type": "stream",
     "text": [
      "p-значение: 0.033357322834315\n",
      "Отвергаем нулевую гипотезу\n",
      "\n",
      "Cредний пользовательский рейтинг платформы Xbox One - 6.54\n",
      "Cредний пользовательский рейтинг платформы PC - 6.82\n"
     ]
    }
   ],
   "source": [
    "results = st.ttest_ind(\n",
    "    xone['user_score'],\n",
    "    pc['user_score'],\n",
    ")\n",
    "\n",
    "print('p-значение:', results.pvalue)\n",
    "\n",
    "if (results.pvalue < alpha):\n",
    "    print(\"Отвергаем нулевую гипотезу\")\n",
    "else:\n",
    "    print(\"Не получилось отвергнуть нулевую гипотезу\")\n",
    "    \n",
    "print()    \n",
    "print('Cредний пользовательский рейтинг платформы Xbox One -', xone['user_score'].mean().round(2))\n",
    "print('Cредний пользовательский рейтинг платформы PC -', pc['user_score'].mean().round(2))"
   ]
  },
  {
   "cell_type": "markdown",
   "metadata": {},
   "source": [
    "**2. Средние пользовательские рейтинги жанров Action (англ. «действие», экшен-игры) и Sports (англ. «спортивные соревнования») разные.**\n",
    "\n",
    "- H₀ - средние пользовательские рейтинги жанров `Action` и `Sports` равны\n",
    "- H₁ - средние пользовательские рейтинги жанров `Action` и `Sports` не равны"
   ]
  },
  {
   "cell_type": "code",
   "execution_count": 178,
   "metadata": {},
   "outputs": [],
   "source": [
    "action = game_stat_new_filtered.query('genre == \"Action\"')\n",
    "sports = game_stat_new_filtered.query('genre == \"Sports\"')"
   ]
  },
  {
   "cell_type": "code",
   "execution_count": 179,
   "metadata": {
    "scrolled": true
   },
   "outputs": [
    {
     "name": "stdout",
     "output_type": "stream",
     "text": [
      "p-значение: 9.401740722845624e-07\n",
      "Отвергаем нулевую гипотезу\n",
      "\n",
      "Cредний пользовательский рейтинг жанра Action - 6.92\n",
      "Cредний пользовательский рейтинг жанра Sports - 6.58\n"
     ]
    }
   ],
   "source": [
    "results = st.ttest_ind(\n",
    "    action['user_score'],\n",
    "    sports['user_score'],\n",
    ")\n",
    "\n",
    "print('p-значение:', results.pvalue)\n",
    "\n",
    "if (results.pvalue < alpha):\n",
    "    print(\"Отвергаем нулевую гипотезу\")\n",
    "else:\n",
    "    print(\"Не получилось отвергнуть нулевую гипотезу\")\n",
    "    \n",
    "print()    \n",
    "print('Cредний пользовательский рейтинг жанра Action -', action['user_score'].mean().round(2))\n",
    "print('Cредний пользовательский рейтинг жанра Sports -', sports['user_score'].mean().round(2))"
   ]
  },
  {
   "cell_type": "markdown",
   "metadata": {},
   "source": [
    "**Вывод:** Проверили две гипотезы и отвергли обе:\n",
    "- средние пользовательские рейтинги платформ Xbox One и PC равны\n",
    "- средние пользовательские рейтинги жанров Action и Sports равны\n",
    "\n",
    "Всё же разница между пользовательскими рейтингами платформ и жанров есть."
   ]
  },
  {
   "cell_type": "markdown",
   "metadata": {},
   "source": [
    "### Шаг 6. Общий вывод"
   ]
  },
  {
   "cell_type": "markdown",
   "metadata": {},
   "source": [
    "В ходе работы:\n",
    "\n",
    "- ознакомились с предоставленными данными, выявили ошибки и пропуски в датасете и обработали их: привели названия столбцов к нижнему регистру, преобразовали данные в нужные типы, заполнили пропуски, посчитали суммарные продажи во всех регионах и добавили в датасет.\n",
    "\n",
    "- провели исследовательский анализ данных, выделили срез данных за 2006-2016 гг\n",
    "\n",
    "- нашли 10 платформ-лидеров по продажам: `X360, PS3, Wii, DS, PS4, PS2, 3DS, PSP, PC, XOne`\n",
    "\n",
    "Выяснили, что:\n",
    "\n",
    "- В промежутке исследуемых 10-лет пик прибыли у большинства платформ приходится на 2008-2011 годы. Позднее выручка становится все меньше и меньше. Назвать потенциально прибыльной (учитывая, что в нашем распоряжении данные не за полный 2016 год) можно только платформу `PS4`.\n",
    "\n",
    "- На примере `PS4` рассмотрели корреляцию **оценка критика/выручка** и **оценка пользователя/выручка** и пришли к выводу, что отзывы критиков в большей степени влияют на продажи, чем отзывы пользователей.\n",
    "\n",
    "- Больше всего выручка у платформы при оценке критиков 70 и выше.\n",
    "\n",
    "- Самыми прибыльными оказались жанры `Action`, `Sports` и `Shooter`.\n",
    "\n",
    "- Самые низкие сборы у жанров `Adventure`, `Puzzle` и `Strategy`.\n",
    "\n",
    "- Составили портрет пользователей в Северной Америке, Европе и Японии:\n",
    "\n",
    "*В Северной Америке и Европе картина примерно одинакова*:\n",
    "- лидируют платформы `X360`, `Wii` и `DS`, `PS3` с небольшой разницей в распределении продаж.\n",
    "- самые популярные жанры - `Action`, `Sports`,`Shooter`, `Misc`\n",
    "- с большим отрывом по продажам лидирует рейтинг `E` (для всех), на втором месте `M` (18+)\n",
    "\n",
    "*В Японии немного по-другому*:\n",
    "- лидируют совсем другие платформы - `3DS`, `WiiU`, `DS`, `PSP`, `PS3`\n",
    "- самые популярные жанры - `Role-Playing`, `Platform`, `Sports`, `Misc`, `Action`. В Японии популярные жанры выглядят более безобидно\n",
    "- самые большие продажи у рейтингов `E` (для всех) и `T` (для подростков). Похоже, в Японии выбирают более спокойные игры.\n",
    "\n",
    "*Другие страны*:\n",
    "- для остальных стран портрет потребителя примерно одинаков с потребителями из СА и Европы. Лидируют те же платформы, жанры и рейтинги. Выходит, Япония - достаточно специфический рынок, к которому нужен особый подход в плане рекламных кампаний. \n",
    "\n",
    "\n",
    "Проверили следующие две гипотезы и отвергли обе (всё же разница между пользовательскими рейтингами платформ и жанров есть):\n",
    "  1. средние пользовательские рейтинги платформ Xbox One и PC равны\n",
    "  2. средние пользовательские рейтинги жанров Action и Sports равны\n",
    "\n",
    "\n",
    "**Планируя рекламную кампанию на 2017 год стоит обратить особое внимание на продвижение платформы `PS4` (как более новую версию популярной PS3), а также платформ `X360`и `Wii`, и в особенности игр в жанрах `Action`, `Sports`, `Shooter`.**\n",
    "\n",
    "**Стоит также не забывать об особенностях рынка и подстроить рекламу конкретно под него. На примере Японии мы разобрали, как требования потребителей одной страны могут отличаться от предпочтений основной массы пользователей**"
   ]
  }
 ],
 "metadata": {
  "kernelspec": {
   "display_name": "Python 3",
   "language": "python",
   "name": "python3"
  },
  "language_info": {
   "codemirror_mode": {
    "name": "ipython",
    "version": 3
   },
   "file_extension": ".py",
   "mimetype": "text/x-python",
   "name": "python",
   "nbconvert_exporter": "python",
   "pygments_lexer": "ipython3",
   "version": "3.7.6"
  }
 },
 "nbformat": 4,
 "nbformat_minor": 2
}
