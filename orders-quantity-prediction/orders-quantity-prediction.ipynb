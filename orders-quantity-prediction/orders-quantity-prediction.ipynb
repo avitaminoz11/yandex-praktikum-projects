{
 "cells": [
  {
   "cell_type": "markdown",
   "metadata": {},
   "source": [
    "# Предсказание количества заказов для сервиса такси\n",
    "\n",
    "Сервис такси собрал исторические данные о заказах такси в аэропортах. Чтобы привлекать больше водителей в период пиковой нагрузки, нужно спрогнозировать количество заказов такси на следующий час. Построим модель для такого предсказания.\n",
    "\n",
    "По условию значение метрики *RMSE* на тестовой выборке должно быть не больше 48.\n",
    "\n",
    "### Ход работы\n",
    "\n",
    "1. Загрузим данные и выполним их ресемплирование по одному часу.\n",
    "2. Проанализируем данные.\n",
    "3. Обучим разные модели с различными гиперпараметрами. Сделаем тестовую выборку размером 10% от исходных данных.\n",
    "4. Проверим данные на тестовой выборке и сделаем выводы.\n",
    "\n",
    "### Описание данных\n",
    "\n",
    "Количество заказов находится в столбце '*num_orders*'."
   ]
  },
  {
   "cell_type": "markdown",
   "metadata": {},
   "source": [
    "# 1. Подготовка"
   ]
  },
  {
   "cell_type": "code",
   "execution_count": 24,
   "metadata": {},
   "outputs": [],
   "source": [
    "#импортируем все необходимые библиотеки и инструменты\n",
    "import pandas as pd\n",
    "import numpy as np\n",
    "import matplotlib.pyplot as plt\n",
    "from sklearn.metrics import mean_squared_error, mean_absolute_error\n",
    "from sklearn.model_selection import train_test_split, cross_val_score\n",
    "from sklearn.linear_model import LinearRegression\n",
    "from catboost import CatBoostRegressor\n",
    "import lightgbm as lgb\n",
    "from lightgbm import LGBMRegressor\n",
    "from statsmodels.tsa.seasonal import seasonal_decompose"
   ]
  },
  {
   "cell_type": "markdown",
   "metadata": {},
   "source": [
    "Чтобы преобразовать нужный столбец в датасете в тип данных datetime, передадим в функцию `read_csv` аргумент `parse_dates`. Индексировать данные будем по первому столбцу."
   ]
  },
  {
   "cell_type": "code",
   "execution_count": 25,
   "metadata": {},
   "outputs": [
    {
     "name": "stdout",
     "output_type": "stream",
     "text": [
      "<class 'pandas.core.frame.DataFrame'>\n",
      "DatetimeIndex: 26496 entries, 2018-03-01 00:00:00 to 2018-08-31 23:50:00\n",
      "Data columns (total 1 columns):\n",
      "num_orders    26496 non-null int64\n",
      "dtypes: int64(1)\n",
      "memory usage: 414.0 KB\n"
     ]
    },
    {
     "data": {
      "text/plain": [
       "None"
      ]
     },
     "metadata": {},
     "output_type": "display_data"
    },
    {
     "data": {
      "text/html": [
       "<div>\n",
       "<style scoped>\n",
       "    .dataframe tbody tr th:only-of-type {\n",
       "        vertical-align: middle;\n",
       "    }\n",
       "\n",
       "    .dataframe tbody tr th {\n",
       "        vertical-align: top;\n",
       "    }\n",
       "\n",
       "    .dataframe thead th {\n",
       "        text-align: right;\n",
       "    }\n",
       "</style>\n",
       "<table border=\"1\" class=\"dataframe\">\n",
       "  <thead>\n",
       "    <tr style=\"text-align: right;\">\n",
       "      <th></th>\n",
       "      <th>num_orders</th>\n",
       "    </tr>\n",
       "    <tr>\n",
       "      <th>datetime</th>\n",
       "      <th></th>\n",
       "    </tr>\n",
       "  </thead>\n",
       "  <tbody>\n",
       "    <tr>\n",
       "      <td>2018-03-01 00:00:00</td>\n",
       "      <td>9</td>\n",
       "    </tr>\n",
       "    <tr>\n",
       "      <td>2018-03-01 00:10:00</td>\n",
       "      <td>14</td>\n",
       "    </tr>\n",
       "    <tr>\n",
       "      <td>2018-03-01 00:20:00</td>\n",
       "      <td>28</td>\n",
       "    </tr>\n",
       "    <tr>\n",
       "      <td>2018-03-01 00:30:00</td>\n",
       "      <td>20</td>\n",
       "    </tr>\n",
       "    <tr>\n",
       "      <td>2018-03-01 00:40:00</td>\n",
       "      <td>32</td>\n",
       "    </tr>\n",
       "  </tbody>\n",
       "</table>\n",
       "</div>"
      ],
      "text/plain": [
       "                     num_orders\n",
       "datetime                       \n",
       "2018-03-01 00:00:00           9\n",
       "2018-03-01 00:10:00          14\n",
       "2018-03-01 00:20:00          28\n",
       "2018-03-01 00:30:00          20\n",
       "2018-03-01 00:40:00          32"
      ]
     },
     "execution_count": 25,
     "metadata": {},
     "output_type": "execute_result"
    }
   ],
   "source": [
    "taxi = pd.read_csv('/datasets/taxi.csv', index_col=[0], parse_dates=[0])\n",
    "display(taxi.info())\n",
    "taxi.head()"
   ]
  },
  {
   "cell_type": "markdown",
   "metadata": {},
   "source": [
    "Наблюдения в датасете сделаны с разницей в 10 минут. Это слишком подробные данные. Выполним ресемплирование с интервалом в 1 час. Данные суммируем."
   ]
  },
  {
   "cell_type": "code",
   "execution_count": 26,
   "metadata": {},
   "outputs": [],
   "source": [
    "taxi.sort_index(inplace=True)\n",
    "taxi = taxi.resample('1H').sum()"
   ]
  },
  {
   "cell_type": "code",
   "execution_count": 27,
   "metadata": {},
   "outputs": [
    {
     "name": "stdout",
     "output_type": "stream",
     "text": [
      "<class 'pandas.core.frame.DataFrame'>\n",
      "DatetimeIndex: 4416 entries, 2018-03-01 00:00:00 to 2018-08-31 23:00:00\n",
      "Freq: H\n",
      "Data columns (total 1 columns):\n",
      "num_orders    4416 non-null int64\n",
      "dtypes: int64(1)\n",
      "memory usage: 69.0 KB\n"
     ]
    },
    {
     "data": {
      "text/plain": [
       "None"
      ]
     },
     "metadata": {},
     "output_type": "display_data"
    },
    {
     "data": {
      "text/html": [
       "<div>\n",
       "<style scoped>\n",
       "    .dataframe tbody tr th:only-of-type {\n",
       "        vertical-align: middle;\n",
       "    }\n",
       "\n",
       "    .dataframe tbody tr th {\n",
       "        vertical-align: top;\n",
       "    }\n",
       "\n",
       "    .dataframe thead th {\n",
       "        text-align: right;\n",
       "    }\n",
       "</style>\n",
       "<table border=\"1\" class=\"dataframe\">\n",
       "  <thead>\n",
       "    <tr style=\"text-align: right;\">\n",
       "      <th></th>\n",
       "      <th>num_orders</th>\n",
       "    </tr>\n",
       "    <tr>\n",
       "      <th>datetime</th>\n",
       "      <th></th>\n",
       "    </tr>\n",
       "  </thead>\n",
       "  <tbody>\n",
       "    <tr>\n",
       "      <td>2018-03-01 00:00:00</td>\n",
       "      <td>124</td>\n",
       "    </tr>\n",
       "    <tr>\n",
       "      <td>2018-03-01 01:00:00</td>\n",
       "      <td>85</td>\n",
       "    </tr>\n",
       "    <tr>\n",
       "      <td>2018-03-01 02:00:00</td>\n",
       "      <td>71</td>\n",
       "    </tr>\n",
       "    <tr>\n",
       "      <td>2018-03-01 03:00:00</td>\n",
       "      <td>66</td>\n",
       "    </tr>\n",
       "    <tr>\n",
       "      <td>2018-03-01 04:00:00</td>\n",
       "      <td>43</td>\n",
       "    </tr>\n",
       "  </tbody>\n",
       "</table>\n",
       "</div>"
      ],
      "text/plain": [
       "                     num_orders\n",
       "datetime                       \n",
       "2018-03-01 00:00:00         124\n",
       "2018-03-01 01:00:00          85\n",
       "2018-03-01 02:00:00          71\n",
       "2018-03-01 03:00:00          66\n",
       "2018-03-01 04:00:00          43"
      ]
     },
     "execution_count": 27,
     "metadata": {},
     "output_type": "execute_result"
    }
   ],
   "source": [
    "display(taxi.info())\n",
    "taxi.head()"
   ]
  },
  {
   "cell_type": "markdown",
   "metadata": {},
   "source": [
    "Данные подготовлены. Проанализируем их."
   ]
  },
  {
   "cell_type": "markdown",
   "metadata": {},
   "source": [
    "# 2. Анализ"
   ]
  },
  {
   "cell_type": "markdown",
   "metadata": {},
   "source": [
    "Изучим данные - в какой промежуток времени велось наблюдение?"
   ]
  },
  {
   "cell_type": "code",
   "execution_count": 28,
   "metadata": {},
   "outputs": [
    {
     "name": "stdout",
     "output_type": "stream",
     "text": [
      "Начало наблюдения: 2018-03-01 00:00:00\n",
      "Конец наблюдения: 2018-08-31 23:00:00\n"
     ]
    }
   ],
   "source": [
    "print(\"Начало наблюдения:\", taxi.index.min())\n",
    "print(\"Конец наблюдения:\", taxi.index.max())"
   ]
  },
  {
   "cell_type": "markdown",
   "metadata": {},
   "source": [
    "Нам предоставлены данные с марта по август (включительно) 2018 года."
   ]
  },
  {
   "cell_type": "markdown",
   "metadata": {},
   "source": [
    "Оценим данные на графике."
   ]
  },
  {
   "cell_type": "code",
   "execution_count": 29,
   "metadata": {},
   "outputs": [
    {
     "data": {
      "text/plain": [
       "<matplotlib.axes._subplots.AxesSubplot at 0x7f220ca9c310>"
      ]
     },
     "execution_count": 29,
     "metadata": {},
     "output_type": "execute_result"
    },
    {
     "data": {
      "image/png": "[encoded data removed]",
      "text/plain": [
       "<Figure size 432x288 with 1 Axes>"
      ]
     },
     "metadata": {
      "needs_background": "light"
     },
     "output_type": "display_data"
    }
   ],
   "source": [
    "taxi.plot()"
   ]
  },
  {
   "cell_type": "markdown",
   "metadata": {},
   "source": [
    "Мы не сможем изучить сезонность по предоставленным данным, так как информация есть только по срезу в полгода. Но можем оценить, как меняется объем заказов от первого наблюдения к последнему. Для наглядности ресемплируем данные по неделе и сохраним с новую переменную. Выведем на график."
   ]
  },
  {
   "cell_type": "code",
   "execution_count": 30,
   "metadata": {},
   "outputs": [
    {
     "data": {
      "text/plain": [
       "<matplotlib.axes._subplots.AxesSubplot at 0x7f220cbef410>"
      ]
     },
     "execution_count": 30,
     "metadata": {},
     "output_type": "execute_result"
    },
    {
     "data": {
      "image/png": "[encoded data removed]",
      "text/plain": [
       "<Figure size 432x288 with 1 Axes>"
      ]
     },
     "metadata": {
      "needs_background": "light"
     },
     "output_type": "display_data"
    }
   ],
   "source": [
    "taxi_week = taxi.resample('1W').sum()\n",
    "taxi_week.plot()"
   ]
  },
  {
   "cell_type": "markdown",
   "metadata": {},
   "source": [
    "По графику можно сказать, что дела у сервиса по заказу такси идут хорошо - заказы увеличиваются от месяца к месяцу. Однако, однозначного решения принять нельзя - возможно, это стандартная практика у сервисов, и если бы мы взглянули на данные за несколько лет, то проследили бы закономерность."
   ]
  },
  {
   "cell_type": "markdown",
   "metadata": {},
   "source": [
    "С помощью функции `seasonal_decompose()` разложим временной ряд на три составляющие: тренд, сезонность и остаток (residuals) - это шум, который не объясняется трендом и сезонностью."
   ]
  },
  {
   "cell_type": "code",
   "execution_count": 31,
   "metadata": {},
   "outputs": [
    {
     "data": {
      "image/png": "[encoded data removed]",
      "text/plain": [
       "<Figure size 432x576 with 3 Axes>"
      ]
     },
     "metadata": {
      "needs_background": "light"
     },
     "output_type": "display_data"
    }
   ],
   "source": [
    "decomposed = seasonal_decompose(taxi['num_orders'], model='additive')\n",
    "\n",
    "plt.figure(figsize=(6, 8))\n",
    "plt.subplot(311)\n",
    "decomposed.trend.plot(ax=plt.gca())\n",
    "plt.title('Trend')\n",
    "plt.subplot(312)\n",
    "decomposed.seasonal.plot(ax=plt.gca())\n",
    "plt.title('Seasonality')\n",
    "plt.subplot(313)\n",
    "decomposed.resid.plot(ax=plt.gca())\n",
    "plt.title('Residuals')\n",
    "plt.tight_layout()"
   ]
  },
  {
   "cell_type": "markdown",
   "metadata": {},
   "source": [
    "Здесь также видно, что тренд растет от месяца к месяцу, но чтобы вывести сезонность нагляднее и изучить ее, ресемплируем данные по одному дню."
   ]
  },
  {
   "cell_type": "code",
   "execution_count": 32,
   "metadata": {},
   "outputs": [
    {
     "data": {
      "text/plain": [
       "Text(0.5, 1.0, 'Seasonality')"
      ]
     },
     "execution_count": 32,
     "metadata": {},
     "output_type": "execute_result"
    },
    {
     "data": {
      "image/png": "[encoded data removed]",
      "text/plain": [
       "<Figure size 432x576 with 1 Axes>"
      ]
     },
     "metadata": {
      "needs_background": "light"
     },
     "output_type": "display_data"
    }
   ],
   "source": [
    "taxi_day = taxi.resample('1D').sum()\n",
    "\n",
    "decomposed_day = seasonal_decompose(taxi_day)\n",
    "\n",
    "plt.figure(figsize=(6, 8))\n",
    "plt.subplot(311)\n",
    "decomposed_day.seasonal.plot(ax=plt.gca())\n",
    "plt.title('Seasonality')"
   ]
  },
  {
   "cell_type": "markdown",
   "metadata": {},
   "source": [
    "Видим колебания раз в неделю - похоже, на выходных услугами такси пользуются реже. Логично - люди больше выезжают за город на личном транспорте/гуляют/остаются дома."
   ]
  },
  {
   "cell_type": "markdown",
   "metadata": {},
   "source": [
    "Найдем разности временного ряда. Станет ли он более стационарным, если применить метод `.shift()`?"
   ]
  },
  {
   "cell_type": "code",
   "execution_count": 33,
   "metadata": {},
   "outputs": [
    {
     "data": {
      "text/plain": [
       "<matplotlib.axes._subplots.AxesSubplot at 0x7f220c3fdf90>"
      ]
     },
     "execution_count": 33,
     "metadata": {},
     "output_type": "execute_result"
    },
    {
     "data": {
      "image/png": "[encoded data removed]",
      "text/plain": [
       "<Figure size 432x288 with 1 Axes>"
      ]
     },
     "metadata": {
      "needs_background": "light"
     },
     "output_type": "display_data"
    }
   ],
   "source": [
    "taxi_shifted = taxi - taxi.shift(fill_value=0)\n",
    "taxi_shifted['mean'] = taxi_shifted['num_orders'].rolling(15).mean()\n",
    "taxi_shifted['std'] = taxi_shifted['num_orders'].rolling(15).std()\n",
    "taxi_shifted.plot()"
   ]
  },
  {
   "cell_type": "markdown",
   "metadata": {},
   "source": [
    "Ряд становится более стационарным, а значит данные можно прогнозировать."
   ]
  },
  {
   "cell_type": "markdown",
   "metadata": {},
   "source": [
    "# 3. Обучение"
   ]
  },
  {
   "cell_type": "markdown",
   "metadata": {},
   "source": [
    "Для успешного обучения добавим признаки в датасет. Напишем функцию `make_features()`, которая:\n",
    "\n",
    "- добавит к датасету четыре новых календарных признака: год, месяц, день и день недели,\n",
    "- вычислит и добавит отстающие значения (предыдущие значения временного ряда, которые покажут, будет ли функция x(t) расти или уменьшаться),\n",
    "- вычислит скользящее среднее и добавит его как признак `rolling_mean` - этот признак задаст общий тренд временного ряда. "
   ]
  },
  {
   "cell_type": "code",
   "execution_count": 9,
   "metadata": {},
   "outputs": [],
   "source": [
    "def make_features(data, max_lag, rolling_mean_size):\n",
    "    data['year'] = data.index.year\n",
    "    data['month'] = data.index.month\n",
    "    data['day'] = data.index.day\n",
    "    data['dayofweek'] = data.index.dayofweek\n",
    "    \n",
    "    for lag in range(1, max_lag + 1):\n",
    "        data['lag_{}'.format(lag)] = data['num_orders'].shift(lag)\n",
    "\n",
    "    data['rolling_mean'] = data['num_orders'].shift().rolling(rolling_mean_size).mean()"
   ]
  },
  {
   "cell_type": "code",
   "execution_count": 10,
   "metadata": {},
   "outputs": [
    {
     "data": {
      "text/html": [
       "<div>\n",
       "<style scoped>\n",
       "    .dataframe tbody tr th:only-of-type {\n",
       "        vertical-align: middle;\n",
       "    }\n",
       "\n",
       "    .dataframe tbody tr th {\n",
       "        vertical-align: top;\n",
       "    }\n",
       "\n",
       "    .dataframe thead th {\n",
       "        text-align: right;\n",
       "    }\n",
       "</style>\n",
       "<table border=\"1\" class=\"dataframe\">\n",
       "  <thead>\n",
       "    <tr style=\"text-align: right;\">\n",
       "      <th></th>\n",
       "      <th>num_orders</th>\n",
       "      <th>year</th>\n",
       "      <th>month</th>\n",
       "      <th>day</th>\n",
       "      <th>dayofweek</th>\n",
       "      <th>lag_1</th>\n",
       "      <th>lag_2</th>\n",
       "      <th>lag_3</th>\n",
       "      <th>lag_4</th>\n",
       "      <th>lag_5</th>\n",
       "      <th>...</th>\n",
       "      <th>lag_16</th>\n",
       "      <th>lag_17</th>\n",
       "      <th>lag_18</th>\n",
       "      <th>lag_19</th>\n",
       "      <th>lag_20</th>\n",
       "      <th>lag_21</th>\n",
       "      <th>lag_22</th>\n",
       "      <th>lag_23</th>\n",
       "      <th>lag_24</th>\n",
       "      <th>rolling_mean</th>\n",
       "    </tr>\n",
       "    <tr>\n",
       "      <th>datetime</th>\n",
       "      <th></th>\n",
       "      <th></th>\n",
       "      <th></th>\n",
       "      <th></th>\n",
       "      <th></th>\n",
       "      <th></th>\n",
       "      <th></th>\n",
       "      <th></th>\n",
       "      <th></th>\n",
       "      <th></th>\n",
       "      <th></th>\n",
       "      <th></th>\n",
       "      <th></th>\n",
       "      <th></th>\n",
       "      <th></th>\n",
       "      <th></th>\n",
       "      <th></th>\n",
       "      <th></th>\n",
       "      <th></th>\n",
       "      <th></th>\n",
       "      <th></th>\n",
       "    </tr>\n",
       "  </thead>\n",
       "  <tbody>\n",
       "    <tr>\n",
       "      <td>2018-03-01 00:00:00</td>\n",
       "      <td>124</td>\n",
       "      <td>2018</td>\n",
       "      <td>3</td>\n",
       "      <td>1</td>\n",
       "      <td>3</td>\n",
       "      <td>NaN</td>\n",
       "      <td>NaN</td>\n",
       "      <td>NaN</td>\n",
       "      <td>NaN</td>\n",
       "      <td>NaN</td>\n",
       "      <td>...</td>\n",
       "      <td>NaN</td>\n",
       "      <td>NaN</td>\n",
       "      <td>NaN</td>\n",
       "      <td>NaN</td>\n",
       "      <td>NaN</td>\n",
       "      <td>NaN</td>\n",
       "      <td>NaN</td>\n",
       "      <td>NaN</td>\n",
       "      <td>NaN</td>\n",
       "      <td>NaN</td>\n",
       "    </tr>\n",
       "    <tr>\n",
       "      <td>2018-03-01 01:00:00</td>\n",
       "      <td>85</td>\n",
       "      <td>2018</td>\n",
       "      <td>3</td>\n",
       "      <td>1</td>\n",
       "      <td>3</td>\n",
       "      <td>124.0</td>\n",
       "      <td>NaN</td>\n",
       "      <td>NaN</td>\n",
       "      <td>NaN</td>\n",
       "      <td>NaN</td>\n",
       "      <td>...</td>\n",
       "      <td>NaN</td>\n",
       "      <td>NaN</td>\n",
       "      <td>NaN</td>\n",
       "      <td>NaN</td>\n",
       "      <td>NaN</td>\n",
       "      <td>NaN</td>\n",
       "      <td>NaN</td>\n",
       "      <td>NaN</td>\n",
       "      <td>NaN</td>\n",
       "      <td>NaN</td>\n",
       "    </tr>\n",
       "    <tr>\n",
       "      <td>2018-03-01 02:00:00</td>\n",
       "      <td>71</td>\n",
       "      <td>2018</td>\n",
       "      <td>3</td>\n",
       "      <td>1</td>\n",
       "      <td>3</td>\n",
       "      <td>85.0</td>\n",
       "      <td>124.0</td>\n",
       "      <td>NaN</td>\n",
       "      <td>NaN</td>\n",
       "      <td>NaN</td>\n",
       "      <td>...</td>\n",
       "      <td>NaN</td>\n",
       "      <td>NaN</td>\n",
       "      <td>NaN</td>\n",
       "      <td>NaN</td>\n",
       "      <td>NaN</td>\n",
       "      <td>NaN</td>\n",
       "      <td>NaN</td>\n",
       "      <td>NaN</td>\n",
       "      <td>NaN</td>\n",
       "      <td>NaN</td>\n",
       "    </tr>\n",
       "    <tr>\n",
       "      <td>2018-03-01 03:00:00</td>\n",
       "      <td>66</td>\n",
       "      <td>2018</td>\n",
       "      <td>3</td>\n",
       "      <td>1</td>\n",
       "      <td>3</td>\n",
       "      <td>71.0</td>\n",
       "      <td>85.0</td>\n",
       "      <td>124.0</td>\n",
       "      <td>NaN</td>\n",
       "      <td>NaN</td>\n",
       "      <td>...</td>\n",
       "      <td>NaN</td>\n",
       "      <td>NaN</td>\n",
       "      <td>NaN</td>\n",
       "      <td>NaN</td>\n",
       "      <td>NaN</td>\n",
       "      <td>NaN</td>\n",
       "      <td>NaN</td>\n",
       "      <td>NaN</td>\n",
       "      <td>NaN</td>\n",
       "      <td>93.333333</td>\n",
       "    </tr>\n",
       "    <tr>\n",
       "      <td>2018-03-01 04:00:00</td>\n",
       "      <td>43</td>\n",
       "      <td>2018</td>\n",
       "      <td>3</td>\n",
       "      <td>1</td>\n",
       "      <td>3</td>\n",
       "      <td>66.0</td>\n",
       "      <td>71.0</td>\n",
       "      <td>85.0</td>\n",
       "      <td>124.0</td>\n",
       "      <td>NaN</td>\n",
       "      <td>...</td>\n",
       "      <td>NaN</td>\n",
       "      <td>NaN</td>\n",
       "      <td>NaN</td>\n",
       "      <td>NaN</td>\n",
       "      <td>NaN</td>\n",
       "      <td>NaN</td>\n",
       "      <td>NaN</td>\n",
       "      <td>NaN</td>\n",
       "      <td>NaN</td>\n",
       "      <td>74.000000</td>\n",
       "    </tr>\n",
       "  </tbody>\n",
       "</table>\n",
       "<p>5 rows × 30 columns</p>\n",
       "</div>"
      ],
      "text/plain": [
       "                     num_orders  year  month  day  dayofweek  lag_1  lag_2  \\\n",
       "datetime                                                                     \n",
       "2018-03-01 00:00:00         124  2018      3    1          3    NaN    NaN   \n",
       "2018-03-01 01:00:00          85  2018      3    1          3  124.0    NaN   \n",
       "2018-03-01 02:00:00          71  2018      3    1          3   85.0  124.0   \n",
       "2018-03-01 03:00:00          66  2018      3    1          3   71.0   85.0   \n",
       "2018-03-01 04:00:00          43  2018      3    1          3   66.0   71.0   \n",
       "\n",
       "                     lag_3  lag_4  lag_5  ...  lag_16  lag_17  lag_18  lag_19  \\\n",
       "datetime                                  ...                                   \n",
       "2018-03-01 00:00:00    NaN    NaN    NaN  ...     NaN     NaN     NaN     NaN   \n",
       "2018-03-01 01:00:00    NaN    NaN    NaN  ...     NaN     NaN     NaN     NaN   \n",
       "2018-03-01 02:00:00    NaN    NaN    NaN  ...     NaN     NaN     NaN     NaN   \n",
       "2018-03-01 03:00:00  124.0    NaN    NaN  ...     NaN     NaN     NaN     NaN   \n",
       "2018-03-01 04:00:00   85.0  124.0    NaN  ...     NaN     NaN     NaN     NaN   \n",
       "\n",
       "                     lag_20  lag_21  lag_22  lag_23  lag_24  rolling_mean  \n",
       "datetime                                                                   \n",
       "2018-03-01 00:00:00     NaN     NaN     NaN     NaN     NaN           NaN  \n",
       "2018-03-01 01:00:00     NaN     NaN     NaN     NaN     NaN           NaN  \n",
       "2018-03-01 02:00:00     NaN     NaN     NaN     NaN     NaN           NaN  \n",
       "2018-03-01 03:00:00     NaN     NaN     NaN     NaN     NaN     93.333333  \n",
       "2018-03-01 04:00:00     NaN     NaN     NaN     NaN     NaN     74.000000  \n",
       "\n",
       "[5 rows x 30 columns]"
      ]
     },
     "execution_count": 10,
     "metadata": {},
     "output_type": "execute_result"
    }
   ],
   "source": [
    "make_features(taxi, 24, 3)\n",
    "taxi.head()"
   ]
  },
  {
   "cell_type": "markdown",
   "metadata": {},
   "source": [
    "Разделим данные на обучающую и тестовую выборки, а затем поделим признаки.\n",
    "\n",
    "Функция `train_test_split` по умолчанию перемешивает данные (что нам в данном случае не нужно), поэтому добавим параметр `shuffle=False`.\n",
    "\n",
    "После применения функции `make_features` у нас появились NaN-значения за счет сдвига данных. Их никак не заполнить - просто избавимся от них."
   ]
  },
  {
   "cell_type": "code",
   "execution_count": 11,
   "metadata": {},
   "outputs": [],
   "source": [
    "train, test = train_test_split(taxi, shuffle=False, test_size=0.1)\n",
    "train = train.dropna()\n",
    "\n",
    "features_train = train.drop(['num_orders'], axis=1)\n",
    "target_train = train['num_orders']\n",
    "\n",
    "features_test = test.drop(['num_orders'], axis=1)\n",
    "target_test = test['num_orders']"
   ]
  },
  {
   "cell_type": "markdown",
   "metadata": {},
   "source": [
    "Проверим, что данные не перемешались - сравним последнее наблюдение признаков обучающей выборки и первое наблюдение признаков тестовой выборки."
   ]
  },
  {
   "cell_type": "code",
   "execution_count": 12,
   "metadata": {},
   "outputs": [
    {
     "name": "stdout",
     "output_type": "stream",
     "text": [
      "2018-08-13 13:00:00\n",
      "2018-08-13 14:00:00\n"
     ]
    }
   ],
   "source": [
    "print(features_train.index[features_train.shape[0]-1])\n",
    "print(features_test.index[0])"
   ]
  },
  {
   "cell_type": "markdown",
   "metadata": {},
   "source": [
    "Все верно, данные можно использовать для обучения."
   ]
  },
  {
   "cell_type": "code",
   "execution_count": 13,
   "metadata": {},
   "outputs": [],
   "source": [
    "#напишем формулу для получения значения метрики RMSE\n",
    "def rmse (target, predictions):\n",
    "    mse = mean_squared_error(target, predictions)\n",
    "    rmse = mse ** 0.5\n",
    "    return rmse"
   ]
  },
  {
   "cell_type": "markdown",
   "metadata": {},
   "source": [
    "Обучим модели LinearRegression, CatBoostRegressor и LGBMRegressor."
   ]
  },
  {
   "cell_type": "markdown",
   "metadata": {},
   "source": [
    "### LinearRegression"
   ]
  },
  {
   "cell_type": "code",
   "execution_count": 14,
   "metadata": {},
   "outputs": [],
   "source": [
    "lr_model = LinearRegression()\n",
    "lr_model.fit(features_train, target_train)\n",
    "predicted_lr = pd.Series(lr_model.predict(features_test))"
   ]
  },
  {
   "cell_type": "markdown",
   "metadata": {},
   "source": [
    "### CatBoostRegressor"
   ]
  },
  {
   "cell_type": "code",
   "execution_count": 15,
   "metadata": {
    "scrolled": true
   },
   "outputs": [
    {
     "name": "stdout",
     "output_type": "stream",
     "text": [
      "0:\tlearn: 38.4052844\ttotal: 50.9ms\tremaining: 3.77s\n",
      "10:\tlearn: 34.7290112\ttotal: 280ms\tremaining: 1.63s\n",
      "20:\tlearn: 32.0429795\ttotal: 574ms\tremaining: 1.48s\n",
      "30:\tlearn: 30.1663531\ttotal: 868ms\tremaining: 1.23s\n",
      "40:\tlearn: 28.8046962\ttotal: 1.16s\tremaining: 966ms\n",
      "50:\tlearn: 27.7750352\ttotal: 1.46s\tremaining: 687ms\n",
      "60:\tlearn: 26.9268388\ttotal: 1.67s\tremaining: 383ms\n",
      "70:\tlearn: 26.3126876\ttotal: 1.96s\tremaining: 111ms\n",
      "74:\tlearn: 26.1305971\ttotal: 2.06s\tremaining: 0us\n",
      "0:\tlearn: 40.1413434\ttotal: 3.48ms\tremaining: 258ms\n",
      "10:\tlearn: 35.4914265\ttotal: 295ms\tremaining: 1.72s\n",
      "20:\tlearn: 32.1819122\ttotal: 592ms\tremaining: 1.52s\n",
      "30:\tlearn: 29.8541711\ttotal: 888ms\tremaining: 1.26s\n",
      "40:\tlearn: 28.2215743\ttotal: 1.18s\tremaining: 981ms\n",
      "50:\tlearn: 27.0324999\ttotal: 1.48s\tremaining: 695ms\n",
      "60:\tlearn: 26.1542907\ttotal: 1.77s\tremaining: 407ms\n",
      "70:\tlearn: 25.4741502\ttotal: 2.07s\tremaining: 117ms\n",
      "74:\tlearn: 25.2522795\ttotal: 2.17s\tremaining: 0us\n",
      "0:\tlearn: 32.9362277\ttotal: 3.46ms\tremaining: 256ms\n",
      "10:\tlearn: 29.2375678\ttotal: 154ms\tremaining: 893ms\n",
      "20:\tlearn: 26.6149200\ttotal: 442ms\tremaining: 1.14s\n",
      "30:\tlearn: 24.7965997\ttotal: 734ms\tremaining: 1.04s\n",
      "40:\tlearn: 23.5327766\ttotal: 1.03s\tremaining: 854ms\n",
      "50:\tlearn: 22.6298360\ttotal: 1.32s\tremaining: 623ms\n",
      "60:\tlearn: 21.9164014\ttotal: 1.54s\tremaining: 353ms\n",
      "70:\tlearn: 21.3812428\ttotal: 1.82s\tremaining: 103ms\n",
      "74:\tlearn: 21.1964021\ttotal: 1.92s\tremaining: 0us\n",
      "Score при iterations = 75 : [0.39924018 0.48893253 0.20785772]\n",
      "Score mean = 0.365343475430935\n",
      "\n",
      "0:\tlearn: 38.4052844\ttotal: 3.26ms\tremaining: 323ms\n",
      "10:\tlearn: 34.7290112\ttotal: 293ms\tremaining: 2.37s\n",
      "20:\tlearn: 32.0429795\ttotal: 508ms\tremaining: 1.91s\n",
      "30:\tlearn: 30.1663531\ttotal: 796ms\tremaining: 1.77s\n",
      "40:\tlearn: 28.8046962\ttotal: 1.09s\tremaining: 1.57s\n",
      "50:\tlearn: 27.7750352\ttotal: 1.38s\tremaining: 1.33s\n",
      "60:\tlearn: 26.9268388\ttotal: 1.68s\tremaining: 1.07s\n",
      "70:\tlearn: 26.3126876\ttotal: 1.97s\tremaining: 807ms\n",
      "80:\tlearn: 25.8275158\ttotal: 2.27s\tremaining: 533ms\n",
      "90:\tlearn: 25.4252489\ttotal: 2.57s\tremaining: 254ms\n",
      "99:\tlearn: 25.1060617\ttotal: 2.86s\tremaining: 0us\n",
      "0:\tlearn: 40.1413434\ttotal: 3.27ms\tremaining: 324ms\n",
      "10:\tlearn: 35.4914265\ttotal: 284ms\tremaining: 2.29s\n",
      "20:\tlearn: 32.1819122\ttotal: 579ms\tremaining: 2.18s\n",
      "30:\tlearn: 29.8541711\ttotal: 875ms\tremaining: 1.95s\n",
      "40:\tlearn: 28.2215743\ttotal: 1.17s\tremaining: 1.68s\n",
      "50:\tlearn: 27.0324999\ttotal: 1.47s\tremaining: 1.41s\n",
      "60:\tlearn: 26.1542907\ttotal: 1.76s\tremaining: 1.13s\n",
      "70:\tlearn: 25.4741502\ttotal: 2.06s\tremaining: 840ms\n",
      "80:\tlearn: 24.9476514\ttotal: 2.35s\tremaining: 551ms\n",
      "90:\tlearn: 24.5515527\ttotal: 2.64s\tremaining: 261ms\n",
      "99:\tlearn: 24.2476481\ttotal: 2.94s\tremaining: 0us\n",
      "0:\tlearn: 32.9362277\ttotal: 3.07ms\tremaining: 304ms\n",
      "10:\tlearn: 29.2375678\ttotal: 275ms\tremaining: 2.23s\n",
      "20:\tlearn: 26.6149200\ttotal: 570ms\tremaining: 2.14s\n",
      "30:\tlearn: 24.7965997\ttotal: 777ms\tremaining: 1.73s\n",
      "40:\tlearn: 23.5327766\ttotal: 1.07s\tremaining: 1.54s\n",
      "50:\tlearn: 22.6298360\ttotal: 1.36s\tremaining: 1.31s\n",
      "60:\tlearn: 21.9164014\ttotal: 1.66s\tremaining: 1.06s\n",
      "70:\tlearn: 21.3812428\ttotal: 1.95s\tremaining: 798ms\n",
      "80:\tlearn: 20.9572288\ttotal: 2.25s\tremaining: 527ms\n",
      "90:\tlearn: 20.6089630\ttotal: 2.54s\tremaining: 252ms\n",
      "99:\tlearn: 20.2880242\ttotal: 2.75s\tremaining: 0us\n",
      "Score при iterations = 100 : [0.44324513 0.50790668 0.26285492]\n",
      "Score mean = 0.4046689093220974\n",
      "\n",
      "0:\tlearn: 38.4052844\ttotal: 3.32ms\tremaining: 412ms\n",
      "10:\tlearn: 34.7290112\ttotal: 298ms\tremaining: 3.09s\n",
      "20:\tlearn: 32.0429795\ttotal: 595ms\tremaining: 2.95s\n",
      "30:\tlearn: 30.1663531\ttotal: 890ms\tremaining: 2.7s\n",
      "40:\tlearn: 28.8046962\ttotal: 1.19s\tremaining: 2.43s\n",
      "50:\tlearn: 27.7750352\ttotal: 1.48s\tremaining: 2.15s\n",
      "60:\tlearn: 26.9268388\ttotal: 1.78s\tremaining: 1.86s\n",
      "70:\tlearn: 26.3126876\ttotal: 2.07s\tremaining: 1.58s\n",
      "80:\tlearn: 25.8275158\ttotal: 2.37s\tremaining: 1.29s\n",
      "90:\tlearn: 25.4252489\ttotal: 2.67s\tremaining: 996ms\n",
      "100:\tlearn: 25.0659004\ttotal: 2.96s\tremaining: 704ms\n",
      "110:\tlearn: 24.7050364\ttotal: 3.26s\tremaining: 411ms\n",
      "120:\tlearn: 24.4898944\ttotal: 3.55s\tremaining: 117ms\n",
      "124:\tlearn: 24.3605150\ttotal: 3.65s\tremaining: 0us\n",
      "0:\tlearn: 40.1413434\ttotal: 3.41ms\tremaining: 422ms\n",
      "10:\tlearn: 35.4914265\ttotal: 270ms\tremaining: 2.79s\n",
      "20:\tlearn: 32.1819122\ttotal: 564ms\tremaining: 2.79s\n",
      "30:\tlearn: 29.8541711\ttotal: 860ms\tremaining: 2.61s\n",
      "40:\tlearn: 28.2215743\ttotal: 1.16s\tremaining: 2.37s\n",
      "50:\tlearn: 27.0324999\ttotal: 1.45s\tremaining: 2.11s\n",
      "60:\tlearn: 26.1542907\ttotal: 1.75s\tremaining: 1.83s\n",
      "70:\tlearn: 25.4741502\ttotal: 2.04s\tremaining: 1.55s\n",
      "80:\tlearn: 24.9476514\ttotal: 2.34s\tremaining: 1.27s\n",
      "90:\tlearn: 24.5515527\ttotal: 2.63s\tremaining: 985ms\n",
      "100:\tlearn: 24.2103341\ttotal: 2.93s\tremaining: 697ms\n",
      "110:\tlearn: 23.9280465\ttotal: 3.23s\tremaining: 407ms\n",
      "120:\tlearn: 23.6525037\ttotal: 3.52s\tremaining: 116ms\n",
      "124:\tlearn: 23.5452488\ttotal: 3.62s\tremaining: 0us\n",
      "0:\tlearn: 32.9362277\ttotal: 3.88ms\tremaining: 481ms\n",
      "10:\tlearn: 29.2375678\ttotal: 266ms\tremaining: 2.76s\n",
      "20:\tlearn: 26.6149200\ttotal: 561ms\tremaining: 2.78s\n",
      "30:\tlearn: 24.7965997\ttotal: 856ms\tremaining: 2.6s\n",
      "40:\tlearn: 23.5327766\ttotal: 1.15s\tremaining: 2.36s\n",
      "50:\tlearn: 22.6298360\ttotal: 1.37s\tremaining: 1.99s\n",
      "60:\tlearn: 21.9164014\ttotal: 1.65s\tremaining: 1.73s\n",
      "70:\tlearn: 21.3812428\ttotal: 2.03s\tremaining: 1.54s\n",
      "80:\tlearn: 20.9572288\ttotal: 2.34s\tremaining: 1.27s\n",
      "90:\tlearn: 20.6089630\ttotal: 2.73s\tremaining: 1.02s\n",
      "100:\tlearn: 20.2616518\ttotal: 3.02s\tremaining: 718ms\n",
      "110:\tlearn: 19.9948993\ttotal: 3.31s\tremaining: 418ms\n",
      "120:\tlearn: 19.7635895\ttotal: 3.61s\tremaining: 119ms\n",
      "124:\tlearn: 19.6714814\ttotal: 3.71s\tremaining: 0us\n",
      "Score при iterations = 125 : [0.46529318 0.51871364 0.29154611]\n",
      "Score mean = 0.42518430761777865\n",
      "\n",
      "0:\tlearn: 38.4052844\ttotal: 3.53ms\tremaining: 526ms\n",
      "10:\tlearn: 34.7290112\ttotal: 223ms\tremaining: 2.82s\n",
      "20:\tlearn: 32.0429795\ttotal: 521ms\tremaining: 3.2s\n",
      "30:\tlearn: 30.1663531\ttotal: 818ms\tremaining: 3.14s\n",
      "40:\tlearn: 28.8046962\ttotal: 1.11s\tremaining: 2.96s\n",
      "50:\tlearn: 27.7750352\ttotal: 1.41s\tremaining: 2.73s\n",
      "60:\tlearn: 26.9268388\ttotal: 1.7s\tremaining: 2.49s\n",
      "70:\tlearn: 26.3126876\ttotal: 2s\tremaining: 2.23s\n",
      "80:\tlearn: 25.8275158\ttotal: 2.29s\tremaining: 1.96s\n",
      "90:\tlearn: 25.4252489\ttotal: 2.59s\tremaining: 1.68s\n",
      "100:\tlearn: 25.0659004\ttotal: 2.89s\tremaining: 1.4s\n",
      "110:\tlearn: 24.7050364\ttotal: 3.11s\tremaining: 1.09s\n",
      "120:\tlearn: 24.4898944\ttotal: 3.39s\tremaining: 812ms\n",
      "130:\tlearn: 24.1885869\ttotal: 3.69s\tremaining: 535ms\n",
      "140:\tlearn: 23.9639055\ttotal: 3.98s\tremaining: 254ms\n",
      "149:\tlearn: 23.8045200\ttotal: 4.27s\tremaining: 0us\n",
      "0:\tlearn: 40.1413434\ttotal: 3.45ms\tremaining: 514ms\n",
      "10:\tlearn: 35.4914265\ttotal: 294ms\tremaining: 3.71s\n",
      "20:\tlearn: 32.1819122\ttotal: 587ms\tremaining: 3.61s\n",
      "30:\tlearn: 29.8541711\ttotal: 883ms\tremaining: 3.39s\n",
      "40:\tlearn: 28.2215743\ttotal: 1.18s\tremaining: 3.14s\n",
      "50:\tlearn: 27.0324999\ttotal: 1.47s\tremaining: 2.86s\n",
      "60:\tlearn: 26.1542907\ttotal: 1.77s\tremaining: 2.58s\n",
      "70:\tlearn: 25.4741502\ttotal: 2.06s\tremaining: 2.3s\n",
      "80:\tlearn: 24.9476514\ttotal: 2.36s\tremaining: 2.01s\n",
      "90:\tlearn: 24.5515527\ttotal: 2.57s\tremaining: 1.66s\n",
      "100:\tlearn: 24.2103341\ttotal: 2.86s\tremaining: 1.39s\n",
      "110:\tlearn: 23.9280465\ttotal: 3.16s\tremaining: 1.11s\n",
      "120:\tlearn: 23.6525037\ttotal: 3.45s\tremaining: 827ms\n",
      "130:\tlearn: 23.3962511\ttotal: 3.74s\tremaining: 543ms\n",
      "140:\tlearn: 23.1728987\ttotal: 4.04s\tremaining: 258ms\n",
      "149:\tlearn: 22.9534958\ttotal: 4.33s\tremaining: 0us\n",
      "0:\tlearn: 32.9362277\ttotal: 3.99ms\tremaining: 595ms\n",
      "10:\tlearn: 29.2375678\ttotal: 213ms\tremaining: 2.69s\n",
      "20:\tlearn: 26.6149200\ttotal: 425ms\tremaining: 2.61s\n",
      "30:\tlearn: 24.7965997\ttotal: 711ms\tremaining: 2.73s\n",
      "40:\tlearn: 23.5327766\ttotal: 1s\tremaining: 2.67s\n",
      "50:\tlearn: 22.6298360\ttotal: 1.3s\tremaining: 2.52s\n",
      "60:\tlearn: 21.9164014\ttotal: 1.59s\tremaining: 2.32s\n",
      "70:\tlearn: 21.3812428\ttotal: 1.8s\tremaining: 2s\n",
      "80:\tlearn: 20.9572288\ttotal: 2.09s\tremaining: 1.78s\n",
      "90:\tlearn: 20.6089630\ttotal: 2.38s\tremaining: 1.54s\n",
      "100:\tlearn: 20.2616518\ttotal: 2.67s\tremaining: 1.3s\n",
      "110:\tlearn: 19.9948993\ttotal: 2.89s\tremaining: 1.02s\n",
      "120:\tlearn: 19.7635895\ttotal: 3.17s\tremaining: 761ms\n",
      "130:\tlearn: 19.5434447\ttotal: 3.47s\tremaining: 503ms\n",
      "140:\tlearn: 19.3583271\ttotal: 3.76s\tremaining: 240ms\n",
      "149:\tlearn: 19.1678030\ttotal: 3.96s\tremaining: 0us\n",
      "Score при iterations = 150 : [0.47661121 0.52739502 0.31204567]\n",
      "Score mean = 0.43868396619655875\n",
      "\n"
     ]
    }
   ],
   "source": [
    "#построим модель CBR и исследуем её работу с различными значениями гиперпараметра iterations с помощью кросс-валидации\n",
    "for iteration in range(75, 151, 25):\n",
    "    cat_model = CatBoostRegressor(loss_function=\"RMSE\", iterations=iteration, depth=6, verbose=10)\n",
    "    cat_cv = cross_val_score(cat_model, features_train, target_train, cv=3)\n",
    "    print(\"Score при iterations =\", iteration, \":\", cat_cv)\n",
    "    print(\"Score mean =\", sum(cat_cv)/len(cat_cv))\n",
    "    print()"
   ]
  },
  {
   "cell_type": "code",
   "execution_count": 16,
   "metadata": {},
   "outputs": [
    {
     "name": "stdout",
     "output_type": "stream",
     "text": [
      "0:\tlearn: 38.5960322\ttotal: 1.42ms\tremaining: 211ms\n",
      "10:\tlearn: 36.4271685\ttotal: 11.3ms\tremaining: 143ms\n",
      "20:\tlearn: 34.8637504\ttotal: 102ms\tremaining: 624ms\n",
      "30:\tlearn: 33.6615472\ttotal: 196ms\tremaining: 753ms\n",
      "40:\tlearn: 32.6936474\ttotal: 289ms\tremaining: 769ms\n",
      "50:\tlearn: 31.9132970\ttotal: 382ms\tremaining: 741ms\n",
      "60:\tlearn: 31.3152216\ttotal: 391ms\tremaining: 571ms\n",
      "70:\tlearn: 30.8210826\ttotal: 482ms\tremaining: 537ms\n",
      "80:\tlearn: 30.3942212\ttotal: 575ms\tremaining: 489ms\n",
      "90:\tlearn: 30.0289528\ttotal: 581ms\tremaining: 377ms\n",
      "100:\tlearn: 29.7034727\ttotal: 676ms\tremaining: 328ms\n",
      "110:\tlearn: 29.4148624\ttotal: 767ms\tremaining: 270ms\n",
      "120:\tlearn: 29.1792608\ttotal: 860ms\tremaining: 206ms\n",
      "130:\tlearn: 28.9773690\ttotal: 868ms\tremaining: 126ms\n",
      "140:\tlearn: 28.7990108\ttotal: 960ms\tremaining: 61.3ms\n",
      "149:\tlearn: 28.6418755\ttotal: 1.05s\tremaining: 0us\n",
      "0:\tlearn: 40.3401494\ttotal: 843us\tremaining: 126ms\n",
      "10:\tlearn: 37.4197360\ttotal: 8.88ms\tremaining: 112ms\n",
      "20:\tlearn: 35.2972451\ttotal: 20.9ms\tremaining: 129ms\n",
      "30:\tlearn: 33.7039045\ttotal: 115ms\tremaining: 441ms\n",
      "40:\tlearn: 32.4312894\ttotal: 211ms\tremaining: 561ms\n",
      "50:\tlearn: 31.4118485\ttotal: 306ms\tremaining: 594ms\n",
      "60:\tlearn: 30.6510542\ttotal: 314ms\tremaining: 459ms\n",
      "70:\tlearn: 29.9979377\ttotal: 408ms\tremaining: 454ms\n",
      "80:\tlearn: 29.4978588\ttotal: 501ms\tremaining: 427ms\n",
      "90:\tlearn: 29.0689023\ttotal: 594ms\tremaining: 385ms\n",
      "100:\tlearn: 28.6987645\ttotal: 689ms\tremaining: 334ms\n",
      "110:\tlearn: 28.3976526\ttotal: 697ms\tremaining: 245ms\n",
      "120:\tlearn: 28.1483844\ttotal: 790ms\tremaining: 189ms\n",
      "130:\tlearn: 27.9561746\ttotal: 884ms\tremaining: 128ms\n",
      "140:\tlearn: 27.7803006\ttotal: 977ms\tremaining: 62.3ms\n",
      "149:\tlearn: 27.6370995\ttotal: 984ms\tremaining: 0us\n",
      "0:\tlearn: 33.1137715\ttotal: 1.57ms\tremaining: 234ms\n",
      "10:\tlearn: 30.9482032\ttotal: 11.9ms\tremaining: 151ms\n",
      "20:\tlearn: 29.3785946\ttotal: 102ms\tremaining: 627ms\n",
      "30:\tlearn: 28.1882782\ttotal: 197ms\tremaining: 757ms\n",
      "40:\tlearn: 27.2459726\ttotal: 290ms\tremaining: 771ms\n",
      "50:\tlearn: 26.5082507\ttotal: 381ms\tremaining: 739ms\n",
      "60:\tlearn: 25.8889833\ttotal: 388ms\tremaining: 566ms\n",
      "70:\tlearn: 25.3717786\ttotal: 481ms\tremaining: 535ms\n",
      "80:\tlearn: 24.9423183\ttotal: 576ms\tremaining: 490ms\n",
      "90:\tlearn: 24.5901480\ttotal: 668ms\tremaining: 433ms\n",
      "100:\tlearn: 24.2720960\ttotal: 767ms\tremaining: 372ms\n",
      "110:\tlearn: 23.9931546\ttotal: 784ms\tremaining: 275ms\n",
      "120:\tlearn: 23.7568588\ttotal: 866ms\tremaining: 208ms\n",
      "130:\tlearn: 23.5544202\ttotal: 960ms\tremaining: 139ms\n",
      "140:\tlearn: 23.3846964\ttotal: 1.05s\tremaining: 67.4ms\n",
      "149:\tlearn: 23.2516946\ttotal: 1.15s\tremaining: 0us\n",
      "Score при depth = 1 : [0.33034082 0.44540041 0.09996157]\n",
      "Score mean = 0.2919009308411588\n",
      "\n",
      "0:\tlearn: 38.4321886\ttotal: 2.22ms\tremaining: 331ms\n",
      "10:\tlearn: 35.2089753\ttotal: 79.2ms\tremaining: 1s\n",
      "20:\tlearn: 32.9109468\ttotal: 179ms\tremaining: 1.1s\n",
      "30:\tlearn: 31.3068283\ttotal: 368ms\tremaining: 1.41s\n",
      "40:\tlearn: 30.1384792\ttotal: 470ms\tremaining: 1.25s\n",
      "50:\tlearn: 29.2920516\ttotal: 569ms\tremaining: 1.1s\n",
      "60:\tlearn: 28.6567417\ttotal: 755ms\tremaining: 1.1s\n",
      "70:\tlearn: 28.1640483\ttotal: 858ms\tremaining: 954ms\n",
      "80:\tlearn: 27.7546824\ttotal: 958ms\tremaining: 816ms\n",
      "90:\tlearn: 27.4182041\ttotal: 1.16s\tremaining: 751ms\n",
      "100:\tlearn: 27.2031388\ttotal: 1.34s\tremaining: 651ms\n",
      "110:\tlearn: 26.9706747\ttotal: 1.45s\tremaining: 508ms\n",
      "120:\tlearn: 26.7534168\ttotal: 1.54s\tremaining: 370ms\n",
      "130:\tlearn: 26.6054862\ttotal: 1.73s\tremaining: 251ms\n",
      "140:\tlearn: 26.4415547\ttotal: 1.83s\tremaining: 117ms\n",
      "149:\tlearn: 26.3323033\ttotal: 1.94s\tremaining: 0us\n",
      "0:\tlearn: 40.2280449\ttotal: 1.44ms\tremaining: 215ms\n",
      "10:\tlearn: 36.0144893\ttotal: 18.2ms\tremaining: 230ms\n",
      "20:\tlearn: 33.0847159\ttotal: 118ms\tremaining: 727ms\n",
      "30:\tlearn: 31.0875044\ttotal: 309ms\tremaining: 1.19s\n",
      "40:\tlearn: 29.6765989\ttotal: 413ms\tremaining: 1.1s\n",
      "50:\tlearn: 28.7127608\ttotal: 599ms\tremaining: 1.16s\n",
      "60:\tlearn: 27.9249317\ttotal: 699ms\tremaining: 1.02s\n",
      "70:\tlearn: 27.3672363\ttotal: 800ms\tremaining: 890ms\n",
      "80:\tlearn: 26.9210034\ttotal: 986ms\tremaining: 840ms\n",
      "90:\tlearn: 26.5812487\ttotal: 1.09s\tremaining: 704ms\n",
      "100:\tlearn: 26.3410410\ttotal: 1.19s\tremaining: 576ms\n",
      "110:\tlearn: 26.0873918\ttotal: 1.29s\tremaining: 452ms\n",
      "120:\tlearn: 25.8567277\ttotal: 1.47s\tremaining: 353ms\n",
      "130:\tlearn: 25.6790020\ttotal: 1.57s\tremaining: 228ms\n",
      "140:\tlearn: 25.5317320\ttotal: 1.67s\tremaining: 107ms\n",
      "149:\tlearn: 25.3838894\ttotal: 1.86s\tremaining: 0us\n",
      "0:\tlearn: 32.9647251\ttotal: 1.9ms\tremaining: 283ms\n",
      "10:\tlearn: 29.7423499\ttotal: 38.8ms\tremaining: 490ms\n",
      "20:\tlearn: 27.4969229\ttotal: 139ms\tremaining: 857ms\n",
      "30:\tlearn: 25.9168431\ttotal: 246ms\tremaining: 944ms\n",
      "40:\tlearn: 24.7795735\ttotal: 425ms\tremaining: 1.13s\n",
      "50:\tlearn: 23.9998833\ttotal: 527ms\tremaining: 1.02s\n",
      "60:\tlearn: 23.3728656\ttotal: 625ms\tremaining: 912ms\n",
      "70:\tlearn: 22.9323974\ttotal: 725ms\tremaining: 807ms\n",
      "80:\tlearn: 22.5556479\ttotal: 910ms\tremaining: 776ms\n",
      "90:\tlearn: 22.2773579\ttotal: 1.01s\tremaining: 655ms\n",
      "100:\tlearn: 22.0386775\ttotal: 1.11s\tremaining: 540ms\n",
      "110:\tlearn: 21.8274771\ttotal: 1.3s\tremaining: 457ms\n",
      "120:\tlearn: 21.6440189\ttotal: 1.4s\tremaining: 336ms\n",
      "130:\tlearn: 21.4864463\ttotal: 1.5s\tremaining: 218ms\n",
      "140:\tlearn: 21.3476719\ttotal: 1.69s\tremaining: 108ms\n",
      "149:\tlearn: 21.2403249\ttotal: 1.78s\tremaining: 0us\n",
      "Score при depth = 3 : [0.43539758 0.50508396 0.2725581 ]\n",
      "Score mean = 0.40434654597793623\n",
      "\n",
      "0:\tlearn: 38.4093779\ttotal: 3.73ms\tremaining: 556ms\n",
      "10:\tlearn: 34.8352854\ttotal: 113ms\tremaining: 1.43s\n",
      "20:\tlearn: 32.3131756\ttotal: 311ms\tremaining: 1.91s\n",
      "30:\tlearn: 30.4552454\ttotal: 508ms\tremaining: 1.95s\n",
      "40:\tlearn: 29.1815194\ttotal: 810ms\tremaining: 2.15s\n",
      "50:\tlearn: 28.2061708\ttotal: 1.09s\tremaining: 2.13s\n",
      "60:\tlearn: 27.4656567\ttotal: 1.3s\tremaining: 1.9s\n",
      "70:\tlearn: 26.8898740\ttotal: 1.58s\tremaining: 1.76s\n",
      "80:\tlearn: 26.5602189\ttotal: 1.88s\tremaining: 1.6s\n",
      "90:\tlearn: 26.1513613\ttotal: 2.17s\tremaining: 1.41s\n",
      "100:\tlearn: 25.8608888\ttotal: 2.47s\tremaining: 1.2s\n",
      "110:\tlearn: 25.6331897\ttotal: 2.68s\tremaining: 941ms\n",
      "120:\tlearn: 25.4539853\ttotal: 2.97s\tremaining: 712ms\n",
      "130:\tlearn: 25.2193623\ttotal: 3.27s\tremaining: 474ms\n",
      "140:\tlearn: 25.0061243\ttotal: 3.56s\tremaining: 227ms\n",
      "149:\tlearn: 24.7767034\ttotal: 3.85s\tremaining: 0us\n",
      "0:\tlearn: 40.1426255\ttotal: 2.54ms\tremaining: 379ms\n",
      "10:\tlearn: 35.6250806\ttotal: 121ms\tremaining: 1.53s\n",
      "20:\tlearn: 32.4615878\ttotal: 407ms\tremaining: 2.5s\n",
      "30:\tlearn: 30.1583156\ttotal: 606ms\tremaining: 2.33s\n",
      "40:\tlearn: 28.6405753\ttotal: 810ms\tremaining: 2.15s\n",
      "50:\tlearn: 27.5173335\ttotal: 1.09s\tremaining: 2.12s\n",
      "60:\tlearn: 26.6862712\ttotal: 1.29s\tremaining: 1.88s\n",
      "70:\tlearn: 26.0417576\ttotal: 1.49s\tremaining: 1.66s\n",
      "80:\tlearn: 25.5985930\ttotal: 1.69s\tremaining: 1.44s\n",
      "90:\tlearn: 25.1948106\ttotal: 1.88s\tremaining: 1.22s\n",
      "100:\tlearn: 24.8506765\ttotal: 2.08s\tremaining: 1.01s\n",
      "110:\tlearn: 24.5217816\ttotal: 2.28s\tremaining: 801ms\n",
      "120:\tlearn: 24.2717235\ttotal: 2.57s\tremaining: 616ms\n",
      "130:\tlearn: 24.0218841\ttotal: 2.77s\tremaining: 401ms\n",
      "140:\tlearn: 23.8359593\ttotal: 2.96s\tremaining: 189ms\n",
      "149:\tlearn: 23.6617722\ttotal: 3.16s\tremaining: 0us\n",
      "0:\tlearn: 32.9384910\ttotal: 2.47ms\tremaining: 368ms\n",
      "10:\tlearn: 29.3426802\ttotal: 188ms\tremaining: 2.38s\n",
      "20:\tlearn: 26.8430236\ttotal: 384ms\tremaining: 2.36s\n",
      "30:\tlearn: 25.1170492\ttotal: 580ms\tremaining: 2.23s\n",
      "40:\tlearn: 23.8561737\ttotal: 778ms\tremaining: 2.07s\n",
      "50:\tlearn: 22.9817638\ttotal: 975ms\tremaining: 1.89s\n",
      "60:\tlearn: 22.3474395\ttotal: 1.17s\tremaining: 1.71s\n",
      "70:\tlearn: 21.8614286\ttotal: 1.37s\tremaining: 1.53s\n",
      "80:\tlearn: 21.4954597\ttotal: 1.56s\tremaining: 1.33s\n",
      "90:\tlearn: 21.1374349\ttotal: 1.76s\tremaining: 1.14s\n",
      "100:\tlearn: 20.8773775\ttotal: 1.96s\tremaining: 949ms\n",
      "110:\tlearn: 20.6075162\ttotal: 2.15s\tremaining: 757ms\n",
      "120:\tlearn: 20.3864871\ttotal: 2.35s\tremaining: 563ms\n",
      "130:\tlearn: 20.2002531\ttotal: 2.54s\tremaining: 369ms\n",
      "140:\tlearn: 20.0271586\ttotal: 2.74s\tremaining: 175ms\n",
      "149:\tlearn: 19.8693651\ttotal: 2.94s\tremaining: 0us\n",
      "Score при depth = 5 : [0.46461131 0.52877881 0.30349704]\n",
      "Score mean = 0.43229572127230415\n",
      "\n",
      "0:\tlearn: 38.4022047\ttotal: 10.7ms\tremaining: 1.59s\n",
      "10:\tlearn: 34.7192867\ttotal: 493ms\tremaining: 6.23s\n",
      "20:\tlearn: 31.9447481\ttotal: 898ms\tremaining: 5.51s\n",
      "30:\tlearn: 29.8946969\ttotal: 1.38s\tremaining: 5.31s\n",
      "40:\tlearn: 28.4122668\ttotal: 1.78s\tremaining: 4.74s\n",
      "50:\tlearn: 27.3082207\ttotal: 2.18s\tremaining: 4.23s\n",
      "60:\tlearn: 26.4545282\ttotal: 2.58s\tremaining: 3.76s\n",
      "70:\tlearn: 25.7071256\ttotal: 2.98s\tremaining: 3.31s\n",
      "80:\tlearn: 25.1420493\ttotal: 3.46s\tremaining: 2.95s\n",
      "90:\tlearn: 24.6966944\ttotal: 3.86s\tremaining: 2.5s\n",
      "100:\tlearn: 24.3439242\ttotal: 4.25s\tremaining: 2.06s\n",
      "110:\tlearn: 24.0176888\ttotal: 4.65s\tremaining: 1.64s\n",
      "120:\tlearn: 23.6766638\ttotal: 5.05s\tremaining: 1.21s\n",
      "130:\tlearn: 23.3682271\ttotal: 5.45s\tremaining: 790ms\n",
      "140:\tlearn: 23.1567435\ttotal: 5.93s\tremaining: 378ms\n",
      "149:\tlearn: 23.0022494\ttotal: 6.23s\tremaining: 0us\n",
      "0:\tlearn: 40.1393864\ttotal: 9.61ms\tremaining: 1.43s\n",
      "10:\tlearn: 35.3867257\ttotal: 491ms\tremaining: 6.21s\n",
      "20:\tlearn: 32.0056001\ttotal: 980ms\tremaining: 6.02s\n",
      "30:\tlearn: 29.5634979\ttotal: 1.38s\tremaining: 5.29s\n",
      "40:\tlearn: 27.8679312\ttotal: 1.78s\tremaining: 4.73s\n",
      "50:\tlearn: 26.6324375\ttotal: 2.17s\tremaining: 4.22s\n",
      "60:\tlearn: 25.6537570\ttotal: 2.57s\tremaining: 3.75s\n",
      "70:\tlearn: 24.8921008\ttotal: 3.06s\tremaining: 3.4s\n",
      "80:\tlearn: 24.2651620\ttotal: 3.46s\tremaining: 2.95s\n",
      "90:\tlearn: 23.8018662\ttotal: 3.85s\tremaining: 2.5s\n",
      "100:\tlearn: 23.4699155\ttotal: 4.26s\tremaining: 2.07s\n",
      "110:\tlearn: 23.0827683\ttotal: 4.65s\tremaining: 1.63s\n",
      "120:\tlearn: 22.8143697\ttotal: 5.13s\tremaining: 1.23s\n",
      "130:\tlearn: 22.5373112\ttotal: 5.53s\tremaining: 802ms\n",
      "140:\tlearn: 22.3200231\ttotal: 5.93s\tremaining: 378ms\n",
      "149:\tlearn: 22.0448723\ttotal: 6.32s\tremaining: 0us\n",
      "0:\tlearn: 32.9205280\ttotal: 5.67ms\tremaining: 845ms\n",
      "10:\tlearn: 29.1536605\ttotal: 387ms\tremaining: 4.89s\n",
      "20:\tlearn: 26.4603543\ttotal: 693ms\tremaining: 4.25s\n",
      "30:\tlearn: 24.5945613\ttotal: 1.09s\tremaining: 4.17s\n",
      "40:\tlearn: 23.2585371\ttotal: 1.48s\tremaining: 3.93s\n",
      "50:\tlearn: 22.2647102\ttotal: 1.87s\tremaining: 3.63s\n",
      "60:\tlearn: 21.5130483\ttotal: 2.27s\tremaining: 3.31s\n",
      "70:\tlearn: 20.9332964\ttotal: 2.66s\tremaining: 2.96s\n",
      "80:\tlearn: 20.4498815\ttotal: 3.06s\tremaining: 2.61s\n",
      "90:\tlearn: 20.0548482\ttotal: 3.45s\tremaining: 2.24s\n",
      "100:\tlearn: 19.6880255\ttotal: 3.85s\tremaining: 1.87s\n",
      "110:\tlearn: 19.3642708\ttotal: 4.24s\tremaining: 1.49s\n",
      "120:\tlearn: 19.0960980\ttotal: 4.64s\tremaining: 1.11s\n",
      "130:\tlearn: 18.8480195\ttotal: 5.03s\tremaining: 730ms\n",
      "140:\tlearn: 18.6254907\ttotal: 5.34s\tremaining: 341ms\n",
      "149:\tlearn: 18.4285171\ttotal: 5.72s\tremaining: 0us\n",
      "Score при depth = 7 : [0.47821011 0.53399196 0.31069508]\n",
      "Score mean = 0.4409657135064746\n",
      "\n",
      "0:\tlearn: 38.3893434\ttotal: 80.3ms\tremaining: 12s\n",
      "10:\tlearn: 34.4782003\ttotal: 1.07s\tremaining: 13.6s\n",
      "20:\tlearn: 31.5775983\ttotal: 1.98s\tremaining: 12.2s\n",
      "30:\tlearn: 29.3740659\ttotal: 3.06s\tremaining: 11.8s\n",
      "40:\tlearn: 27.6515880\ttotal: 4.06s\tremaining: 10.8s\n",
      "50:\tlearn: 26.3029421\ttotal: 4.96s\tremaining: 9.64s\n",
      "60:\tlearn: 25.2071616\ttotal: 6.04s\tremaining: 8.82s\n",
      "70:\tlearn: 24.3361139\ttotal: 7.04s\tremaining: 7.83s\n",
      "80:\tlearn: 23.6606453\ttotal: 8.04s\tremaining: 6.84s\n",
      "90:\tlearn: 23.0479391\ttotal: 8.94s\tremaining: 5.8s\n",
      "100:\tlearn: 22.4517931\ttotal: 10s\tremaining: 4.86s\n",
      "110:\tlearn: 22.0139630\ttotal: 11s\tremaining: 3.87s\n",
      "120:\tlearn: 21.5902330\ttotal: 12s\tremaining: 2.88s\n",
      "130:\tlearn: 21.1406631\ttotal: 12.9s\tremaining: 1.87s\n",
      "140:\tlearn: 20.7752281\ttotal: 14s\tremaining: 894ms\n",
      "149:\tlearn: 20.4805252\ttotal: 14.9s\tremaining: 0us\n",
      "0:\tlearn: 40.1445258\ttotal: 60.9ms\tremaining: 9.07s\n",
      "10:\tlearn: 35.3481109\ttotal: 1.05s\tremaining: 13.3s\n",
      "20:\tlearn: 31.7955208\ttotal: 2.05s\tremaining: 12.6s\n",
      "30:\tlearn: 29.2134493\ttotal: 3.04s\tremaining: 11.7s\n",
      "40:\tlearn: 27.2861487\ttotal: 4.04s\tremaining: 10.7s\n",
      "50:\tlearn: 25.8549420\ttotal: 4.93s\tremaining: 9.57s\n",
      "60:\tlearn: 24.6757750\ttotal: 6.03s\tremaining: 8.79s\n",
      "70:\tlearn: 23.6488925\ttotal: 7.02s\tremaining: 7.81s\n",
      "80:\tlearn: 22.8537351\ttotal: 8.01s\tremaining: 6.83s\n",
      "90:\tlearn: 22.2482090\ttotal: 9.01s\tremaining: 5.84s\n",
      "100:\tlearn: 21.6917687\ttotal: 10s\tremaining: 4.85s\n",
      "110:\tlearn: 21.2148194\ttotal: 11s\tremaining: 3.86s\n",
      "120:\tlearn: 20.8938568\ttotal: 11.9s\tremaining: 2.85s\n",
      "130:\tlearn: 20.5743586\ttotal: 12.9s\tremaining: 1.87s\n",
      "140:\tlearn: 20.2384724\ttotal: 13.9s\tremaining: 886ms\n",
      "149:\tlearn: 19.9222197\ttotal: 14.7s\tremaining: 0us\n",
      "0:\tlearn: 32.9020458\ttotal: 13.9ms\tremaining: 2.07s\n",
      "10:\tlearn: 29.1207424\ttotal: 957ms\tremaining: 12.1s\n",
      "20:\tlearn: 26.3252160\ttotal: 1.95s\tremaining: 12s\n",
      "30:\tlearn: 24.1987984\ttotal: 2.85s\tremaining: 10.9s\n",
      "40:\tlearn: 22.6581792\ttotal: 3.84s\tremaining: 10.2s\n",
      "50:\tlearn: 21.4529272\ttotal: 4.83s\tremaining: 9.39s\n",
      "60:\tlearn: 20.5058120\ttotal: 5.83s\tremaining: 8.5s\n",
      "70:\tlearn: 19.7871404\ttotal: 6.82s\tremaining: 7.59s\n",
      "80:\tlearn: 19.1026153\ttotal: 7.81s\tremaining: 6.65s\n",
      "90:\tlearn: 18.6015626\ttotal: 8.8s\tremaining: 5.71s\n",
      "100:\tlearn: 18.0637315\ttotal: 9.7s\tremaining: 4.71s\n",
      "110:\tlearn: 17.6672803\ttotal: 10.6s\tremaining: 3.72s\n",
      "120:\tlearn: 17.2871289\ttotal: 11.6s\tremaining: 2.77s\n",
      "130:\tlearn: 16.9712533\ttotal: 12.5s\tremaining: 1.81s\n",
      "140:\tlearn: 16.6490416\ttotal: 13.5s\tremaining: 860ms\n",
      "149:\tlearn: 16.3961191\ttotal: 14.4s\tremaining: 0us\n",
      "Score при depth = 9 : [0.47932666 0.530811   0.29299296]\n",
      "Score mean = 0.4343768743821948\n",
      "\n"
     ]
    }
   ],
   "source": [
    "#исследуем работу модели с различными значениями гиперпараметра depth\n",
    "for depth in range(1, 10, 2):\n",
    "    cat_model = CatBoostRegressor(loss_function=\"RMSE\", iterations=150, depth=depth, verbose=10)\n",
    "    cat_cv = cross_val_score(cat_model, features_train, target_train, cv=3)\n",
    "    print(\"Score при depth =\", depth, \":\", cat_cv)\n",
    "    print(\"Score mean =\", sum(cat_cv)/len(cat_cv))\n",
    "    print()"
   ]
  },
  {
   "cell_type": "markdown",
   "metadata": {},
   "source": [
    "На тестировании будем использовать модель CBR с гиперпараметрами iterations = 110 и depth = 7, эти гиперпараметры показали лучший результат по качеству и времени."
   ]
  },
  {
   "cell_type": "code",
   "execution_count": 17,
   "metadata": {},
   "outputs": [
    {
     "name": "stdout",
     "output_type": "stream",
     "text": [
      "0:\tlearn: 38.1440310\ttotal: 8.13ms\tremaining: 886ms\n",
      "10:\tlearn: 33.7661007\ttotal: 317ms\tremaining: 2.85s\n",
      "20:\tlearn: 30.6584054\ttotal: 807ms\tremaining: 3.42s\n",
      "30:\tlearn: 28.4600016\ttotal: 1.21s\tremaining: 3.08s\n",
      "40:\tlearn: 26.9531198\ttotal: 1.61s\tremaining: 2.7s\n",
      "50:\tlearn: 25.8446755\ttotal: 2.09s\tremaining: 2.42s\n",
      "60:\tlearn: 24.9902518\ttotal: 2.49s\tremaining: 2s\n",
      "70:\tlearn: 24.3281995\ttotal: 2.89s\tremaining: 1.59s\n",
      "80:\tlearn: 23.7990539\ttotal: 3.38s\tremaining: 1.21s\n",
      "90:\tlearn: 23.3627202\ttotal: 3.77s\tremaining: 788ms\n",
      "100:\tlearn: 23.0399393\ttotal: 4.17s\tremaining: 372ms\n",
      "109:\tlearn: 22.7875999\ttotal: 4.56s\tremaining: 0us\n"
     ]
    }
   ],
   "source": [
    "cat_model_110_7= CatBoostRegressor(loss_function=\"RMSE\", iterations=110, depth=7, verbose=10)\n",
    "cat_model_110_7.fit(features_train, target_train)\n",
    "predicted_cat = pd.Series(cat_model_110_7.predict(features_test))"
   ]
  },
  {
   "cell_type": "markdown",
   "metadata": {},
   "source": [
    "### LGBMRegressor"
   ]
  },
  {
   "cell_type": "code",
   "execution_count": 18,
   "metadata": {},
   "outputs": [],
   "source": [
    "params = {\n",
    "    'boosting_type': 'gbdt',\n",
    "    'objective': 'regression',\n",
    "    'metric': 'rmse',\n",
    "    'max_depth': 6, \n",
    "    'learning_rate': 0.1,\n",
    "    'verbose': 0\n",
    "}"
   ]
  },
  {
   "cell_type": "code",
   "execution_count": 19,
   "metadata": {},
   "outputs": [],
   "source": [
    "lgbm_model = LGBMRegressor(**params)\n",
    "lgbm_model.fit(features_train, target_train)\n",
    "predictions_lgbm = lgbm_model.predict(features_test)"
   ]
  },
  {
   "cell_type": "markdown",
   "metadata": {},
   "source": [
    "# 4. Тестирование"
   ]
  },
  {
   "cell_type": "markdown",
   "metadata": {},
   "source": [
    "### LinearRegression"
   ]
  },
  {
   "cell_type": "code",
   "execution_count": 20,
   "metadata": {},
   "outputs": [
    {
     "data": {
      "text/plain": [
       "45.263458050523425"
      ]
     },
     "execution_count": 20,
     "metadata": {},
     "output_type": "execute_result"
    }
   ],
   "source": [
    "rmse(target_test, predicted_lr)"
   ]
  },
  {
   "cell_type": "markdown",
   "metadata": {},
   "source": [
    "### CatBoostRegressor"
   ]
  },
  {
   "cell_type": "code",
   "execution_count": 21,
   "metadata": {},
   "outputs": [
    {
     "data": {
      "text/plain": [
       "48.43489907971826"
      ]
     },
     "execution_count": 21,
     "metadata": {},
     "output_type": "execute_result"
    }
   ],
   "source": [
    "rmse(target_test, predicted_cat)"
   ]
  },
  {
   "cell_type": "markdown",
   "metadata": {},
   "source": [
    "### LGBMRegressor"
   ]
  },
  {
   "cell_type": "code",
   "execution_count": 22,
   "metadata": {},
   "outputs": [
    {
     "data": {
      "text/plain": [
       "41.801135657892594"
      ]
     },
     "execution_count": 22,
     "metadata": {},
     "output_type": "execute_result"
    }
   ],
   "source": [
    "rmse(target_test, predictions_lgbm)"
   ]
  },
  {
   "cell_type": "markdown",
   "metadata": {},
   "source": [
    "**Вывод:**\n",
    "Несмотря на подбор гиперпараметров для модели CBR, лучший результат показала модель LGBMRegressor со стандартными настройками. Как прототип сервису такси можно советовать её."
   ]
  }
 ],
 "metadata": {
  "kernelspec": {
   "display_name": "Python 3",
   "language": "python",
   "name": "python3"
  },
  "language_info": {
   "codemirror_mode": {
    "name": "ipython",
    "version": 3
   },
   "file_extension": ".py",
   "mimetype": "text/x-python",
   "name": "python",
   "nbconvert_exporter": "python",
   "pygments_lexer": "ipython3",
   "version": "3.7.6"
  }
 },
 "nbformat": 4,
 "nbformat_minor": 2
}
