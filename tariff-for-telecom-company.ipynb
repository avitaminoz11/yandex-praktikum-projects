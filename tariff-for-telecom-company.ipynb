{
 "cells": [
  {
   "cell_type": "markdown",
   "metadata": {},
   "source": [
    "# Определение перспективного тарифа для телеком компании"
   ]
  },
  {
   "cell_type": "markdown",
   "metadata": {},
   "source": [
    "Клиентам федерального оператора сотовой связи предлагают два тарифных плана: «Смарт» и «Ультра». \n",
    "\n",
    "Чтобы скорректировать рекламный бюджет, коммерческому департаменту необходимо понять, какой тариф приносит больше денег.\n",
    "В ходе проекта предстоит сделать предварительный анализ тарифов на небольшой выборке клиентов. Изучим данные 500 пользователей оператора: кто они, откуда, каким тарифом пользуются, сколько звонков и сообщений каждый отправил за 2018 год. Проанализируем поведение клиентов и сделаем вывод — какой тариф лучше."
   ]
  },
  {
   "cell_type": "markdown",
   "metadata": {},
   "source": [
    "## Описание тарифов\n",
    "\n",
    "**Тариф «Смарт»**\n",
    "1. Ежемесячная плата: 550 рублей\n",
    "2. Включено 500 минут разговора, 50 сообщений и 15 Гб интернет-трафика\n",
    "3. Стоимость услуг сверх тарифного пакета:\n",
    "    - минута разговора: 3 рубля\n",
    "    - сообщение: 3 рубля\n",
    "    - 1 Гб интернет-трафика: 200 рублей\n",
    "\n",
    "**Тариф «Ультра»**\n",
    "1. Ежемесячная плата: 1950 рублей\n",
    "2. Включено 3000 минут разговора, 1000 сообщений и 30 Гб интернет-трафика\n",
    "3. Стоимость услуг сверх тарифного пакета:\n",
    "    - минута разговора: 1 рубль\n",
    "    - сообщение: 1 рубль\n",
    "    - 1 Гб интернет-трафика: 150 рублей\n",
    "\n",
    "**Важно:** оператор всегда округляет вверх значения минут и мегабайтов. Если пользователь проговорил всего 1 секунду, в тарифе засчитывается целая минута."
   ]
  },
  {
   "cell_type": "markdown",
   "metadata": {},
   "source": [
    "## Описание данных\n",
    "\n",
    "Таблица `users` (информация о пользователях):\n",
    "- user_id — уникальный идентификатор пользователя\n",
    "- first_name — имя пользователя\n",
    "- last_name — фамилия пользователя\n",
    "- age — возраст пользователя (годы)\n",
    "- reg_date — дата подключения тарифа (день, месяц, год)\n",
    "- churn_date — дата прекращения пользования тарифом (если значение пропущено, то тариф ещё действовал на момент выгрузки данных)\n",
    "- city — город проживания пользователя\n",
    "- tariff — название тарифного плана\n",
    "\n",
    "Таблица `calls` (информация о звонках):\n",
    "- id — уникальный номер звонка\n",
    "- call_date — дата звонка\n",
    "- duration — длительность звонка в минутах\n",
    "- user_id — идентификатор пользователя, сделавшего звонок\n",
    "\n",
    "Таблица `messages` (информация о сообщениях):\n",
    "- id — уникальный номер сообщения\n",
    "- message_date — дата сообщения\n",
    "- user_id — идентификатор пользователя, отправившего сообщение\n",
    "\n",
    "Таблица `internet` (информация об интернет-сессиях):\n",
    "- id — уникальный номер сессии\n",
    "- mb_used — объём потраченного за сессию интернет-трафика (в мегабайтах)\n",
    "- session_date — дата интернет-сессии\n",
    "- user_id — идентификатор пользователя\n",
    "\n",
    "Таблица `tariffs` (информация о тарифах):\n",
    "- tariff_name — название тарифа\n",
    "- rub_monthly_fee — ежемесячная абонентская плата в рублях\n",
    "- minutes_included — количество минут разговора в месяц, включённых в абонентскую плату\n",
    "- messages_included — количество сообщений в месяц, включённых в абонентскую плату\n",
    "- mb_per_month_included — объём интернет-трафика, включённого в абонентскую плату (в мегабайтах)\n",
    "- rub_per_minute — стоимость минуты разговора сверх тарифного пакета (например, если в тарифе 100 минут разговора в месяц, то со 101 минуты будет взиматься плата)\n",
    "- rub_per_message — стоимость отправки сообщения сверх тарифного пакета\n",
    "- rub_per_gb — стоимость дополнительного гигабайта интернет-трафика сверх тарифного пакета (1 гигабайт = 1024 мегабайта)"
   ]
  },
  {
   "cell_type": "markdown",
   "metadata": {},
   "source": [
    "## Шаг 1. Откроем файлы с данными и изучим общую информацию"
   ]
  },
  {
   "cell_type": "markdown",
   "metadata": {},
   "source": [
    "Импортируем необходимые библиотеки и пакеты."
   ]
  },
  {
   "cell_type": "code",
   "execution_count": 1,
   "metadata": {},
   "outputs": [],
   "source": [
    "import pandas as pd"
   ]
  },
  {
   "cell_type": "code",
   "execution_count": 2,
   "metadata": {},
   "outputs": [],
   "source": [
    "import matplotlib.pyplot as plt"
   ]
  },
  {
   "cell_type": "code",
   "execution_count": 3,
   "metadata": {},
   "outputs": [],
   "source": [
    "import numpy as np"
   ]
  },
  {
   "cell_type": "code",
   "execution_count": 4,
   "metadata": {},
   "outputs": [],
   "source": [
    "from scipy import stats as st"
   ]
  },
  {
   "cell_type": "markdown",
   "metadata": {},
   "source": [
    "Прочитаем данные и ознакомимся с ними."
   ]
  },
  {
   "cell_type": "code",
   "execution_count": 5,
   "metadata": {},
   "outputs": [
    {
     "data": {
      "text/html": [
       "<div>\n",
       "<style scoped>\n",
       "    .dataframe tbody tr th:only-of-type {\n",
       "        vertical-align: middle;\n",
       "    }\n",
       "\n",
       "    .dataframe tbody tr th {\n",
       "        vertical-align: top;\n",
       "    }\n",
       "\n",
       "    .dataframe thead th {\n",
       "        text-align: right;\n",
       "    }\n",
       "</style>\n",
       "<table border=\"1\" class=\"dataframe\">\n",
       "  <thead>\n",
       "    <tr style=\"text-align: right;\">\n",
       "      <th></th>\n",
       "      <th>user_id</th>\n",
       "      <th>age</th>\n",
       "      <th>churn_date</th>\n",
       "      <th>city</th>\n",
       "      <th>first_name</th>\n",
       "      <th>last_name</th>\n",
       "      <th>reg_date</th>\n",
       "      <th>tariff</th>\n",
       "    </tr>\n",
       "  </thead>\n",
       "  <tbody>\n",
       "    <tr>\n",
       "      <td>0</td>\n",
       "      <td>1000</td>\n",
       "      <td>52</td>\n",
       "      <td>NaN</td>\n",
       "      <td>Краснодар</td>\n",
       "      <td>Рафаил</td>\n",
       "      <td>Верещагин</td>\n",
       "      <td>2018-05-25</td>\n",
       "      <td>ultra</td>\n",
       "    </tr>\n",
       "    <tr>\n",
       "      <td>1</td>\n",
       "      <td>1001</td>\n",
       "      <td>41</td>\n",
       "      <td>NaN</td>\n",
       "      <td>Москва</td>\n",
       "      <td>Иван</td>\n",
       "      <td>Ежов</td>\n",
       "      <td>2018-11-01</td>\n",
       "      <td>smart</td>\n",
       "    </tr>\n",
       "  </tbody>\n",
       "</table>\n",
       "</div>"
      ],
      "text/plain": [
       "   user_id  age churn_date       city first_name  last_name    reg_date tariff\n",
       "0     1000   52        NaN  Краснодар     Рафаил  Верещагин  2018-05-25  ultra\n",
       "1     1001   41        NaN     Москва       Иван       Ежов  2018-11-01  smart"
      ]
     },
     "execution_count": 5,
     "metadata": {},
     "output_type": "execute_result"
    }
   ],
   "source": [
    "users = pd.read_csv('/datasets/users.csv')\n",
    "users.head(2)"
   ]
  },
  {
   "cell_type": "code",
   "execution_count": 6,
   "metadata": {},
   "outputs": [
    {
     "data": {
      "text/html": [
       "<div>\n",
       "<style scoped>\n",
       "    .dataframe tbody tr th:only-of-type {\n",
       "        vertical-align: middle;\n",
       "    }\n",
       "\n",
       "    .dataframe tbody tr th {\n",
       "        vertical-align: top;\n",
       "    }\n",
       "\n",
       "    .dataframe thead th {\n",
       "        text-align: right;\n",
       "    }\n",
       "</style>\n",
       "<table border=\"1\" class=\"dataframe\">\n",
       "  <thead>\n",
       "    <tr style=\"text-align: right;\">\n",
       "      <th></th>\n",
       "      <th>id</th>\n",
       "      <th>call_date</th>\n",
       "      <th>duration</th>\n",
       "      <th>user_id</th>\n",
       "    </tr>\n",
       "  </thead>\n",
       "  <tbody>\n",
       "    <tr>\n",
       "      <td>0</td>\n",
       "      <td>1000_0</td>\n",
       "      <td>2018-07-25</td>\n",
       "      <td>0.0</td>\n",
       "      <td>1000</td>\n",
       "    </tr>\n",
       "    <tr>\n",
       "      <td>1</td>\n",
       "      <td>1000_1</td>\n",
       "      <td>2018-08-17</td>\n",
       "      <td>0.0</td>\n",
       "      <td>1000</td>\n",
       "    </tr>\n",
       "  </tbody>\n",
       "</table>\n",
       "</div>"
      ],
      "text/plain": [
       "       id   call_date  duration  user_id\n",
       "0  1000_0  2018-07-25       0.0     1000\n",
       "1  1000_1  2018-08-17       0.0     1000"
      ]
     },
     "execution_count": 6,
     "metadata": {},
     "output_type": "execute_result"
    }
   ],
   "source": [
    "calls = pd.read_csv('/datasets/calls.csv')\n",
    "calls.head(2)"
   ]
  },
  {
   "cell_type": "code",
   "execution_count": 7,
   "metadata": {},
   "outputs": [
    {
     "data": {
      "text/html": [
       "<div>\n",
       "<style scoped>\n",
       "    .dataframe tbody tr th:only-of-type {\n",
       "        vertical-align: middle;\n",
       "    }\n",
       "\n",
       "    .dataframe tbody tr th {\n",
       "        vertical-align: top;\n",
       "    }\n",
       "\n",
       "    .dataframe thead th {\n",
       "        text-align: right;\n",
       "    }\n",
       "</style>\n",
       "<table border=\"1\" class=\"dataframe\">\n",
       "  <thead>\n",
       "    <tr style=\"text-align: right;\">\n",
       "      <th></th>\n",
       "      <th>id</th>\n",
       "      <th>message_date</th>\n",
       "      <th>user_id</th>\n",
       "    </tr>\n",
       "  </thead>\n",
       "  <tbody>\n",
       "    <tr>\n",
       "      <td>0</td>\n",
       "      <td>1000_0</td>\n",
       "      <td>2018-06-27</td>\n",
       "      <td>1000</td>\n",
       "    </tr>\n",
       "    <tr>\n",
       "      <td>1</td>\n",
       "      <td>1000_1</td>\n",
       "      <td>2018-10-08</td>\n",
       "      <td>1000</td>\n",
       "    </tr>\n",
       "  </tbody>\n",
       "</table>\n",
       "</div>"
      ],
      "text/plain": [
       "       id message_date  user_id\n",
       "0  1000_0   2018-06-27     1000\n",
       "1  1000_1   2018-10-08     1000"
      ]
     },
     "execution_count": 7,
     "metadata": {},
     "output_type": "execute_result"
    }
   ],
   "source": [
    "messages = pd.read_csv('/datasets/messages.csv')\n",
    "messages.head(2)"
   ]
  },
  {
   "cell_type": "code",
   "execution_count": 8,
   "metadata": {},
   "outputs": [
    {
     "data": {
      "text/html": [
       "<div>\n",
       "<style scoped>\n",
       "    .dataframe tbody tr th:only-of-type {\n",
       "        vertical-align: middle;\n",
       "    }\n",
       "\n",
       "    .dataframe tbody tr th {\n",
       "        vertical-align: top;\n",
       "    }\n",
       "\n",
       "    .dataframe thead th {\n",
       "        text-align: right;\n",
       "    }\n",
       "</style>\n",
       "<table border=\"1\" class=\"dataframe\">\n",
       "  <thead>\n",
       "    <tr style=\"text-align: right;\">\n",
       "      <th></th>\n",
       "      <th>Unnamed: 0</th>\n",
       "      <th>id</th>\n",
       "      <th>mb_used</th>\n",
       "      <th>session_date</th>\n",
       "      <th>user_id</th>\n",
       "    </tr>\n",
       "  </thead>\n",
       "  <tbody>\n",
       "    <tr>\n",
       "      <td>0</td>\n",
       "      <td>0</td>\n",
       "      <td>1000_0</td>\n",
       "      <td>112.95</td>\n",
       "      <td>2018-11-25</td>\n",
       "      <td>1000</td>\n",
       "    </tr>\n",
       "    <tr>\n",
       "      <td>1</td>\n",
       "      <td>1</td>\n",
       "      <td>1000_1</td>\n",
       "      <td>1052.81</td>\n",
       "      <td>2018-09-07</td>\n",
       "      <td>1000</td>\n",
       "    </tr>\n",
       "  </tbody>\n",
       "</table>\n",
       "</div>"
      ],
      "text/plain": [
       "   Unnamed: 0      id  mb_used session_date  user_id\n",
       "0           0  1000_0   112.95   2018-11-25     1000\n",
       "1           1  1000_1  1052.81   2018-09-07     1000"
      ]
     },
     "execution_count": 8,
     "metadata": {},
     "output_type": "execute_result"
    }
   ],
   "source": [
    "internet = pd.read_csv('/datasets/internet.csv')\n",
    "internet.head(2)"
   ]
  },
  {
   "cell_type": "code",
   "execution_count": 9,
   "metadata": {},
   "outputs": [
    {
     "data": {
      "text/html": [
       "<div>\n",
       "<style scoped>\n",
       "    .dataframe tbody tr th:only-of-type {\n",
       "        vertical-align: middle;\n",
       "    }\n",
       "\n",
       "    .dataframe tbody tr th {\n",
       "        vertical-align: top;\n",
       "    }\n",
       "\n",
       "    .dataframe thead th {\n",
       "        text-align: right;\n",
       "    }\n",
       "</style>\n",
       "<table border=\"1\" class=\"dataframe\">\n",
       "  <thead>\n",
       "    <tr style=\"text-align: right;\">\n",
       "      <th></th>\n",
       "      <th>messages_included</th>\n",
       "      <th>mb_per_month_included</th>\n",
       "      <th>minutes_included</th>\n",
       "      <th>rub_monthly_fee</th>\n",
       "      <th>rub_per_gb</th>\n",
       "      <th>rub_per_message</th>\n",
       "      <th>rub_per_minute</th>\n",
       "      <th>tariff_name</th>\n",
       "    </tr>\n",
       "  </thead>\n",
       "  <tbody>\n",
       "    <tr>\n",
       "      <td>0</td>\n",
       "      <td>50</td>\n",
       "      <td>15360</td>\n",
       "      <td>500</td>\n",
       "      <td>550</td>\n",
       "      <td>200</td>\n",
       "      <td>3</td>\n",
       "      <td>3</td>\n",
       "      <td>smart</td>\n",
       "    </tr>\n",
       "    <tr>\n",
       "      <td>1</td>\n",
       "      <td>1000</td>\n",
       "      <td>30720</td>\n",
       "      <td>3000</td>\n",
       "      <td>1950</td>\n",
       "      <td>150</td>\n",
       "      <td>1</td>\n",
       "      <td>1</td>\n",
       "      <td>ultra</td>\n",
       "    </tr>\n",
       "  </tbody>\n",
       "</table>\n",
       "</div>"
      ],
      "text/plain": [
       "   messages_included  mb_per_month_included  minutes_included  \\\n",
       "0                 50                  15360               500   \n",
       "1               1000                  30720              3000   \n",
       "\n",
       "   rub_monthly_fee  rub_per_gb  rub_per_message  rub_per_minute tariff_name  \n",
       "0              550         200                3               3       smart  \n",
       "1             1950         150                1               1       ultra  "
      ]
     },
     "execution_count": 9,
     "metadata": {},
     "output_type": "execute_result"
    }
   ],
   "source": [
    "tariffs = pd.read_csv('/datasets/tariffs.csv')\n",
    "tariffs"
   ]
  },
  {
   "cell_type": "markdown",
   "metadata": {},
   "source": [
    "Объединим таблицы."
   ]
  },
  {
   "cell_type": "code",
   "execution_count": 10,
   "metadata": {},
   "outputs": [],
   "source": [
    "users_tariffs_data = users.merge(tariffs, left_on='tariff', right_on='tariff_name', how='outer')"
   ]
  },
  {
   "cell_type": "code",
   "execution_count": 11,
   "metadata": {},
   "outputs": [],
   "source": [
    "users_calls_data = users_tariffs_data.merge(calls, on='user_id', how='outer')"
   ]
  },
  {
   "cell_type": "code",
   "execution_count": 12,
   "metadata": {},
   "outputs": [],
   "source": [
    "users_messages_data = users_tariffs_data.merge(messages, on='user_id', how='outer')"
   ]
  },
  {
   "cell_type": "code",
   "execution_count": 13,
   "metadata": {},
   "outputs": [],
   "source": [
    "users_internet_data = users_tariffs_data.merge(internet, on='user_id', how='outer')"
   ]
  },
  {
   "cell_type": "code",
   "execution_count": 14,
   "metadata": {},
   "outputs": [],
   "source": [
    "megaline_clients = users_calls_data.append([users_messages_data, users_internet_data], sort=True)"
   ]
  },
  {
   "cell_type": "markdown",
   "metadata": {},
   "source": [
    "Избавимся от ошибочных и повторяющихся столбцов"
   ]
  },
  {
   "cell_type": "code",
   "execution_count": 15,
   "metadata": {},
   "outputs": [],
   "source": [
    "megaline_clients.drop(['Unnamed: 0', 'tariff_name'], axis='columns', inplace=True)"
   ]
  },
  {
   "cell_type": "markdown",
   "metadata": {},
   "source": [
    "Изучим объединённую таблицу."
   ]
  },
  {
   "cell_type": "code",
   "execution_count": 16,
   "metadata": {},
   "outputs": [
    {
     "data": {
      "text/html": [
       "<div>\n",
       "<style scoped>\n",
       "    .dataframe tbody tr th:only-of-type {\n",
       "        vertical-align: middle;\n",
       "    }\n",
       "\n",
       "    .dataframe tbody tr th {\n",
       "        vertical-align: top;\n",
       "    }\n",
       "\n",
       "    .dataframe thead th {\n",
       "        text-align: right;\n",
       "    }\n",
       "</style>\n",
       "<table border=\"1\" class=\"dataframe\">\n",
       "  <thead>\n",
       "    <tr style=\"text-align: right;\">\n",
       "      <th></th>\n",
       "      <th>age</th>\n",
       "      <th>call_date</th>\n",
       "      <th>churn_date</th>\n",
       "      <th>city</th>\n",
       "      <th>duration</th>\n",
       "      <th>first_name</th>\n",
       "      <th>id</th>\n",
       "      <th>last_name</th>\n",
       "      <th>mb_per_month_included</th>\n",
       "      <th>mb_used</th>\n",
       "      <th>...</th>\n",
       "      <th>messages_included</th>\n",
       "      <th>minutes_included</th>\n",
       "      <th>reg_date</th>\n",
       "      <th>rub_monthly_fee</th>\n",
       "      <th>rub_per_gb</th>\n",
       "      <th>rub_per_message</th>\n",
       "      <th>rub_per_minute</th>\n",
       "      <th>session_date</th>\n",
       "      <th>tariff</th>\n",
       "      <th>user_id</th>\n",
       "    </tr>\n",
       "  </thead>\n",
       "  <tbody>\n",
       "    <tr>\n",
       "      <td>0</td>\n",
       "      <td>52</td>\n",
       "      <td>2018-07-25</td>\n",
       "      <td>NaN</td>\n",
       "      <td>Краснодар</td>\n",
       "      <td>0.00</td>\n",
       "      <td>Рафаил</td>\n",
       "      <td>1000_0</td>\n",
       "      <td>Верещагин</td>\n",
       "      <td>30720</td>\n",
       "      <td>NaN</td>\n",
       "      <td>...</td>\n",
       "      <td>1000</td>\n",
       "      <td>3000</td>\n",
       "      <td>2018-05-25</td>\n",
       "      <td>1950</td>\n",
       "      <td>150</td>\n",
       "      <td>1</td>\n",
       "      <td>1</td>\n",
       "      <td>NaN</td>\n",
       "      <td>ultra</td>\n",
       "      <td>1000</td>\n",
       "    </tr>\n",
       "    <tr>\n",
       "      <td>1</td>\n",
       "      <td>52</td>\n",
       "      <td>2018-08-17</td>\n",
       "      <td>NaN</td>\n",
       "      <td>Краснодар</td>\n",
       "      <td>0.00</td>\n",
       "      <td>Рафаил</td>\n",
       "      <td>1000_1</td>\n",
       "      <td>Верещагин</td>\n",
       "      <td>30720</td>\n",
       "      <td>NaN</td>\n",
       "      <td>...</td>\n",
       "      <td>1000</td>\n",
       "      <td>3000</td>\n",
       "      <td>2018-05-25</td>\n",
       "      <td>1950</td>\n",
       "      <td>150</td>\n",
       "      <td>1</td>\n",
       "      <td>1</td>\n",
       "      <td>NaN</td>\n",
       "      <td>ultra</td>\n",
       "      <td>1000</td>\n",
       "    </tr>\n",
       "    <tr>\n",
       "      <td>2</td>\n",
       "      <td>52</td>\n",
       "      <td>2018-06-11</td>\n",
       "      <td>NaN</td>\n",
       "      <td>Краснодар</td>\n",
       "      <td>2.85</td>\n",
       "      <td>Рафаил</td>\n",
       "      <td>1000_2</td>\n",
       "      <td>Верещагин</td>\n",
       "      <td>30720</td>\n",
       "      <td>NaN</td>\n",
       "      <td>...</td>\n",
       "      <td>1000</td>\n",
       "      <td>3000</td>\n",
       "      <td>2018-05-25</td>\n",
       "      <td>1950</td>\n",
       "      <td>150</td>\n",
       "      <td>1</td>\n",
       "      <td>1</td>\n",
       "      <td>NaN</td>\n",
       "      <td>ultra</td>\n",
       "      <td>1000</td>\n",
       "    </tr>\n",
       "    <tr>\n",
       "      <td>3</td>\n",
       "      <td>52</td>\n",
       "      <td>2018-09-21</td>\n",
       "      <td>NaN</td>\n",
       "      <td>Краснодар</td>\n",
       "      <td>13.80</td>\n",
       "      <td>Рафаил</td>\n",
       "      <td>1000_3</td>\n",
       "      <td>Верещагин</td>\n",
       "      <td>30720</td>\n",
       "      <td>NaN</td>\n",
       "      <td>...</td>\n",
       "      <td>1000</td>\n",
       "      <td>3000</td>\n",
       "      <td>2018-05-25</td>\n",
       "      <td>1950</td>\n",
       "      <td>150</td>\n",
       "      <td>1</td>\n",
       "      <td>1</td>\n",
       "      <td>NaN</td>\n",
       "      <td>ultra</td>\n",
       "      <td>1000</td>\n",
       "    </tr>\n",
       "    <tr>\n",
       "      <td>4</td>\n",
       "      <td>52</td>\n",
       "      <td>2018-12-15</td>\n",
       "      <td>NaN</td>\n",
       "      <td>Краснодар</td>\n",
       "      <td>5.18</td>\n",
       "      <td>Рафаил</td>\n",
       "      <td>1000_4</td>\n",
       "      <td>Верещагин</td>\n",
       "      <td>30720</td>\n",
       "      <td>NaN</td>\n",
       "      <td>...</td>\n",
       "      <td>1000</td>\n",
       "      <td>3000</td>\n",
       "      <td>2018-05-25</td>\n",
       "      <td>1950</td>\n",
       "      <td>150</td>\n",
       "      <td>1</td>\n",
       "      <td>1</td>\n",
       "      <td>NaN</td>\n",
       "      <td>ultra</td>\n",
       "      <td>1000</td>\n",
       "    </tr>\n",
       "    <tr>\n",
       "      <td>5</td>\n",
       "      <td>52</td>\n",
       "      <td>2018-11-02</td>\n",
       "      <td>NaN</td>\n",
       "      <td>Краснодар</td>\n",
       "      <td>0.00</td>\n",
       "      <td>Рафаил</td>\n",
       "      <td>1000_5</td>\n",
       "      <td>Верещагин</td>\n",
       "      <td>30720</td>\n",
       "      <td>NaN</td>\n",
       "      <td>...</td>\n",
       "      <td>1000</td>\n",
       "      <td>3000</td>\n",
       "      <td>2018-05-25</td>\n",
       "      <td>1950</td>\n",
       "      <td>150</td>\n",
       "      <td>1</td>\n",
       "      <td>1</td>\n",
       "      <td>NaN</td>\n",
       "      <td>ultra</td>\n",
       "      <td>1000</td>\n",
       "    </tr>\n",
       "    <tr>\n",
       "      <td>6</td>\n",
       "      <td>52</td>\n",
       "      <td>2018-10-18</td>\n",
       "      <td>NaN</td>\n",
       "      <td>Краснодар</td>\n",
       "      <td>0.00</td>\n",
       "      <td>Рафаил</td>\n",
       "      <td>1000_6</td>\n",
       "      <td>Верещагин</td>\n",
       "      <td>30720</td>\n",
       "      <td>NaN</td>\n",
       "      <td>...</td>\n",
       "      <td>1000</td>\n",
       "      <td>3000</td>\n",
       "      <td>2018-05-25</td>\n",
       "      <td>1950</td>\n",
       "      <td>150</td>\n",
       "      <td>1</td>\n",
       "      <td>1</td>\n",
       "      <td>NaN</td>\n",
       "      <td>ultra</td>\n",
       "      <td>1000</td>\n",
       "    </tr>\n",
       "    <tr>\n",
       "      <td>7</td>\n",
       "      <td>52</td>\n",
       "      <td>2018-08-22</td>\n",
       "      <td>NaN</td>\n",
       "      <td>Краснодар</td>\n",
       "      <td>18.31</td>\n",
       "      <td>Рафаил</td>\n",
       "      <td>1000_7</td>\n",
       "      <td>Верещагин</td>\n",
       "      <td>30720</td>\n",
       "      <td>NaN</td>\n",
       "      <td>...</td>\n",
       "      <td>1000</td>\n",
       "      <td>3000</td>\n",
       "      <td>2018-05-25</td>\n",
       "      <td>1950</td>\n",
       "      <td>150</td>\n",
       "      <td>1</td>\n",
       "      <td>1</td>\n",
       "      <td>NaN</td>\n",
       "      <td>ultra</td>\n",
       "      <td>1000</td>\n",
       "    </tr>\n",
       "    <tr>\n",
       "      <td>8</td>\n",
       "      <td>52</td>\n",
       "      <td>2018-09-15</td>\n",
       "      <td>NaN</td>\n",
       "      <td>Краснодар</td>\n",
       "      <td>18.44</td>\n",
       "      <td>Рафаил</td>\n",
       "      <td>1000_8</td>\n",
       "      <td>Верещагин</td>\n",
       "      <td>30720</td>\n",
       "      <td>NaN</td>\n",
       "      <td>...</td>\n",
       "      <td>1000</td>\n",
       "      <td>3000</td>\n",
       "      <td>2018-05-25</td>\n",
       "      <td>1950</td>\n",
       "      <td>150</td>\n",
       "      <td>1</td>\n",
       "      <td>1</td>\n",
       "      <td>NaN</td>\n",
       "      <td>ultra</td>\n",
       "      <td>1000</td>\n",
       "    </tr>\n",
       "    <tr>\n",
       "      <td>9</td>\n",
       "      <td>52</td>\n",
       "      <td>2018-08-15</td>\n",
       "      <td>NaN</td>\n",
       "      <td>Краснодар</td>\n",
       "      <td>0.00</td>\n",
       "      <td>Рафаил</td>\n",
       "      <td>1000_9</td>\n",
       "      <td>Верещагин</td>\n",
       "      <td>30720</td>\n",
       "      <td>NaN</td>\n",
       "      <td>...</td>\n",
       "      <td>1000</td>\n",
       "      <td>3000</td>\n",
       "      <td>2018-05-25</td>\n",
       "      <td>1950</td>\n",
       "      <td>150</td>\n",
       "      <td>1</td>\n",
       "      <td>1</td>\n",
       "      <td>NaN</td>\n",
       "      <td>ultra</td>\n",
       "      <td>1000</td>\n",
       "    </tr>\n",
       "  </tbody>\n",
       "</table>\n",
       "<p>10 rows × 21 columns</p>\n",
       "</div>"
      ],
      "text/plain": [
       "   age   call_date churn_date       city  duration first_name      id  \\\n",
       "0   52  2018-07-25        NaN  Краснодар      0.00     Рафаил  1000_0   \n",
       "1   52  2018-08-17        NaN  Краснодар      0.00     Рафаил  1000_1   \n",
       "2   52  2018-06-11        NaN  Краснодар      2.85     Рафаил  1000_2   \n",
       "3   52  2018-09-21        NaN  Краснодар     13.80     Рафаил  1000_3   \n",
       "4   52  2018-12-15        NaN  Краснодар      5.18     Рафаил  1000_4   \n",
       "5   52  2018-11-02        NaN  Краснодар      0.00     Рафаил  1000_5   \n",
       "6   52  2018-10-18        NaN  Краснодар      0.00     Рафаил  1000_6   \n",
       "7   52  2018-08-22        NaN  Краснодар     18.31     Рафаил  1000_7   \n",
       "8   52  2018-09-15        NaN  Краснодар     18.44     Рафаил  1000_8   \n",
       "9   52  2018-08-15        NaN  Краснодар      0.00     Рафаил  1000_9   \n",
       "\n",
       "   last_name  mb_per_month_included  mb_used  ... messages_included  \\\n",
       "0  Верещагин                  30720      NaN  ...              1000   \n",
       "1  Верещагин                  30720      NaN  ...              1000   \n",
       "2  Верещагин                  30720      NaN  ...              1000   \n",
       "3  Верещагин                  30720      NaN  ...              1000   \n",
       "4  Верещагин                  30720      NaN  ...              1000   \n",
       "5  Верещагин                  30720      NaN  ...              1000   \n",
       "6  Верещагин                  30720      NaN  ...              1000   \n",
       "7  Верещагин                  30720      NaN  ...              1000   \n",
       "8  Верещагин                  30720      NaN  ...              1000   \n",
       "9  Верещагин                  30720      NaN  ...              1000   \n",
       "\n",
       "   minutes_included    reg_date rub_monthly_fee  rub_per_gb  rub_per_message  \\\n",
       "0              3000  2018-05-25            1950         150                1   \n",
       "1              3000  2018-05-25            1950         150                1   \n",
       "2              3000  2018-05-25            1950         150                1   \n",
       "3              3000  2018-05-25            1950         150                1   \n",
       "4              3000  2018-05-25            1950         150                1   \n",
       "5              3000  2018-05-25            1950         150                1   \n",
       "6              3000  2018-05-25            1950         150                1   \n",
       "7              3000  2018-05-25            1950         150                1   \n",
       "8              3000  2018-05-25            1950         150                1   \n",
       "9              3000  2018-05-25            1950         150                1   \n",
       "\n",
       "   rub_per_minute  session_date tariff user_id  \n",
       "0               1           NaN  ultra    1000  \n",
       "1               1           NaN  ultra    1000  \n",
       "2               1           NaN  ultra    1000  \n",
       "3               1           NaN  ultra    1000  \n",
       "4               1           NaN  ultra    1000  \n",
       "5               1           NaN  ultra    1000  \n",
       "6               1           NaN  ultra    1000  \n",
       "7               1           NaN  ultra    1000  \n",
       "8               1           NaN  ultra    1000  \n",
       "9               1           NaN  ultra    1000  \n",
       "\n",
       "[10 rows x 21 columns]"
      ]
     },
     "execution_count": 16,
     "metadata": {},
     "output_type": "execute_result"
    }
   ],
   "source": [
    "megaline_clients.head(10)"
   ]
  },
  {
   "cell_type": "code",
   "execution_count": 17,
   "metadata": {},
   "outputs": [
    {
     "name": "stdout",
     "output_type": "stream",
     "text": [
      "<class 'pandas.core.frame.DataFrame'>\n",
      "Int64Index: 475124 entries, 0 to 149398\n",
      "Data columns (total 21 columns):\n",
      "age                      475124 non-null int64\n",
      "call_date                202607 non-null object\n",
      "churn_date               23019 non-null object\n",
      "city                     475124 non-null object\n",
      "duration                 202607 non-null float64\n",
      "first_name               475124 non-null object\n",
      "id                       475039 non-null object\n",
      "last_name                475124 non-null object\n",
      "mb_per_month_included    475124 non-null int64\n",
      "mb_used                  149396 non-null float64\n",
      "message_date             123036 non-null object\n",
      "messages_included        475124 non-null int64\n",
      "minutes_included         475124 non-null int64\n",
      "reg_date                 475124 non-null object\n",
      "rub_monthly_fee          475124 non-null int64\n",
      "rub_per_gb               475124 non-null int64\n",
      "rub_per_message          475124 non-null int64\n",
      "rub_per_minute           475124 non-null int64\n",
      "session_date             149396 non-null object\n",
      "tariff                   475124 non-null object\n",
      "user_id                  475124 non-null int64\n",
      "dtypes: float64(2), int64(9), object(10)\n",
      "memory usage: 79.7+ MB\n"
     ]
    }
   ],
   "source": [
    "megaline_clients.info()"
   ]
  },
  {
   "cell_type": "markdown",
   "metadata": {},
   "source": [
    "Таблица получилась достаточно длинной за счёт вертикального присоединения данных, однако такую таблицу легко группировать для дальнейших исследований."
   ]
  },
  {
   "cell_type": "markdown",
   "metadata": {},
   "source": [
    "**Вывод:** Импортировали библиотеки `pandas` и `numpy`, а также пакет `scipy.stats`. Прочитали файлы с данными. Объединили датасеты в один."
   ]
  },
  {
   "cell_type": "markdown",
   "metadata": {},
   "source": [
    "## Шаг 2. Подготовим данные"
   ]
  },
  {
   "cell_type": "markdown",
   "metadata": {},
   "source": [
    "Приведем данные к нужным типам. На прошлом шаге отметили, что дата не приведена к формату `datetime` - исправим это. "
   ]
  },
  {
   "cell_type": "code",
   "execution_count": 18,
   "metadata": {},
   "outputs": [],
   "source": [
    "def to_datetime(colList):\n",
    "    for col in colList:\n",
    "        megaline_clients[col] = pd.to_datetime(megaline_clients[col], format='%Y-%m-%d')"
   ]
  },
  {
   "cell_type": "code",
   "execution_count": 19,
   "metadata": {},
   "outputs": [],
   "source": [
    "to_datetime(['call_date', 'churn_date', 'message_date', 'reg_date', 'session_date'])"
   ]
  },
  {
   "cell_type": "markdown",
   "metadata": {},
   "source": [
    "В процессе обработки данных нашли следующие ошибки: \n",
    "\n",
    "- в таблице `internet` был найден некорректный столбец `Unnamed: 0` - избавились от него \n",
    "- формат столбцов с датами был некорректным - исправили формат\n",
    "- длительность многих звонков — 0.0 минут. Это могут быть пропущенные звонки либо звонки, когда клиент не дозвонился до адресата. Оставим их как есть. К тому же, они никак не повлияют на сумму использованных минут.\n",
    "- трафик интернета указан в мегабайтах. В процессе группирования данных преобразуем трафик в гигабайты для удобства подсчета"
   ]
  },
  {
   "cell_type": "markdown",
   "metadata": {},
   "source": [
    "Посчитаем и добавим в таблицу месяц совершения звонков."
   ]
  },
  {
   "cell_type": "code",
   "execution_count": 21,
   "metadata": {},
   "outputs": [],
   "source": [
    "megaline_clients['call_month'] = (megaline_clients['call_date']\n",
    "                                  .dt\n",
    "                                  .month\n",
    "                                  .fillna(0)\n",
    "                                  .astype(int)\n",
    "                                 )"
   ]
  },
  {
   "cell_type": "code",
   "execution_count": 22,
   "metadata": {},
   "outputs": [
    {
     "data": {
      "text/html": [
       "<div>\n",
       "<style scoped>\n",
       "    .dataframe tbody tr th:only-of-type {\n",
       "        vertical-align: middle;\n",
       "    }\n",
       "\n",
       "    .dataframe tbody tr th {\n",
       "        vertical-align: top;\n",
       "    }\n",
       "\n",
       "    .dataframe thead th {\n",
       "        text-align: right;\n",
       "    }\n",
       "</style>\n",
       "<table border=\"1\" class=\"dataframe\">\n",
       "  <thead>\n",
       "    <tr style=\"text-align: right;\">\n",
       "      <th></th>\n",
       "      <th>age</th>\n",
       "      <th>call_date</th>\n",
       "      <th>churn_date</th>\n",
       "      <th>city</th>\n",
       "      <th>duration</th>\n",
       "      <th>first_name</th>\n",
       "      <th>id</th>\n",
       "      <th>last_name</th>\n",
       "      <th>mb_per_month_included</th>\n",
       "      <th>mb_used</th>\n",
       "      <th>...</th>\n",
       "      <th>minutes_included</th>\n",
       "      <th>reg_date</th>\n",
       "      <th>rub_monthly_fee</th>\n",
       "      <th>rub_per_gb</th>\n",
       "      <th>rub_per_message</th>\n",
       "      <th>rub_per_minute</th>\n",
       "      <th>session_date</th>\n",
       "      <th>tariff</th>\n",
       "      <th>user_id</th>\n",
       "      <th>call_month</th>\n",
       "    </tr>\n",
       "  </thead>\n",
       "  <tbody>\n",
       "    <tr>\n",
       "      <td>0</td>\n",
       "      <td>52</td>\n",
       "      <td>2018-07-25</td>\n",
       "      <td>NaT</td>\n",
       "      <td>Краснодар</td>\n",
       "      <td>0.0</td>\n",
       "      <td>Рафаил</td>\n",
       "      <td>1000_0</td>\n",
       "      <td>Верещагин</td>\n",
       "      <td>30720</td>\n",
       "      <td>NaN</td>\n",
       "      <td>...</td>\n",
       "      <td>3000</td>\n",
       "      <td>2018-05-25</td>\n",
       "      <td>1950</td>\n",
       "      <td>150</td>\n",
       "      <td>1</td>\n",
       "      <td>1</td>\n",
       "      <td>NaT</td>\n",
       "      <td>ultra</td>\n",
       "      <td>1000</td>\n",
       "      <td>7</td>\n",
       "    </tr>\n",
       "    <tr>\n",
       "      <td>1</td>\n",
       "      <td>52</td>\n",
       "      <td>2018-08-17</td>\n",
       "      <td>NaT</td>\n",
       "      <td>Краснодар</td>\n",
       "      <td>0.0</td>\n",
       "      <td>Рафаил</td>\n",
       "      <td>1000_1</td>\n",
       "      <td>Верещагин</td>\n",
       "      <td>30720</td>\n",
       "      <td>NaN</td>\n",
       "      <td>...</td>\n",
       "      <td>3000</td>\n",
       "      <td>2018-05-25</td>\n",
       "      <td>1950</td>\n",
       "      <td>150</td>\n",
       "      <td>1</td>\n",
       "      <td>1</td>\n",
       "      <td>NaT</td>\n",
       "      <td>ultra</td>\n",
       "      <td>1000</td>\n",
       "      <td>8</td>\n",
       "    </tr>\n",
       "  </tbody>\n",
       "</table>\n",
       "<p>2 rows × 22 columns</p>\n",
       "</div>"
      ],
      "text/plain": [
       "   age  call_date churn_date       city  duration first_name      id  \\\n",
       "0   52 2018-07-25        NaT  Краснодар       0.0     Рафаил  1000_0   \n",
       "1   52 2018-08-17        NaT  Краснодар       0.0     Рафаил  1000_1   \n",
       "\n",
       "   last_name  mb_per_month_included  mb_used  ... minutes_included   reg_date  \\\n",
       "0  Верещагин                  30720      NaN  ...             3000 2018-05-25   \n",
       "1  Верещагин                  30720      NaN  ...             3000 2018-05-25   \n",
       "\n",
       "   rub_monthly_fee rub_per_gb  rub_per_message  rub_per_minute  session_date  \\\n",
       "0             1950        150                1               1           NaT   \n",
       "1             1950        150                1               1           NaT   \n",
       "\n",
       "   tariff user_id call_month  \n",
       "0   ultra    1000          7  \n",
       "1   ultra    1000          8  \n",
       "\n",
       "[2 rows x 22 columns]"
      ]
     },
     "execution_count": 22,
     "metadata": {},
     "output_type": "execute_result"
    }
   ],
   "source": [
    "megaline_clients.head(2)"
   ]
  },
  {
   "cell_type": "markdown",
   "metadata": {},
   "source": [
    "Посчитаем для каждого пользователя количество сделанных звонков и израсходованных минут разговора по месяцам и объединим данные в удобную таблицу."
   ]
  },
  {
   "cell_type": "code",
   "execution_count": 23,
   "metadata": {},
   "outputs": [
    {
     "data": {
      "text/html": [
       "<div>\n",
       "<style scoped>\n",
       "    .dataframe tbody tr th:only-of-type {\n",
       "        vertical-align: middle;\n",
       "    }\n",
       "\n",
       "    .dataframe tbody tr th {\n",
       "        vertical-align: top;\n",
       "    }\n",
       "\n",
       "    .dataframe thead th {\n",
       "        text-align: right;\n",
       "    }\n",
       "</style>\n",
       "<table border=\"1\" class=\"dataframe\">\n",
       "  <thead>\n",
       "    <tr style=\"text-align: right;\">\n",
       "      <th></th>\n",
       "      <th>tariff</th>\n",
       "      <th>user_id</th>\n",
       "      <th>minutes_included</th>\n",
       "      <th>rub_per_minute</th>\n",
       "      <th>rub_monthly_fee</th>\n",
       "      <th>city</th>\n",
       "      <th>call_month</th>\n",
       "      <th>count</th>\n",
       "      <th>sum</th>\n",
       "    </tr>\n",
       "  </thead>\n",
       "  <tbody>\n",
       "    <tr>\n",
       "      <td>1</td>\n",
       "      <td>smart</td>\n",
       "      <td>1001</td>\n",
       "      <td>500</td>\n",
       "      <td>3</td>\n",
       "      <td>550</td>\n",
       "      <td>Москва</td>\n",
       "      <td>11</td>\n",
       "      <td>59</td>\n",
       "      <td>408.12</td>\n",
       "    </tr>\n",
       "    <tr>\n",
       "      <td>2</td>\n",
       "      <td>smart</td>\n",
       "      <td>1001</td>\n",
       "      <td>500</td>\n",
       "      <td>3</td>\n",
       "      <td>550</td>\n",
       "      <td>Москва</td>\n",
       "      <td>12</td>\n",
       "      <td>63</td>\n",
       "      <td>391.34</td>\n",
       "    </tr>\n",
       "  </tbody>\n",
       "</table>\n",
       "</div>"
      ],
      "text/plain": [
       "  tariff  user_id  minutes_included  rub_per_minute  rub_monthly_fee    city  \\\n",
       "1  smart     1001               500               3              550  Москва   \n",
       "2  smart     1001               500               3              550  Москва   \n",
       "\n",
       "   call_month  count     sum  \n",
       "1          11     59  408.12  \n",
       "2          12     63  391.34  "
      ]
     },
     "execution_count": 23,
     "metadata": {},
     "output_type": "execute_result"
    }
   ],
   "source": [
    "call_stat = (megaline_clients\n",
    "             .groupby(['tariff', 'user_id', 'minutes_included', 'rub_per_minute', 'rub_monthly_fee', 'city', 'call_month'])['duration']\n",
    "             .agg(['count', 'sum'])\n",
    "             .reset_index()\n",
    "             .query('call_month != 0')\n",
    ")\n",
    "call_stat.head(2)"
   ]
  },
  {
   "cell_type": "markdown",
   "metadata": {},
   "source": [
    "Теперь посчитаем и добавим в таблицу месяц отправления сообщений, а затем сгруппируем данные и посчитаем количество сообщений по месяцам для каждого клиента."
   ]
  },
  {
   "cell_type": "code",
   "execution_count": 24,
   "metadata": {},
   "outputs": [],
   "source": [
    "megaline_clients['message_month'] = (megaline_clients['message_date']\n",
    "                                  .dt\n",
    "                                  .month\n",
    "                                  .fillna(0)\n",
    "                                  .astype(int)\n",
    "                                 )"
   ]
  },
  {
   "cell_type": "code",
   "execution_count": 25,
   "metadata": {},
   "outputs": [
    {
     "data": {
      "text/html": [
       "<div>\n",
       "<style scoped>\n",
       "    .dataframe tbody tr th:only-of-type {\n",
       "        vertical-align: middle;\n",
       "    }\n",
       "\n",
       "    .dataframe tbody tr th {\n",
       "        vertical-align: top;\n",
       "    }\n",
       "\n",
       "    .dataframe thead th {\n",
       "        text-align: right;\n",
       "    }\n",
       "</style>\n",
       "<table border=\"1\" class=\"dataframe\">\n",
       "  <thead>\n",
       "    <tr style=\"text-align: right;\">\n",
       "      <th></th>\n",
       "      <th>tariff</th>\n",
       "      <th>user_id</th>\n",
       "      <th>messages_included</th>\n",
       "      <th>rub_per_message</th>\n",
       "      <th>rub_monthly_fee</th>\n",
       "      <th>city</th>\n",
       "      <th>message_month</th>\n",
       "      <th>mes_count</th>\n",
       "    </tr>\n",
       "  </thead>\n",
       "  <tbody>\n",
       "    <tr>\n",
       "      <td>2</td>\n",
       "      <td>smart</td>\n",
       "      <td>1002</td>\n",
       "      <td>50</td>\n",
       "      <td>3</td>\n",
       "      <td>550</td>\n",
       "      <td>Стерлитамак</td>\n",
       "      <td>6</td>\n",
       "      <td>4</td>\n",
       "    </tr>\n",
       "    <tr>\n",
       "      <td>3</td>\n",
       "      <td>smart</td>\n",
       "      <td>1002</td>\n",
       "      <td>50</td>\n",
       "      <td>3</td>\n",
       "      <td>550</td>\n",
       "      <td>Стерлитамак</td>\n",
       "      <td>7</td>\n",
       "      <td>11</td>\n",
       "    </tr>\n",
       "  </tbody>\n",
       "</table>\n",
       "</div>"
      ],
      "text/plain": [
       "  tariff  user_id  messages_included  rub_per_message  rub_monthly_fee  \\\n",
       "2  smart     1002                 50                3              550   \n",
       "3  smart     1002                 50                3              550   \n",
       "\n",
       "          city  message_month  mes_count  \n",
       "2  Стерлитамак              6          4  \n",
       "3  Стерлитамак              7         11  "
      ]
     },
     "execution_count": 25,
     "metadata": {},
     "output_type": "execute_result"
    }
   ],
   "source": [
    "message_stat = (megaline_clients\n",
    "             .groupby(['tariff', 'user_id', 'messages_included', 'rub_per_message', 'rub_monthly_fee', 'city', 'message_month'])['first_name']\n",
    "             .agg('count')\n",
    "             .reset_index()\n",
    "             .query('message_month != 0')\n",
    ")\n",
    "message_stat = message_stat.rename(columns={\"first_name\": \"mes_count\"})\n",
    "message_stat.head(2)"
   ]
  },
  {
   "cell_type": "markdown",
   "metadata": {},
   "source": [
    "То же самое сделаем для изучения объема израсходованного интернет-трафика по месяцам."
   ]
  },
  {
   "cell_type": "code",
   "execution_count": 26,
   "metadata": {},
   "outputs": [],
   "source": [
    "megaline_clients['internet_month'] = (megaline_clients['session_date']\n",
    "                                  .dt\n",
    "                                  .month\n",
    "                                  .fillna(0)\n",
    "                                  .astype(int)\n",
    "                                 )"
   ]
  },
  {
   "cell_type": "code",
   "execution_count": 27,
   "metadata": {},
   "outputs": [
    {
     "data": {
      "text/html": [
       "<div>\n",
       "<style scoped>\n",
       "    .dataframe tbody tr th:only-of-type {\n",
       "        vertical-align: middle;\n",
       "    }\n",
       "\n",
       "    .dataframe tbody tr th {\n",
       "        vertical-align: top;\n",
       "    }\n",
       "\n",
       "    .dataframe thead th {\n",
       "        text-align: right;\n",
       "    }\n",
       "</style>\n",
       "<table border=\"1\" class=\"dataframe\">\n",
       "  <thead>\n",
       "    <tr style=\"text-align: right;\">\n",
       "      <th></th>\n",
       "      <th>tariff</th>\n",
       "      <th>user_id</th>\n",
       "      <th>mb_per_month_included</th>\n",
       "      <th>rub_per_gb</th>\n",
       "      <th>rub_monthly_fee</th>\n",
       "      <th>city</th>\n",
       "      <th>internet_month</th>\n",
       "      <th>mb_used</th>\n",
       "    </tr>\n",
       "  </thead>\n",
       "  <tbody>\n",
       "    <tr>\n",
       "      <td>1</td>\n",
       "      <td>smart</td>\n",
       "      <td>1001</td>\n",
       "      <td>15360</td>\n",
       "      <td>200</td>\n",
       "      <td>550</td>\n",
       "      <td>Москва</td>\n",
       "      <td>11</td>\n",
       "      <td>18429.34</td>\n",
       "    </tr>\n",
       "    <tr>\n",
       "      <td>2</td>\n",
       "      <td>smart</td>\n",
       "      <td>1001</td>\n",
       "      <td>15360</td>\n",
       "      <td>200</td>\n",
       "      <td>550</td>\n",
       "      <td>Москва</td>\n",
       "      <td>12</td>\n",
       "      <td>14036.66</td>\n",
       "    </tr>\n",
       "  </tbody>\n",
       "</table>\n",
       "</div>"
      ],
      "text/plain": [
       "  tariff  user_id  mb_per_month_included  rub_per_gb  rub_monthly_fee    city  \\\n",
       "1  smart     1001                  15360         200              550  Москва   \n",
       "2  smart     1001                  15360         200              550  Москва   \n",
       "\n",
       "   internet_month   mb_used  \n",
       "1              11  18429.34  \n",
       "2              12  14036.66  "
      ]
     },
     "execution_count": 27,
     "metadata": {},
     "output_type": "execute_result"
    }
   ],
   "source": [
    "internet_stat = (megaline_clients\n",
    "             .groupby(['tariff','user_id', 'mb_per_month_included', 'rub_per_gb', 'rub_monthly_fee', 'city', 'internet_month'])['mb_used']\n",
    "             .agg('sum')\n",
    "             .reset_index()\n",
    "             .query('internet_month != 0')\n",
    ")\n",
    "internet_stat.head(2)"
   ]
  },
  {
   "cell_type": "markdown",
   "metadata": {},
   "source": [
    "Посчитаем помесячную выручку с каждого пользователя (вычтем бесплатный лимит из суммарного количества звонков, сообщений и интернет-трафика; остаток умножим на значение из тарифного плана; прибавим абонентскую плату, соответствующую тарифному плану).\n",
    "\n",
    "Известно, что оператор всегда округляет вверх значения минут и мегабайтов. Если пользователь проговорил всего 1 секунду, в тарифе засчитывается целая минута. Поэтому будем округлять, учитывая этот факт."
   ]
  },
  {
   "cell_type": "markdown",
   "metadata": {},
   "source": [
    "##### Звонки"
   ]
  },
  {
   "cell_type": "code",
   "execution_count": 28,
   "metadata": {},
   "outputs": [
    {
     "data": {
      "text/html": [
       "<div>\n",
       "<style scoped>\n",
       "    .dataframe tbody tr th:only-of-type {\n",
       "        vertical-align: middle;\n",
       "    }\n",
       "\n",
       "    .dataframe tbody tr th {\n",
       "        vertical-align: top;\n",
       "    }\n",
       "\n",
       "    .dataframe thead th {\n",
       "        text-align: right;\n",
       "    }\n",
       "</style>\n",
       "<table border=\"1\" class=\"dataframe\">\n",
       "  <thead>\n",
       "    <tr style=\"text-align: right;\">\n",
       "      <th></th>\n",
       "      <th>index</th>\n",
       "      <th>tariff</th>\n",
       "      <th>user_id</th>\n",
       "      <th>minutes_included</th>\n",
       "      <th>rub_per_minute</th>\n",
       "      <th>rub_monthly_fee</th>\n",
       "      <th>city</th>\n",
       "      <th>call_month</th>\n",
       "      <th>count</th>\n",
       "      <th>sum</th>\n",
       "      <th>extra_minutes</th>\n",
       "      <th>revenue, RUB</th>\n",
       "    </tr>\n",
       "  </thead>\n",
       "  <tbody>\n",
       "    <tr>\n",
       "      <td>0</td>\n",
       "      <td>14</td>\n",
       "      <td>smart</td>\n",
       "      <td>1005</td>\n",
       "      <td>500</td>\n",
       "      <td>3</td>\n",
       "      <td>550</td>\n",
       "      <td>Набережные Челны</td>\n",
       "      <td>3</td>\n",
       "      <td>77</td>\n",
       "      <td>573.54</td>\n",
       "      <td>74</td>\n",
       "      <td>222</td>\n",
       "    </tr>\n",
       "    <tr>\n",
       "      <td>1</td>\n",
       "      <td>15</td>\n",
       "      <td>smart</td>\n",
       "      <td>1005</td>\n",
       "      <td>500</td>\n",
       "      <td>3</td>\n",
       "      <td>550</td>\n",
       "      <td>Набережные Челны</td>\n",
       "      <td>4</td>\n",
       "      <td>101</td>\n",
       "      <td>670.20</td>\n",
       "      <td>171</td>\n",
       "      <td>513</td>\n",
       "    </tr>\n",
       "  </tbody>\n",
       "</table>\n",
       "</div>"
      ],
      "text/plain": [
       "   index tariff  user_id  minutes_included  rub_per_minute  rub_monthly_fee  \\\n",
       "0     14  smart     1005               500               3              550   \n",
       "1     15  smart     1005               500               3              550   \n",
       "\n",
       "               city  call_month  count     sum  extra_minutes  revenue, RUB  \n",
       "0  Набережные Челны           3     77  573.54             74           222  \n",
       "1  Набережные Челны           4    101  670.20            171           513  "
      ]
     },
     "execution_count": 28,
     "metadata": {},
     "output_type": "execute_result"
    }
   ],
   "source": [
    "call_stat['extra_minutes'] = call_stat['sum'] - call_stat['minutes_included']\n",
    "call_stat_revenue = call_stat.query('extra_minutes > 0').reset_index()\n",
    "call_stat_revenue['extra_minutes'] = np.ceil(call_stat_revenue['extra_minutes']).astype(int)\n",
    "call_stat_revenue['revenue, RUB'] = call_stat_revenue['extra_minutes'] * call_stat_revenue['rub_per_minute']\n",
    "call_stat_revenue.head(2)"
   ]
  },
  {
   "cell_type": "markdown",
   "metadata": {},
   "source": [
    "##### Сообщения"
   ]
  },
  {
   "cell_type": "code",
   "execution_count": 29,
   "metadata": {},
   "outputs": [
    {
     "data": {
      "text/html": [
       "<div>\n",
       "<style scoped>\n",
       "    .dataframe tbody tr th:only-of-type {\n",
       "        vertical-align: middle;\n",
       "    }\n",
       "\n",
       "    .dataframe tbody tr th {\n",
       "        vertical-align: top;\n",
       "    }\n",
       "\n",
       "    .dataframe thead th {\n",
       "        text-align: right;\n",
       "    }\n",
       "</style>\n",
       "<table border=\"1\" class=\"dataframe\">\n",
       "  <thead>\n",
       "    <tr style=\"text-align: right;\">\n",
       "      <th></th>\n",
       "      <th>index</th>\n",
       "      <th>tariff</th>\n",
       "      <th>user_id</th>\n",
       "      <th>messages_included</th>\n",
       "      <th>rub_per_message</th>\n",
       "      <th>rub_monthly_fee</th>\n",
       "      <th>city</th>\n",
       "      <th>message_month</th>\n",
       "      <th>mes_count</th>\n",
       "      <th>extra_messages</th>\n",
       "      <th>revenue, RUB</th>\n",
       "    </tr>\n",
       "  </thead>\n",
       "  <tbody>\n",
       "    <tr>\n",
       "      <td>0</td>\n",
       "      <td>12</td>\n",
       "      <td>smart</td>\n",
       "      <td>1005</td>\n",
       "      <td>50</td>\n",
       "      <td>3</td>\n",
       "      <td>550</td>\n",
       "      <td>Набережные Челны</td>\n",
       "      <td>3</td>\n",
       "      <td>56</td>\n",
       "      <td>6</td>\n",
       "      <td>18</td>\n",
       "    </tr>\n",
       "    <tr>\n",
       "      <td>1</td>\n",
       "      <td>16</td>\n",
       "      <td>smart</td>\n",
       "      <td>1005</td>\n",
       "      <td>50</td>\n",
       "      <td>3</td>\n",
       "      <td>550</td>\n",
       "      <td>Набережные Челны</td>\n",
       "      <td>7</td>\n",
       "      <td>56</td>\n",
       "      <td>6</td>\n",
       "      <td>18</td>\n",
       "    </tr>\n",
       "    <tr>\n",
       "      <td>2</td>\n",
       "      <td>17</td>\n",
       "      <td>smart</td>\n",
       "      <td>1005</td>\n",
       "      <td>50</td>\n",
       "      <td>3</td>\n",
       "      <td>550</td>\n",
       "      <td>Набережные Челны</td>\n",
       "      <td>8</td>\n",
       "      <td>64</td>\n",
       "      <td>14</td>\n",
       "      <td>42</td>\n",
       "    </tr>\n",
       "    <tr>\n",
       "      <td>3</td>\n",
       "      <td>18</td>\n",
       "      <td>smart</td>\n",
       "      <td>1005</td>\n",
       "      <td>50</td>\n",
       "      <td>3</td>\n",
       "      <td>550</td>\n",
       "      <td>Набережные Челны</td>\n",
       "      <td>9</td>\n",
       "      <td>52</td>\n",
       "      <td>2</td>\n",
       "      <td>6</td>\n",
       "    </tr>\n",
       "    <tr>\n",
       "      <td>4</td>\n",
       "      <td>20</td>\n",
       "      <td>smart</td>\n",
       "      <td>1005</td>\n",
       "      <td>50</td>\n",
       "      <td>3</td>\n",
       "      <td>550</td>\n",
       "      <td>Набережные Челны</td>\n",
       "      <td>11</td>\n",
       "      <td>51</td>\n",
       "      <td>1</td>\n",
       "      <td>3</td>\n",
       "    </tr>\n",
       "  </tbody>\n",
       "</table>\n",
       "</div>"
      ],
      "text/plain": [
       "   index tariff  user_id  messages_included  rub_per_message  rub_monthly_fee  \\\n",
       "0     12  smart     1005                 50                3              550   \n",
       "1     16  smart     1005                 50                3              550   \n",
       "2     17  smart     1005                 50                3              550   \n",
       "3     18  smart     1005                 50                3              550   \n",
       "4     20  smart     1005                 50                3              550   \n",
       "\n",
       "               city  message_month  mes_count  extra_messages  revenue, RUB  \n",
       "0  Набережные Челны              3         56               6            18  \n",
       "1  Набережные Челны              7         56               6            18  \n",
       "2  Набережные Челны              8         64              14            42  \n",
       "3  Набережные Челны              9         52               2             6  \n",
       "4  Набережные Челны             11         51               1             3  "
      ]
     },
     "execution_count": 29,
     "metadata": {},
     "output_type": "execute_result"
    }
   ],
   "source": [
    "message_stat['extra_messages'] = message_stat['mes_count'] - message_stat['messages_included']\n",
    "message_stat_revenue = message_stat.query('extra_messages > 0').reset_index()\n",
    "message_stat_revenue['revenue, RUB'] = message_stat_revenue['extra_messages'] * message_stat_revenue['rub_per_message']\n",
    "message_stat_revenue.head()"
   ]
  },
  {
   "cell_type": "markdown",
   "metadata": {},
   "source": [
    "##### Интернет"
   ]
  },
  {
   "cell_type": "code",
   "execution_count": 30,
   "metadata": {},
   "outputs": [
    {
     "data": {
      "text/html": [
       "<div>\n",
       "<style scoped>\n",
       "    .dataframe tbody tr th:only-of-type {\n",
       "        vertical-align: middle;\n",
       "    }\n",
       "\n",
       "    .dataframe tbody tr th {\n",
       "        vertical-align: top;\n",
       "    }\n",
       "\n",
       "    .dataframe thead th {\n",
       "        text-align: right;\n",
       "    }\n",
       "</style>\n",
       "<table border=\"1\" class=\"dataframe\">\n",
       "  <thead>\n",
       "    <tr style=\"text-align: right;\">\n",
       "      <th></th>\n",
       "      <th>index</th>\n",
       "      <th>tariff</th>\n",
       "      <th>user_id</th>\n",
       "      <th>mb_per_month_included</th>\n",
       "      <th>rub_per_gb</th>\n",
       "      <th>rub_monthly_fee</th>\n",
       "      <th>city</th>\n",
       "      <th>internet_month</th>\n",
       "      <th>mb_used</th>\n",
       "      <th>extra_gb</th>\n",
       "      <th>revenue, RUB</th>\n",
       "    </tr>\n",
       "  </thead>\n",
       "  <tbody>\n",
       "    <tr>\n",
       "      <td>0</td>\n",
       "      <td>1</td>\n",
       "      <td>smart</td>\n",
       "      <td>1001</td>\n",
       "      <td>15360</td>\n",
       "      <td>200</td>\n",
       "      <td>550</td>\n",
       "      <td>Москва</td>\n",
       "      <td>11</td>\n",
       "      <td>18429.34</td>\n",
       "      <td>3</td>\n",
       "      <td>600</td>\n",
       "    </tr>\n",
       "    <tr>\n",
       "      <td>1</td>\n",
       "      <td>5</td>\n",
       "      <td>smart</td>\n",
       "      <td>1002</td>\n",
       "      <td>15360</td>\n",
       "      <td>200</td>\n",
       "      <td>550</td>\n",
       "      <td>Стерлитамак</td>\n",
       "      <td>7</td>\n",
       "      <td>17580.10</td>\n",
       "      <td>3</td>\n",
       "      <td>600</td>\n",
       "    </tr>\n",
       "    <tr>\n",
       "      <td>2</td>\n",
       "      <td>6</td>\n",
       "      <td>smart</td>\n",
       "      <td>1002</td>\n",
       "      <td>15360</td>\n",
       "      <td>200</td>\n",
       "      <td>550</td>\n",
       "      <td>Стерлитамак</td>\n",
       "      <td>8</td>\n",
       "      <td>20319.26</td>\n",
       "      <td>5</td>\n",
       "      <td>1000</td>\n",
       "    </tr>\n",
       "    <tr>\n",
       "      <td>3</td>\n",
       "      <td>7</td>\n",
       "      <td>smart</td>\n",
       "      <td>1002</td>\n",
       "      <td>15360</td>\n",
       "      <td>200</td>\n",
       "      <td>550</td>\n",
       "      <td>Стерлитамак</td>\n",
       "      <td>9</td>\n",
       "      <td>16691.08</td>\n",
       "      <td>2</td>\n",
       "      <td>400</td>\n",
       "    </tr>\n",
       "    <tr>\n",
       "      <td>4</td>\n",
       "      <td>9</td>\n",
       "      <td>smart</td>\n",
       "      <td>1002</td>\n",
       "      <td>15360</td>\n",
       "      <td>200</td>\n",
       "      <td>550</td>\n",
       "      <td>Стерлитамак</td>\n",
       "      <td>11</td>\n",
       "      <td>18587.28</td>\n",
       "      <td>4</td>\n",
       "      <td>800</td>\n",
       "    </tr>\n",
       "  </tbody>\n",
       "</table>\n",
       "</div>"
      ],
      "text/plain": [
       "   index tariff  user_id  mb_per_month_included  rub_per_gb  rub_monthly_fee  \\\n",
       "0      1  smart     1001                  15360         200              550   \n",
       "1      5  smart     1002                  15360         200              550   \n",
       "2      6  smart     1002                  15360         200              550   \n",
       "3      7  smart     1002                  15360         200              550   \n",
       "4      9  smart     1002                  15360         200              550   \n",
       "\n",
       "          city  internet_month   mb_used  extra_gb  revenue, RUB  \n",
       "0       Москва              11  18429.34         3           600  \n",
       "1  Стерлитамак               7  17580.10         3           600  \n",
       "2  Стерлитамак               8  20319.26         5          1000  \n",
       "3  Стерлитамак               9  16691.08         2           400  \n",
       "4  Стерлитамак              11  18587.28         4           800  "
      ]
     },
     "execution_count": 30,
     "metadata": {},
     "output_type": "execute_result"
    }
   ],
   "source": [
    "MB_IN_GB = 1024\n",
    "internet_stat['extra_gb'] = (internet_stat['mb_used'] - internet_stat['mb_per_month_included']) / MB_IN_GB\n",
    "internet_stat_revenue = internet_stat.query('extra_gb > 0').reset_index()\n",
    "internet_stat_revenue['extra_gb'] = np.ceil(internet_stat_revenue['extra_gb']).astype(int)\n",
    "internet_stat_revenue['revenue, RUB'] = internet_stat_revenue['extra_gb'] * internet_stat_revenue['rub_per_gb']\n",
    "internet_stat_revenue.head()"
   ]
  },
  {
   "cell_type": "markdown",
   "metadata": {},
   "source": [
    "Теперь объединим эти три датасета и посчитаем среднюю выручку за месяц среди тех, кто превышает лимит."
   ]
  },
  {
   "cell_type": "code",
   "execution_count": 31,
   "metadata": {},
   "outputs": [],
   "source": [
    "full_revenue = call_stat_revenue.merge(message_stat_revenue, on='user_id', how='outer')\n",
    "full_revenue = full_revenue.merge(internet_stat_revenue, on='user_id', how='outer')"
   ]
  },
  {
   "cell_type": "code",
   "execution_count": 32,
   "metadata": {},
   "outputs": [
    {
     "data": {
      "text/html": [
       "<div>\n",
       "<style scoped>\n",
       "    .dataframe tbody tr th:only-of-type {\n",
       "        vertical-align: middle;\n",
       "    }\n",
       "\n",
       "    .dataframe tbody tr th {\n",
       "        vertical-align: top;\n",
       "    }\n",
       "\n",
       "    .dataframe thead th {\n",
       "        text-align: right;\n",
       "    }\n",
       "</style>\n",
       "<table border=\"1\" class=\"dataframe\">\n",
       "  <thead>\n",
       "    <tr style=\"text-align: right;\">\n",
       "      <th></th>\n",
       "      <th>total_revenue, RUB</th>\n",
       "    </tr>\n",
       "    <tr>\n",
       "      <th>user_id</th>\n",
       "      <th></th>\n",
       "    </tr>\n",
       "  </thead>\n",
       "  <tbody>\n",
       "    <tr>\n",
       "      <td>1001</td>\n",
       "      <td>600.0</td>\n",
       "    </tr>\n",
       "    <tr>\n",
       "      <td>1002</td>\n",
       "      <td>680.0</td>\n",
       "    </tr>\n",
       "  </tbody>\n",
       "</table>\n",
       "</div>"
      ],
      "text/plain": [
       "         total_revenue, RUB\n",
       "user_id                    \n",
       "1001                  600.0\n",
       "1002                  680.0"
      ]
     },
     "execution_count": 32,
     "metadata": {},
     "output_type": "execute_result"
    }
   ],
   "source": [
    "full_revenue = full_revenue.fillna(0)\n",
    "full_revenue['total_revenue, RUB'] = full_revenue['revenue, RUB'] + full_revenue['revenue, RUB_x'] + full_revenue['revenue, RUB_y']\n",
    "full_revenue_fixed = full_revenue.loc[:, ['user_id', 'total_revenue, RUB']]\n",
    "full_revenue_fixed = full_revenue_fixed.groupby('user_id').agg('mean')\n",
    "full_revenue_fixed.head(2)"
   ]
  },
  {
   "cell_type": "markdown",
   "metadata": {},
   "source": [
    "Создадим еще один датасет с данными из общей таблицы - с информацией о тарифе, городе и абонентской плате."
   ]
  },
  {
   "cell_type": "code",
   "execution_count": 33,
   "metadata": {},
   "outputs": [],
   "source": [
    "additional_info = (megaline_clients\n",
    "          .groupby(['user_id', 'tariff', 'city', 'rub_monthly_fee'])['first_name']\n",
    "          .agg('count')\n",
    "          .reset_index()\n",
    "         )"
   ]
  },
  {
   "cell_type": "markdown",
   "metadata": {},
   "source": [
    "Объединим два датасета и прибавим к перерасходу абонентскую плату. Получим данные о средней выручке с каждого абонента в месяц."
   ]
  },
  {
   "cell_type": "code",
   "execution_count": 34,
   "metadata": {},
   "outputs": [
    {
     "data": {
      "text/html": [
       "<div>\n",
       "<style scoped>\n",
       "    .dataframe tbody tr th:only-of-type {\n",
       "        vertical-align: middle;\n",
       "    }\n",
       "\n",
       "    .dataframe tbody tr th {\n",
       "        vertical-align: top;\n",
       "    }\n",
       "\n",
       "    .dataframe thead th {\n",
       "        text-align: right;\n",
       "    }\n",
       "</style>\n",
       "<table border=\"1\" class=\"dataframe\">\n",
       "  <thead>\n",
       "    <tr style=\"text-align: right;\">\n",
       "      <th></th>\n",
       "      <th>user_id</th>\n",
       "      <th>tariff</th>\n",
       "      <th>city</th>\n",
       "      <th>rub_monthly_fee</th>\n",
       "      <th>total_revenue, RUB</th>\n",
       "    </tr>\n",
       "  </thead>\n",
       "  <tbody>\n",
       "    <tr>\n",
       "      <td>0</td>\n",
       "      <td>1000</td>\n",
       "      <td>ultra</td>\n",
       "      <td>Краснодар</td>\n",
       "      <td>1950</td>\n",
       "      <td>1950</td>\n",
       "    </tr>\n",
       "    <tr>\n",
       "      <td>1</td>\n",
       "      <td>1001</td>\n",
       "      <td>smart</td>\n",
       "      <td>Москва</td>\n",
       "      <td>550</td>\n",
       "      <td>1150</td>\n",
       "    </tr>\n",
       "    <tr>\n",
       "      <td>2</td>\n",
       "      <td>1002</td>\n",
       "      <td>smart</td>\n",
       "      <td>Стерлитамак</td>\n",
       "      <td>550</td>\n",
       "      <td>1230</td>\n",
       "    </tr>\n",
       "    <tr>\n",
       "      <td>3</td>\n",
       "      <td>1003</td>\n",
       "      <td>ultra</td>\n",
       "      <td>Москва</td>\n",
       "      <td>1950</td>\n",
       "      <td>1950</td>\n",
       "    </tr>\n",
       "    <tr>\n",
       "      <td>4</td>\n",
       "      <td>1004</td>\n",
       "      <td>ultra</td>\n",
       "      <td>Новокузнецк</td>\n",
       "      <td>1950</td>\n",
       "      <td>1950</td>\n",
       "    </tr>\n",
       "    <tr>\n",
       "      <td>...</td>\n",
       "      <td>...</td>\n",
       "      <td>...</td>\n",
       "      <td>...</td>\n",
       "      <td>...</td>\n",
       "      <td>...</td>\n",
       "    </tr>\n",
       "    <tr>\n",
       "      <td>495</td>\n",
       "      <td>1495</td>\n",
       "      <td>ultra</td>\n",
       "      <td>Иркутск</td>\n",
       "      <td>1950</td>\n",
       "      <td>2850</td>\n",
       "    </tr>\n",
       "    <tr>\n",
       "      <td>496</td>\n",
       "      <td>1496</td>\n",
       "      <td>smart</td>\n",
       "      <td>Вологда</td>\n",
       "      <td>550</td>\n",
       "      <td>2568</td>\n",
       "    </tr>\n",
       "    <tr>\n",
       "      <td>497</td>\n",
       "      <td>1497</td>\n",
       "      <td>smart</td>\n",
       "      <td>Челябинск</td>\n",
       "      <td>550</td>\n",
       "      <td>1598</td>\n",
       "    </tr>\n",
       "    <tr>\n",
       "      <td>498</td>\n",
       "      <td>1498</td>\n",
       "      <td>smart</td>\n",
       "      <td>Владикавказ</td>\n",
       "      <td>550</td>\n",
       "      <td>2052</td>\n",
       "    </tr>\n",
       "    <tr>\n",
       "      <td>499</td>\n",
       "      <td>1499</td>\n",
       "      <td>smart</td>\n",
       "      <td>Пермь</td>\n",
       "      <td>550</td>\n",
       "      <td>1418</td>\n",
       "    </tr>\n",
       "  </tbody>\n",
       "</table>\n",
       "<p>500 rows × 5 columns</p>\n",
       "</div>"
      ],
      "text/plain": [
       "     user_id tariff         city  rub_monthly_fee  total_revenue, RUB\n",
       "0       1000  ultra    Краснодар             1950                1950\n",
       "1       1001  smart       Москва              550                1150\n",
       "2       1002  smart  Стерлитамак              550                1230\n",
       "3       1003  ultra       Москва             1950                1950\n",
       "4       1004  ultra  Новокузнецк             1950                1950\n",
       "..       ...    ...          ...              ...                 ...\n",
       "495     1495  ultra      Иркутск             1950                2850\n",
       "496     1496  smart      Вологда              550                2568\n",
       "497     1497  smart    Челябинск              550                1598\n",
       "498     1498  smart  Владикавказ              550                2052\n",
       "499     1499  smart        Пермь              550                1418\n",
       "\n",
       "[500 rows x 5 columns]"
      ]
     },
     "execution_count": 34,
     "metadata": {},
     "output_type": "execute_result"
    }
   ],
   "source": [
    "final_revenue = additional_info.merge(full_revenue_fixed, on='user_id',how='outer')\n",
    "final_revenue = final_revenue.fillna(0)\n",
    "final_revenue['total_revenue, RUB'] = final_revenue['total_revenue, RUB'].astype(int) + final_revenue['rub_monthly_fee'].astype(int)\n",
    "final_revenue.drop('first_name', axis='columns', inplace=True)\n",
    "final_revenue"
   ]
  },
  {
   "cell_type": "markdown",
   "metadata": {},
   "source": [
    "Сгруппируем таблицу по тарифам для удобства анализа."
   ]
  },
  {
   "cell_type": "code",
   "execution_count": 35,
   "metadata": {},
   "outputs": [],
   "source": [
    "smart_revenue = final_revenue.query('tariff == \"smart\"')\n",
    "ultra_revenue = final_revenue.query('tariff == \"ultra\"')"
   ]
  },
  {
   "cell_type": "markdown",
   "metadata": {},
   "source": [
    "**Вывод:** Привели данные к нужным типам, нашли и исправили ошибки. Сгруппировали данные в 3 таблицы: `call_stat_revenue`, `message_stat_revenue`, `internet_stat_revenue`, посчитали помесячную выручку с каждого пользователя. Создали датасеты со средней выручкой в месяц в зависимости от тарифа."
   ]
  },
  {
   "cell_type": "markdown",
   "metadata": {},
   "source": [
    "## Шаг 3. Проанализируем данные"
   ]
  },
  {
   "cell_type": "markdown",
   "metadata": {},
   "source": [
    "Опишем поведение клиентов оператора, исходя из выборки. Сколько минут разговора, сколько сообщений и какой объём интернет-трафика требуется пользователям каждого тарифа в месяц? Посчитаем среднее количество, дисперсию и стандартное отклонение. Построим гистограммы и опишем распределения."
   ]
  },
  {
   "cell_type": "markdown",
   "metadata": {},
   "source": [
    "##### Звонки"
   ]
  },
  {
   "cell_type": "code",
   "execution_count": 36,
   "metadata": {},
   "outputs": [],
   "source": [
    "smart_call_stat = call_stat.query('tariff == \"smart\"')\n",
    "smart_call_stat_grouped = smart_call_stat.groupby('call_month')['sum'].agg('mean')"
   ]
  },
  {
   "cell_type": "markdown",
   "metadata": {},
   "source": [
    "Количество пользователей в январе меньше, чем, например, в июне. Поэтому для расчетов взяли не сумму по пользователям в каждом месяце, а среднее."
   ]
  },
  {
   "cell_type": "code",
   "execution_count": 37,
   "metadata": {},
   "outputs": [
    {
     "data": {
      "text/plain": [
       "365.8792496118162"
      ]
     },
     "execution_count": 37,
     "metadata": {},
     "output_type": "execute_result"
    }
   ],
   "source": [
    "#посчитаем среднее количество минут\n",
    "smart_call_stat_grouped.mean()"
   ]
  },
  {
   "cell_type": "code",
   "execution_count": 38,
   "metadata": {},
   "outputs": [
    {
     "data": {
      "text/plain": [
       "4682.620477032994"
      ]
     },
     "execution_count": 38,
     "metadata": {},
     "output_type": "execute_result"
    }
   ],
   "source": [
    "#посчитаем дисперсию\n",
    "np.var(smart_call_stat_grouped, ddof=1)"
   ]
  },
  {
   "cell_type": "code",
   "execution_count": 39,
   "metadata": {},
   "outputs": [
    {
     "data": {
      "text/plain": [
       "68.42967541230189"
      ]
     },
     "execution_count": 39,
     "metadata": {},
     "output_type": "execute_result"
    }
   ],
   "source": [
    "#посчитаем стандартное отклонение\n",
    "np.std(smart_call_stat_grouped, ddof=1)"
   ]
  },
  {
   "cell_type": "markdown",
   "metadata": {},
   "source": [
    "Применим правило трёх сигм и узнаем, в каком промежутке лежат интересующие нас данные."
   ]
  },
  {
   "cell_type": "code",
   "execution_count": 40,
   "metadata": {},
   "outputs": [
    {
     "data": {
      "text/plain": [
       "160.59022337491052"
      ]
     },
     "execution_count": 40,
     "metadata": {},
     "output_type": "execute_result"
    }
   ],
   "source": [
    "smart_call_stat_grouped.mean() - 3*np.std(smart_call_stat_grouped, ddof=1)"
   ]
  },
  {
   "cell_type": "code",
   "execution_count": 41,
   "metadata": {},
   "outputs": [
    {
     "data": {
      "text/plain": [
       "571.1682758487218"
      ]
     },
     "execution_count": 41,
     "metadata": {},
     "output_type": "execute_result"
    }
   ],
   "source": [
    "smart_call_stat_grouped.mean() + 3*np.std(smart_call_stat_grouped, ddof=1)"
   ]
  },
  {
   "cell_type": "code",
   "execution_count": 42,
   "metadata": {},
   "outputs": [
    {
     "data": {
      "text/plain": [
       "array([[<matplotlib.axes._subplots.AxesSubplot object at 0x7f491812ba50>]],\n",
       "      dtype=object)"
      ]
     },
     "execution_count": 42,
     "metadata": {},
     "output_type": "execute_result"
    },
    {
     "data": {
      "image/png": "[encoded data removed]",
      "text/plain": [
       "<Figure size 432x288 with 1 Axes>"
      ]
     },
     "metadata": {
      "needs_background": "light"
     },
     "output_type": "display_data"
    }
   ],
   "source": [
    "smart_call_stat.hist('sum', bins=20)"
   ]
  },
  {
   "cell_type": "markdown",
   "metadata": {},
   "source": [
    "Распределение гистограммы можно назвать нормальным, видно, что большая часть значений действительно лежит в промежутке, который мы выявили ранее. Абсолютное большинство абонентов тарифа `smart` используют от 350 до 550 минут звонков в месяц."
   ]
  },
  {
   "cell_type": "code",
   "execution_count": 43,
   "metadata": {},
   "outputs": [
    {
     "data": {
      "text/plain": [
       "482.60044758565135"
      ]
     },
     "execution_count": 43,
     "metadata": {},
     "output_type": "execute_result"
    }
   ],
   "source": [
    "ultra_call_stat = call_stat.query('tariff == \"ultra\"')\n",
    "ultra_call_stat_grouped = ultra_call_stat.groupby('call_month')['sum'].agg('mean')\n",
    "#посчитаем среднее количество минут\n",
    "ultra_call_stat_grouped.mean()"
   ]
  },
  {
   "cell_type": "code",
   "execution_count": 44,
   "metadata": {},
   "outputs": [
    {
     "data": {
      "text/plain": [
       "6390.285552292619"
      ]
     },
     "execution_count": 44,
     "metadata": {},
     "output_type": "execute_result"
    }
   ],
   "source": [
    "#дисперсию\n",
    "np.var(ultra_call_stat_grouped, ddof=1)"
   ]
  },
  {
   "cell_type": "code",
   "execution_count": 45,
   "metadata": {},
   "outputs": [
    {
     "data": {
      "text/plain": [
       "79.93926164465506"
      ]
     },
     "execution_count": 45,
     "metadata": {},
     "output_type": "execute_result"
    }
   ],
   "source": [
    "#среднее отклонение\n",
    "np.std(ultra_call_stat_grouped, ddof=1)"
   ]
  },
  {
   "cell_type": "code",
   "execution_count": 46,
   "metadata": {},
   "outputs": [
    {
     "data": {
      "text/plain": [
       "array([[<matplotlib.axes._subplots.AxesSubplot object at 0x7f4917918990>]],\n",
       "      dtype=object)"
      ]
     },
     "execution_count": 46,
     "metadata": {},
     "output_type": "execute_result"
    },
    {
     "data": {
      "image/png": "[encoded data removed]",
      "text/plain": [
       "<Figure size 432x288 with 1 Axes>"
      ]
     },
     "metadata": {
      "needs_background": "light"
     },
     "output_type": "display_data"
    }
   ],
   "source": [
    "ultra_call_stat.hist('sum', bins=20)"
   ]
  },
  {
   "cell_type": "markdown",
   "metadata": {},
   "source": [
    "Гистограмма скошена вправо. Это говорит о том, что значение медианы меньше среднего, значит, есть ряд высоких значений, которые влияют на среднее, но не влияют на медиану. Видим, что основная масса пользователей использует 400-550 минут в месяц."
   ]
  },
  {
   "cell_type": "markdown",
   "metadata": {},
   "source": [
    "**Пользователи `smart` тарифа используют всего немного меньшее количество минут в месяц, чем пользователи `ultra`. Скорее всего, пользователи `ultra` выбирают этот тариф не из-за количества минут, а по другим причинам. Однако, распределение на гистограммах неодинаковое и можно заметить, что есть ряд пользователей `ultra`, которые всё-таки используют большее количество минут по назначению, хотя никто и не достигает лимита в 3000 минут.**"
   ]
  },
  {
   "cell_type": "markdown",
   "metadata": {},
   "source": [
    "##### Сообщения"
   ]
  },
  {
   "cell_type": "code",
   "execution_count": 47,
   "metadata": {},
   "outputs": [
    {
     "data": {
      "text/plain": [
       "36.2627302785857"
      ]
     },
     "execution_count": 47,
     "metadata": {},
     "output_type": "execute_result"
    }
   ],
   "source": [
    "smart_message_stat = message_stat.query('tariff == \"smart\"')\n",
    "smart_message_stat_grouped = smart_message_stat.groupby('message_month')['mes_count'].agg('mean')\n",
    "\n",
    "#посчитаем среднее количество сообщений в месяц для пользователей smart\n",
    "smart_message_stat_grouped.mean()"
   ]
  },
  {
   "cell_type": "code",
   "execution_count": 48,
   "metadata": {},
   "outputs": [
    {
     "data": {
      "text/plain": [
       "38.80668503759196"
      ]
     },
     "execution_count": 48,
     "metadata": {},
     "output_type": "execute_result"
    }
   ],
   "source": [
    "#посчитаем дисперсию\n",
    "np.var(smart_message_stat_grouped, ddof=1)"
   ]
  },
  {
   "cell_type": "code",
   "execution_count": 49,
   "metadata": {},
   "outputs": [
    {
     "data": {
      "text/plain": [
       "6.229501186900277"
      ]
     },
     "execution_count": 49,
     "metadata": {},
     "output_type": "execute_result"
    }
   ],
   "source": [
    "#стандартное отклонение\n",
    "np.std(smart_message_stat_grouped, ddof=1)"
   ]
  },
  {
   "cell_type": "code",
   "execution_count": 50,
   "metadata": {},
   "outputs": [
    {
     "data": {
      "text/plain": [
       "array([[<matplotlib.axes._subplots.AxesSubplot object at 0x7f4916d4f7d0>]],\n",
       "      dtype=object)"
      ]
     },
     "execution_count": 50,
     "metadata": {},
     "output_type": "execute_result"
    },
    {
     "data": {
      "image/png": "[encoded data removed]",
      "text/plain": [
       "<Figure size 432x288 with 1 Axes>"
      ]
     },
     "metadata": {
      "needs_background": "light"
     },
     "output_type": "display_data"
    }
   ],
   "source": [
    "smart_message_stat.hist('mes_count')"
   ]
  },
  {
   "cell_type": "markdown",
   "metadata": {},
   "source": [
    "Гистограмма скошена вправо - среднее больше медианы. Получается, хотя большинство пользователей используют сообщения в рамках лимита - **50** -  всё же есть те, кто значительно превышает лимит, тем самым принося выручку компании."
   ]
  },
  {
   "cell_type": "code",
   "execution_count": 51,
   "metadata": {},
   "outputs": [
    {
     "data": {
      "text/plain": [
       "55.169628669643124"
      ]
     },
     "execution_count": 51,
     "metadata": {},
     "output_type": "execute_result"
    }
   ],
   "source": [
    "ultra_message_stat = message_stat.query('tariff == \"ultra\"')\n",
    "ultra_message_stat_grouped = ultra_message_stat.groupby('message_month')['mes_count'].agg('mean')\n",
    "\n",
    "#посчитаем среднее количество сообщений в месяц для пользователей smart\n",
    "ultra_message_stat_grouped.mean()"
   ]
  },
  {
   "cell_type": "code",
   "execution_count": 52,
   "metadata": {},
   "outputs": [
    {
     "data": {
      "text/plain": [
       "145.0245868769887"
      ]
     },
     "execution_count": 52,
     "metadata": {},
     "output_type": "execute_result"
    }
   ],
   "source": [
    "#дисперсию\n",
    "np.var(ultra_message_stat_grouped, ddof=1)"
   ]
  },
  {
   "cell_type": "code",
   "execution_count": 53,
   "metadata": {},
   "outputs": [
    {
     "data": {
      "text/plain": [
       "12.042615450017022"
      ]
     },
     "execution_count": 53,
     "metadata": {},
     "output_type": "execute_result"
    }
   ],
   "source": [
    "#среднее отклонение\n",
    "np.std(ultra_message_stat_grouped, ddof=1)"
   ]
  },
  {
   "cell_type": "code",
   "execution_count": 54,
   "metadata": {},
   "outputs": [
    {
     "data": {
      "text/plain": [
       "array([[<matplotlib.axes._subplots.AxesSubplot object at 0x7f4916c5d750>]],\n",
       "      dtype=object)"
      ]
     },
     "execution_count": 54,
     "metadata": {},
     "output_type": "execute_result"
    },
    {
     "data": {
      "image/png": "[encoded data removed]",
      "text/plain": [
       "<Figure size 432x288 with 1 Axes>"
      ]
     },
     "metadata": {
      "needs_background": "light"
     },
     "output_type": "display_data"
    }
   ],
   "source": [
    "ultra_message_stat.hist('mes_count')"
   ]
  },
  {
   "cell_type": "markdown",
   "metadata": {},
   "source": [
    "Гистограмма здесь также скошена вправо - среднее больше медианы."
   ]
  },
  {
   "cell_type": "markdown",
   "metadata": {},
   "source": [
    "**Кажется, основная масса пользователей `ultra` использует еще меньше сообщений, чем в `smart`. Однако, опять-таки, есть и те, кто отправляет 100 и больше сообщений. Но лимита в 1000 сообщений не достигает никто.**"
   ]
  },
  {
   "cell_type": "markdown",
   "metadata": {},
   "source": [
    "##### Интернет"
   ]
  },
  {
   "cell_type": "code",
   "execution_count": 55,
   "metadata": {},
   "outputs": [
    {
     "data": {
      "text/plain": [
       "15064.321732990802"
      ]
     },
     "execution_count": 55,
     "metadata": {},
     "output_type": "execute_result"
    }
   ],
   "source": [
    "smart_internet_stat = internet_stat.query('tariff == \"smart\"')\n",
    "smart_internet_stat_grouped = smart_internet_stat.groupby('internet_month')['mb_used'].agg('mean')\n",
    "\n",
    "#посчитаем среднее количество сообщений в месяц для пользователей smart\n",
    "smart_internet_stat_grouped.mean()"
   ]
  },
  {
   "cell_type": "code",
   "execution_count": 56,
   "metadata": {},
   "outputs": [
    {
     "data": {
      "text/plain": [
       "7155776.26325804"
      ]
     },
     "execution_count": 56,
     "metadata": {},
     "output_type": "execute_result"
    }
   ],
   "source": [
    "#дисперсию\n",
    "np.var(smart_internet_stat_grouped, ddof=1)"
   ]
  },
  {
   "cell_type": "code",
   "execution_count": 57,
   "metadata": {},
   "outputs": [
    {
     "data": {
      "text/plain": [
       "2675.0282733567583"
      ]
     },
     "execution_count": 57,
     "metadata": {},
     "output_type": "execute_result"
    }
   ],
   "source": [
    "#среднее отклонение\n",
    "np.std(smart_internet_stat_grouped, ddof=1)"
   ]
  },
  {
   "cell_type": "code",
   "execution_count": 58,
   "metadata": {},
   "outputs": [
    {
     "data": {
      "text/plain": [
       "array([[<matplotlib.axes._subplots.AxesSubplot object at 0x7f4916bf7710>]],\n",
       "      dtype=object)"
      ]
     },
     "execution_count": 58,
     "metadata": {},
     "output_type": "execute_result"
    },
    {
     "data": {
      "image/png": "[encoded data removed]",
      "text/plain": [
       "<Figure size 432x288 with 1 Axes>"
      ]
     },
     "metadata": {
      "needs_background": "light"
     },
     "output_type": "display_data"
    }
   ],
   "source": [
    "smart_internet_stat.hist('mb_used')"
   ]
  },
  {
   "cell_type": "markdown",
   "metadata": {},
   "source": [
    "Распределение нормальное, видим, что половина пользователей придерживается крайних значений лимита (15 360 mb), однако вторая половина докупает недостающий трафик. Посмотрим на данные по второму тарифу."
   ]
  },
  {
   "cell_type": "code",
   "execution_count": 59,
   "metadata": {},
   "outputs": [
    {
     "data": {
      "text/plain": [
       "18426.12630036421"
      ]
     },
     "execution_count": 59,
     "metadata": {},
     "output_type": "execute_result"
    }
   ],
   "source": [
    "ultra_internet_stat = internet_stat.query('tariff == \"ultra\"')\n",
    "ultra_internet_stat_grouped = ultra_internet_stat.groupby('internet_month')['mb_used'].agg('mean')\n",
    "\n",
    "#посчитаем среднее количество сообщений в месяц для пользователей smart\n",
    "ultra_internet_stat_grouped.mean()"
   ]
  },
  {
   "cell_type": "code",
   "execution_count": 60,
   "metadata": {},
   "outputs": [
    {
     "data": {
      "text/plain": [
       "8208798.540690535"
      ]
     },
     "execution_count": 60,
     "metadata": {},
     "output_type": "execute_result"
    }
   ],
   "source": [
    "#дисперсию\n",
    "np.var(ultra_internet_stat_grouped, ddof=1)"
   ]
  },
  {
   "cell_type": "code",
   "execution_count": 61,
   "metadata": {},
   "outputs": [
    {
     "data": {
      "text/plain": [
       "2865.100092612915"
      ]
     },
     "execution_count": 61,
     "metadata": {},
     "output_type": "execute_result"
    }
   ],
   "source": [
    "#среднее отклонение\n",
    "np.std(ultra_internet_stat_grouped, ddof=1)"
   ]
  },
  {
   "cell_type": "code",
   "execution_count": 62,
   "metadata": {},
   "outputs": [
    {
     "data": {
      "text/plain": [
       "array([[<matplotlib.axes._subplots.AxesSubplot object at 0x7f4910885110>]],\n",
       "      dtype=object)"
      ]
     },
     "execution_count": 62,
     "metadata": {},
     "output_type": "execute_result"
    },
    {
     "data": {
      "image/png": "[encoded data removed]",
      "text/plain": [
       "<Figure size 432x288 with 1 Axes>"
      ]
     },
     "metadata": {
      "needs_background": "light"
     },
     "output_type": "display_data"
    }
   ],
   "source": [
    "ultra_internet_stat.hist('mb_used')"
   ]
  },
  {
   "cell_type": "markdown",
   "metadata": {},
   "source": [
    "Здесь становится понятно, почему основная масса пользователей тарифа `ultra` выбирает именно его. Они используют намного больше трафика, чем пользователи `smart`. Если на предыдущей гистограмме после значения 17 тыс. мб данные уходили вниз, то здесь показатели не снижаются до отметки в 30 тысяч мб."
   ]
  },
  {
   "cell_type": "markdown",
   "metadata": {},
   "source": [
    "**Пользователи тарифа `ultra` используют гораздо больше трафика, чем пользователи более дешевого тарифа. Можно предположить, что те, кто выбирает тариф `ultra` заинтересованы именно в более активном пользовании интернетом.**"
   ]
  },
  {
   "cell_type": "markdown",
   "metadata": {},
   "source": [
    "**Вывод:**\n",
    "\n",
    "**Пользователи `smart` тарифа используют чуть меньшее количество минут звонков и сообщений в месяц, чем пользователи `ultra`. Лимита на звонки и минуты в `ultra` в среднем не достигает никто. При этом интернетом пользователи `ultra` пользуются гораздо активнее. Скорее всего, пользователи `ultra` выбирают этот тариф из-за большего интернет-трафика.**"
   ]
  },
  {
   "cell_type": "markdown",
   "metadata": {},
   "source": [
    "## Шаг 4. Проверим гипотезы"
   ]
  },
  {
   "cell_type": "markdown",
   "metadata": {},
   "source": [
    "#### 1. Средняя выручка пользователей тарифов «Ультра» и «Смарт» различается"
   ]
  },
  {
   "cell_type": "markdown",
   "metadata": {},
   "source": [
    "Сформулируем нулевую и альтернативную гипотезы. Нулевую гипотезу будем формулировать так, чтобы использовать знак равенства. Альтернативную гипотезу сформулируем оттакливаясь от нулевой гипотезы.\n",
    "\n",
    " - H₀ - средняя выручка пользователей тарифов «Ультра» и «Смарт» равна\n",
    " - H₁ - средняя выручка пользователей тарифов «Ультра» и «Смарт» не равна"
   ]
  },
  {
   "cell_type": "code",
   "execution_count": 63,
   "metadata": {},
   "outputs": [],
   "source": [
    "#зададим критический уровень статистической значимости\n",
    "alpha = .05"
   ]
  },
  {
   "cell_type": "code",
   "execution_count": 67,
   "metadata": {},
   "outputs": [
    {
     "name": "stdout",
     "output_type": "stream",
     "text": [
      "p-значение: 9.379961177730183e-15\n",
      "Отвергаем нулевую гипотезу\n",
      "\n",
      "Средняя выручка в месяц с пользователя тарифа smart - 1627.19\n",
      "Средняя выручка в месяц с пользователя тарифа ultra - 2194.86\n"
     ]
    }
   ],
   "source": [
    "results = st.ttest_ind(\n",
    "    smart_revenue['total_revenue, RUB'],\n",
    "    ultra_revenue['total_revenue, RUB']\n",
    ")\n",
    "\n",
    "print('p-значение:', results.pvalue)\n",
    "\n",
    "if (results.pvalue < alpha):\n",
    "    print(\"Отвергаем нулевую гипотезу\")\n",
    "else:\n",
    "    print(\"Не получилось отвергнуть нулевую гипотезу\")\n",
    "    \n",
    "print()    \n",
    "print('Средняя выручка в месяц с пользователя тарифа smart -', smart_revenue['total_revenue, RUB'].mean().round(2))\n",
    "print('Средняя выручка в месяц с пользователя тарифа ultra -', ultra_revenue['total_revenue, RUB'].mean().round(2))"
   ]
  },
  {
   "cell_type": "markdown",
   "metadata": {},
   "source": [
    "**Отвергаем первую гипотезу. Всё же между выручкой есть разница. По среднему значению видим, что выручка с пользователей тарифа `ultra` больше даже несмотря на то, что тариф выбирают в 2 раза реже.**"
   ]
  },
  {
   "cell_type": "markdown",
   "metadata": {},
   "source": [
    "#### 2. Средняя выручка пользователей из Москвы отличается от выручки пользователей из других регионов"
   ]
  },
  {
   "cell_type": "markdown",
   "metadata": {},
   "source": [
    "Сформулируем нулевую и альтернативную гипотезы:\n",
    "\n",
    "- H₀ - средняя выручка пользователей из Москвы и остальных регионов равна\n",
    "- H₁ - средняя выручка пользователей из Москвы и остальных регионов не равна"
   ]
  },
  {
   "cell_type": "code",
   "execution_count": 65,
   "metadata": {},
   "outputs": [],
   "source": [
    "from_Moscow = final_revenue.query('city == \"Москва\"')\n",
    "not_from_Moscow = final_revenue.query('city != \"Москва\"')"
   ]
  },
  {
   "cell_type": "code",
   "execution_count": 66,
   "metadata": {},
   "outputs": [
    {
     "name": "stdout",
     "output_type": "stream",
     "text": [
      "p-значение: 0.3484968725827755\n",
      "Не получилось отвергнуть нулевую гипотезу\n",
      "\n",
      "Средняя выручка в месяц с пользователя из Москвы 1731.23\n",
      "Средняя выручка в месяц с пользователя не из Москвы 1812.43\n"
     ]
    }
   ],
   "source": [
    "results = st.ttest_ind(\n",
    "    from_Moscow['total_revenue, RUB'],\n",
    "    not_from_Moscow['total_revenue, RUB']\n",
    ")\n",
    "\n",
    "print('p-значение:', results.pvalue)\n",
    "\n",
    "if (results.pvalue < alpha):\n",
    "    print(\"Отвергаем нулевую гипотезу\")\n",
    "else:\n",
    "    print(\"Не получилось отвергнуть нулевую гипотезу\")\n",
    "    \n",
    "print()    \n",
    "print('Средняя выручка в месяц с пользователя из Москвы', from_Moscow['total_revenue, RUB'].mean().round(2))\n",
    "print('Средняя выручка в месяц с пользователя не из Москвы', not_from_Moscow['total_revenue, RUB'].mean().round(2))"
   ]
  },
  {
   "cell_type": "markdown",
   "metadata": {},
   "source": [
    "**Вторую гипотезу отвергнуть не удалось - выручка с пользователей-москвичей и пользователей из других регионов почти равнозначна.**"
   ]
  },
  {
   "cell_type": "markdown",
   "metadata": {},
   "source": [
    "**Вывод:**\n",
    "\n",
    "Проверили 2 гипотезы:\n",
    "1. Средняя выручка пользователей тарифов «Ультра» и «Смарт» равна - **отвергли**\n",
    "2. Средняя выручка пользователей из Москвы равна выручке пользователей из других регионов - **отвергнуть не удалось**"
   ]
  },
  {
   "cell_type": "markdown",
   "metadata": {},
   "source": [
    "## Шаг 5. Общий вывод"
   ]
  },
  {
   "cell_type": "markdown",
   "metadata": {},
   "source": [
    "**В ходе работы:**\n",
    "\n",
    "1. Объединили датасеты в один.\n",
    "\n",
    "2. Привели данные к нужным типам, нашли и исправили ошибки. Создали датасеты со средней выручкой в месяц в зависимости от тарифа.\n",
    "\n",
    "3. Выяснили, что пользователи `smart` тарифа используют чуть меньшее количество минут звонков и сообщений в месяц, чем пользователи `ultra`. Лимита на звонки и минуты в `ultra` в среднем не достигает никто. При этом интернетом пользователи `ultra` пользуются гораздо активнее. Скорее всего, пользователи `ultra` выбирают этот тариф из-за большего интернет-трафика.\n",
    "\n",
    "4. Проверили 2 гипотезы:\n",
    "    - Средняя выручка пользователей тарифов «Ультра» и «Смарт» равна - **отвергли**\n",
    "    - Средняя выручка пользователей из Москвы равна выручке пользователей из других регионов - **отвергнуть не удалось**\n",
    "    \n",
    "**Тариф `ultra` приносит компании бОльшую выручку. Стоит сфокусироваться на его продвижении повсеместно - в Москве и других регионах.**"
   ]
  }
 ],
 "metadata": {
  "kernelspec": {
   "display_name": "Python 3",
   "language": "python",
   "name": "python3"
  },
  "language_info": {
   "codemirror_mode": {
    "name": "ipython",
    "version": 3
   },
   "file_extension": ".py",
   "mimetype": "text/x-python",
   "name": "python",
   "nbconvert_exporter": "python",
   "pygments_lexer": "ipython3",
   "version": "3.7.6"
  }
 },
 "nbformat": 4,
 "nbformat_minor": 2
}
